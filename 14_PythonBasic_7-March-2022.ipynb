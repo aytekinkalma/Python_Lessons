{
 "cells": [
  {
   "cell_type": "markdown",
   "id": "406f2981",
   "metadata": {},
   "source": [
    "<img src=\"https://docs.google.com/uc?id=14xeXxFrVRjvOoUYWn_GuyE-v84wVzrqr\" class=\"img-fluid\" alt=\"CLRWY\" width=\"400\" height=\"200\">"
   ]
  },
  {
   "cell_type": "markdown",
   "id": "22263af8",
   "metadata": {},
   "source": [
    "<h1><p style=\"text-align: center; color:darkblue\">Python In-Class, <br>7 March 2022</p><h1>"
   ]
  },
  {
   "cell_type": "markdown",
   "id": "680d7838",
   "metadata": {},
   "source": [
    "## Armstrong Numbers"
   ]
  },
  {
   "cell_type": "code",
   "execution_count": 1,
   "id": "1182cbe8",
   "metadata": {},
   "outputs": [
    {
     "data": {
      "text/plain": [
       "True"
      ]
     },
     "execution_count": 1,
     "metadata": {},
     "output_type": "execute_result"
    }
   ],
   "source": [
    "\"123\".isdigit()"
   ]
  },
  {
   "cell_type": "code",
   "execution_count": 2,
   "id": "98f0e9c4",
   "metadata": {},
   "outputs": [
    {
     "data": {
      "text/plain": [
       "False"
      ]
     },
     "execution_count": 2,
     "metadata": {},
     "output_type": "execute_result"
    }
   ],
   "source": [
    "\"-123\".isdigit()"
   ]
  },
  {
   "cell_type": "code",
   "execution_count": 3,
   "id": "2613e4f7",
   "metadata": {},
   "outputs": [
    {
     "data": {
      "text/plain": [
       "False"
      ]
     },
     "execution_count": 3,
     "metadata": {},
     "output_type": "execute_result"
    }
   ],
   "source": [
    "\"123,123\".isdigit()"
   ]
  },
  {
   "cell_type": "code",
   "execution_count": 10,
   "id": "5f498d9e",
   "metadata": {},
   "outputs": [
    {
     "name": "stdout",
     "output_type": "stream",
     "text": [
      "Enter a positive integer number :123\n",
      "123  is not an Armstrong Number.\n"
     ]
    }
   ],
   "source": [
    "while True :\n",
    "    \n",
    "    number = input(\"Enter a positive integer number :\")\n",
    "    digits = len(number)\n",
    "    summ = 0\n",
    "    \n",
    "    if not number.isdigit() :\n",
    "        \n",
    "        print(number, \" is invalid entry. Please enter valid input.\")\n",
    "        \n",
    "    elif int(number) >= 0 :\n",
    "        \n",
    "        for i in range(digits) :\n",
    "            \n",
    "            summ = summ + int(number[i]) ** digits\n",
    "            \n",
    "        if summ == int(number) :\n",
    "            print(number, \" is an Armstrong Number.\")\n",
    "            break\n",
    "        else :\n",
    "            print(number, \" is not an Armstrong Number.\")\n",
    "            break\n",
    "    "
   ]
  },
  {
   "cell_type": "markdown",
   "id": "76fc78d4",
   "metadata": {},
   "source": [
    "## Is it a Prime Number?"
   ]
  },
  {
   "cell_type": "code",
   "execution_count": 15,
   "id": "734e9d3f",
   "metadata": {},
   "outputs": [
    {
     "name": "stdout",
     "output_type": "stream",
     "text": [
      "Enter a positive int number to check if it is a Prime Number.37\n",
      "37  is a Prime Number.\n"
     ]
    }
   ],
   "source": [
    "n = int(input(\"Enter a positive int number to check if it is a Prime Number.\"))\n",
    "\n",
    "counter = 0\n",
    "\n",
    "for i in range(1, n+1) :\n",
    "    if n % i == 0 :\n",
    "        counter += 1\n",
    "        \n",
    "if (n == 0) or (n == 1) or (counter >= 3) :\n",
    "    print(n, \" is not a Prime Number.\")\n",
    "    \n",
    "else :\n",
    "    print(n, \" is a Prime Number.\")"
   ]
  },
  {
   "cell_type": "markdown",
   "id": "020bd0c7",
   "metadata": {},
   "source": [
    "# List Comprehension"
   ]
  },
  {
   "cell_type": "markdown",
   "id": "550a2cb0",
   "metadata": {},
   "source": [
    "## List Comprehension'ların Temel Yapısı"
   ]
  },
  {
   "cell_type": "markdown",
   "id": "65c0e4e7",
   "metadata": {},
   "source": [
    "```python\n",
    "\n",
    "for item in iterable :\n",
    "    expression\n",
    "   \n",
    "    \n",
    "[expression for item in iterable]    \n",
    "    \n",
    "```"
   ]
  },
  {
   "cell_type": "code",
   "execution_count": 16,
   "id": "199f088e",
   "metadata": {},
   "outputs": [
    {
     "name": "stdout",
     "output_type": "stream",
     "text": [
      "[0]\n",
      "[0, 1]\n",
      "[0, 1, 2]\n",
      "[0, 1, 2, 3]\n",
      "[0, 1, 2, 3, 4]\n"
     ]
    }
   ],
   "source": [
    "sayılar = []\n",
    "\n",
    "for i in range(5) :\n",
    "    sayılar.append(i)\n",
    "    print(sayılar)"
   ]
  },
  {
   "cell_type": "code",
   "execution_count": null,
   "id": "81d019be",
   "metadata": {},
   "outputs": [],
   "source": [
    "[expression for i in range(5)]"
   ]
  },
  {
   "cell_type": "code",
   "execution_count": 17,
   "id": "e0b80927",
   "metadata": {},
   "outputs": [
    {
     "data": {
      "text/plain": [
       "[0, 1, 2, 3, 4]"
      ]
     },
     "execution_count": 17,
     "metadata": {},
     "output_type": "execute_result"
    }
   ],
   "source": [
    "[i for i in range(5)]"
   ]
  },
  {
   "cell_type": "code",
   "execution_count": 18,
   "id": "6d3bc8de",
   "metadata": {},
   "outputs": [
    {
     "data": {
      "text/plain": [
       "[0, 1, 4, 9, 16]"
      ]
     },
     "execution_count": 18,
     "metadata": {},
     "output_type": "execute_result"
    }
   ],
   "source": [
    "[i**2 for i in range(5)]"
   ]
  },
  {
   "cell_type": "code",
   "execution_count": 19,
   "id": "34114408",
   "metadata": {},
   "outputs": [
    {
     "data": {
      "text/plain": [
       "[0, 2, 4, 6, 8]"
      ]
     },
     "execution_count": 19,
     "metadata": {},
     "output_type": "execute_result"
    }
   ],
   "source": [
    "[i+i for i in range(5)]"
   ]
  },
  {
   "cell_type": "markdown",
   "id": "2904bcee",
   "metadata": {},
   "source": [
    "## Ternary `if` statements"
   ]
  },
  {
   "cell_type": "code",
   "execution_count": 20,
   "id": "78166fd7",
   "metadata": {},
   "outputs": [],
   "source": [
    "my_list = [1, 2, 3, 4, 5, 6]"
   ]
  },
  {
   "cell_type": "code",
   "execution_count": 21,
   "id": "618657c1",
   "metadata": {},
   "outputs": [],
   "source": [
    "new_list = []  # tek olan elemanların karesini bu listenin içinde topla"
   ]
  },
  {
   "cell_type": "code",
   "execution_count": 22,
   "id": "cae398f9",
   "metadata": {},
   "outputs": [
    {
     "name": "stdout",
     "output_type": "stream",
     "text": [
      "hello\n"
     ]
    }
   ],
   "source": [
    "if 1 :\n",
    "    print(\"hello\")"
   ]
  },
  {
   "cell_type": "code",
   "execution_count": 23,
   "id": "270be5a9",
   "metadata": {},
   "outputs": [],
   "source": [
    "for i in my_list :\n",
    "    if i % 2 :\n",
    "        new_list.append(i ** 2)"
   ]
  },
  {
   "cell_type": "code",
   "execution_count": 24,
   "id": "12a8dbdc",
   "metadata": {},
   "outputs": [
    {
     "data": {
      "text/plain": [
       "[1, 9, 25]"
      ]
     },
     "execution_count": 24,
     "metadata": {},
     "output_type": "execute_result"
    }
   ],
   "source": [
    "new_list"
   ]
  },
  {
   "cell_type": "markdown",
   "id": "3c38f86c",
   "metadata": {},
   "source": [
    "Ternary Yapıların formulasyonu :\n",
    "\n",
    "```python\n",
    "\n",
    "if condition :\n",
    "    execute-body1\n",
    "else :\n",
    "    execute-body2\n",
    "   \n",
    "    \n",
    "execute-body1 if condition else execute-body2    \n",
    "```"
   ]
  },
  {
   "cell_type": "code",
   "execution_count": null,
   "id": "d1b7d500",
   "metadata": {},
   "outputs": [],
   "source": []
  },
  {
   "cell_type": "code",
   "execution_count": 27,
   "id": "aa416761",
   "metadata": {},
   "outputs": [
    {
     "name": "stdout",
     "output_type": "stream",
     "text": [
      "0\n"
     ]
    }
   ],
   "source": [
    "condition = False\n",
    "\n",
    "if condition :\n",
    "    a = 1\n",
    "    \n",
    "else :\n",
    "    a = 0\n",
    "    \n",
    "print(a)"
   ]
  },
  {
   "cell_type": "code",
   "execution_count": 28,
   "id": "eb469633",
   "metadata": {},
   "outputs": [
    {
     "data": {
      "text/plain": [
       "0"
      ]
     },
     "execution_count": 28,
     "metadata": {},
     "output_type": "execute_result"
    }
   ],
   "source": [
    "1 if condition else 0"
   ]
  },
  {
   "cell_type": "code",
   "execution_count": 30,
   "id": "00874e89",
   "metadata": {},
   "outputs": [
    {
     "data": {
      "text/plain": [
       "[1, 2, 3, 4, 5, 6]"
      ]
     },
     "execution_count": 30,
     "metadata": {},
     "output_type": "execute_result"
    }
   ],
   "source": [
    "my_list"
   ]
  },
  {
   "cell_type": "code",
   "execution_count": 31,
   "id": "f01ccc76",
   "metadata": {},
   "outputs": [
    {
     "data": {
      "text/plain": [
       "[1, 4, 9, 16, 25, 36]"
      ]
     },
     "execution_count": 31,
     "metadata": {},
     "output_type": "execute_result"
    }
   ],
   "source": [
    "[i ** 2 for i in my_list]"
   ]
  },
  {
   "cell_type": "code",
   "execution_count": 32,
   "id": "d7e90544",
   "metadata": {},
   "outputs": [
    {
     "data": {
      "text/plain": [
       "[1, 9, 25]"
      ]
     },
     "execution_count": 32,
     "metadata": {},
     "output_type": "execute_result"
    }
   ],
   "source": [
    "[i ** 2 for i in my_list if i % 2]"
   ]
  },
  {
   "cell_type": "code",
   "execution_count": 34,
   "id": "e930f00b",
   "metadata": {},
   "outputs": [],
   "source": [
    "çiftler = [i ** 2 for i in my_list if not i % 2]"
   ]
  },
  {
   "cell_type": "code",
   "execution_count": 35,
   "id": "753ccbb2",
   "metadata": {},
   "outputs": [
    {
     "data": {
      "text/plain": [
       "[4, 16, 36]"
      ]
     },
     "execution_count": 35,
     "metadata": {},
     "output_type": "execute_result"
    }
   ],
   "source": [
    "çiftler"
   ]
  },
  {
   "cell_type": "code",
   "execution_count": 36,
   "id": "d8fbbeb5",
   "metadata": {},
   "outputs": [
    {
     "data": {
      "text/plain": [
       "<generator object <genexpr> at 0x7fe36110de40>"
      ]
     },
     "execution_count": 36,
     "metadata": {},
     "output_type": "execute_result"
    }
   ],
   "source": [
    "(i ** 2 for i in range(6))"
   ]
  },
  {
   "cell_type": "code",
   "execution_count": 37,
   "id": "d799b031",
   "metadata": {},
   "outputs": [],
   "source": [
    "generator = (i ** 2 for i in range(6))"
   ]
  },
  {
   "cell_type": "code",
   "execution_count": 38,
   "id": "161d429e",
   "metadata": {},
   "outputs": [
    {
     "data": {
      "text/plain": [
       "[0, 1, 4, 9, 16, 25]"
      ]
     },
     "execution_count": 38,
     "metadata": {},
     "output_type": "execute_result"
    }
   ],
   "source": [
    "list(generator)"
   ]
  },
  {
   "cell_type": "code",
   "execution_count": 39,
   "id": "bf46f375",
   "metadata": {},
   "outputs": [
    {
     "name": "stdout",
     "output_type": "stream",
     "text": [
      "\n"
     ]
    }
   ],
   "source": [
    "print(* generator)"
   ]
  },
  {
   "cell_type": "code",
   "execution_count": 40,
   "id": "0aba188e",
   "metadata": {},
   "outputs": [],
   "source": [
    "generator = (i ** 2 for i in range(6))"
   ]
  },
  {
   "cell_type": "code",
   "execution_count": 41,
   "id": "48c295cc",
   "metadata": {},
   "outputs": [
    {
     "name": "stdout",
     "output_type": "stream",
     "text": [
      "0\n",
      "1\n",
      "4\n",
      "9\n",
      "16\n",
      "25\n"
     ]
    }
   ],
   "source": [
    "for i in generator :\n",
    "    print(i)"
   ]
  },
  {
   "cell_type": "code",
   "execution_count": 42,
   "id": "17a572a5",
   "metadata": {},
   "outputs": [],
   "source": [
    "generator = (i ** 2 for i in range(6))"
   ]
  },
  {
   "cell_type": "code",
   "execution_count": 43,
   "id": "e96c721d",
   "metadata": {},
   "outputs": [
    {
     "data": {
      "text/plain": [
       "<generator object <genexpr> at 0x7fe36137f660>"
      ]
     },
     "execution_count": 43,
     "metadata": {},
     "output_type": "execute_result"
    }
   ],
   "source": [
    "generator"
   ]
  },
  {
   "cell_type": "code",
   "execution_count": 44,
   "id": "a3b3070c",
   "metadata": {},
   "outputs": [
    {
     "name": "stdout",
     "output_type": "stream",
     "text": [
      "0\n"
     ]
    }
   ],
   "source": [
    "print(next(generator))"
   ]
  },
  {
   "cell_type": "code",
   "execution_count": 45,
   "id": "8fbf1c44",
   "metadata": {},
   "outputs": [
    {
     "name": "stdout",
     "output_type": "stream",
     "text": [
      "1\n"
     ]
    }
   ],
   "source": [
    "print(next(generator))"
   ]
  },
  {
   "cell_type": "code",
   "execution_count": 46,
   "id": "5a483cb2",
   "metadata": {},
   "outputs": [
    {
     "name": "stdout",
     "output_type": "stream",
     "text": [
      "4\n"
     ]
    }
   ],
   "source": [
    "print(next(generator))"
   ]
  },
  {
   "cell_type": "code",
   "execution_count": 47,
   "id": "76195e31",
   "metadata": {},
   "outputs": [
    {
     "name": "stdout",
     "output_type": "stream",
     "text": [
      "9\n"
     ]
    }
   ],
   "source": [
    "print(next(generator))"
   ]
  },
  {
   "cell_type": "code",
   "execution_count": 48,
   "id": "543cd20e",
   "metadata": {},
   "outputs": [
    {
     "name": "stdout",
     "output_type": "stream",
     "text": [
      "16\n"
     ]
    }
   ],
   "source": [
    "print(next(generator))"
   ]
  },
  {
   "cell_type": "code",
   "execution_count": 49,
   "id": "829e8a86",
   "metadata": {},
   "outputs": [
    {
     "name": "stdout",
     "output_type": "stream",
     "text": [
      "25\n"
     ]
    }
   ],
   "source": [
    "print(next(generator))"
   ]
  },
  {
   "cell_type": "code",
   "execution_count": 50,
   "id": "7c046520",
   "metadata": {},
   "outputs": [
    {
     "ename": "StopIteration",
     "evalue": "",
     "output_type": "error",
     "traceback": [
      "\u001b[0;31m---------------------------------------------------------------------------\u001b[0m",
      "\u001b[0;31mStopIteration\u001b[0m                             Traceback (most recent call last)",
      "\u001b[0;32m<ipython-input-50-19919da3e769>\u001b[0m in \u001b[0;36m<module>\u001b[0;34m\u001b[0m\n\u001b[0;32m----> 1\u001b[0;31m \u001b[0mprint\u001b[0m\u001b[0;34m(\u001b[0m\u001b[0mnext\u001b[0m\u001b[0;34m(\u001b[0m\u001b[0mgenerator\u001b[0m\u001b[0;34m)\u001b[0m\u001b[0;34m)\u001b[0m\u001b[0;34m\u001b[0m\u001b[0;34m\u001b[0m\u001b[0m\n\u001b[0m",
      "\u001b[0;31mStopIteration\u001b[0m: "
     ]
    }
   ],
   "source": [
    "print(next(generator))"
   ]
  },
  {
   "cell_type": "code",
   "execution_count": 51,
   "id": "51e5e525",
   "metadata": {},
   "outputs": [
    {
     "name": "stdout",
     "output_type": "stream",
     "text": [
      "\n"
     ]
    }
   ],
   "source": [
    "print(*generator)"
   ]
  },
  {
   "cell_type": "code",
   "execution_count": 52,
   "id": "5e3710a7",
   "metadata": {},
   "outputs": [
    {
     "name": "stdout",
     "output_type": "stream",
     "text": [
      "cc\n",
      "ll\n",
      "aa\n",
      "rr\n",
      "uu\n",
      "ss\n",
      "ww\n",
      "aa\n",
      "yy\n"
     ]
    }
   ],
   "source": [
    "harfler = (i*2 for i in \"clarusway\")\n",
    "for i in harfler :\n",
    "    print(i)"
   ]
  },
  {
   "cell_type": "code",
   "execution_count": null,
   "id": "e05da85b",
   "metadata": {},
   "outputs": [],
   "source": []
  }
 ],
 "metadata": {
  "kernelspec": {
   "display_name": "Python 3",
   "language": "python",
   "name": "python3"
  },
  "language_info": {
   "codemirror_mode": {
    "name": "ipython",
    "version": 3
   },
   "file_extension": ".py",
   "mimetype": "text/x-python",
   "name": "python",
   "nbconvert_exporter": "python",
   "pygments_lexer": "ipython3",
   "version": "3.8.8"
  }
 },
 "nbformat": 4,
 "nbformat_minor": 5
}
