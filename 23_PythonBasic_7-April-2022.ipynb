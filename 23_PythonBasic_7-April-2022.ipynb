{
 "cells": [
  {
   "cell_type": "markdown",
   "id": "406f2981",
   "metadata": {},
   "source": [
    "<img src=\"https://docs.google.com/uc?id=14xeXxFrVRjvOoUYWn_GuyE-v84wVzrqr\" class=\"img-fluid\" alt=\"CLRWY\" width=\"400\" height=\"200\">"
   ]
  },
  {
   "cell_type": "markdown",
   "id": "22263af8",
   "metadata": {},
   "source": [
    "<h1><p style=\"text-align: center; color:darkblue\">Python + In-Class, <br>7 April 2022</p><h1>\n",
    "    \n",
    "<h1><p style=\"text-align: center; color:red\">the End</p><h1>"
   ]
  },
  {
   "cell_type": "markdown",
   "id": "a6fb00be",
   "metadata": {},
   "source": [
    "## Given a list such `[1, 2, 3]` get an all possible output combinations"
   ]
  },
  {
   "cell_type": "markdown",
   "id": "ae3a24d0",
   "metadata": {},
   "source": [
    "Output:\n",
    "```\n",
    "[\n",
    "  [1,2,3],\n",
    "  [1,3,2],\n",
    "  [2,1,3],\n",
    "  [2,3,1],\n",
    "  [3,1,2],\n",
    "  [3,2,1]\n",
    "]```"
   ]
  },
  {
   "cell_type": "code",
   "execution_count": 2,
   "id": "2bd297c1",
   "metadata": {},
   "outputs": [],
   "source": [
    "x = [([1], [2,3], [4,5,6])]"
   ]
  },
  {
   "cell_type": "code",
   "execution_count": 3,
   "id": "09994194",
   "metadata": {},
   "outputs": [],
   "source": [
    "# [1,2,3,4,5,6]"
   ]
  },
  {
   "cell_type": "code",
   "execution_count": 4,
   "id": "efc89eb9",
   "metadata": {},
   "outputs": [
    {
     "data": {
      "text/plain": [
       "[1, 2, 3, 4, 5, 6]"
      ]
     },
     "execution_count": 4,
     "metadata": {},
     "output_type": "execute_result"
    }
   ],
   "source": [
    "a = []\n",
    "\n",
    "for i in x :\n",
    "    for j in i :\n",
    "        for z in j:\n",
    "            a.append(z)\n",
    "a"
   ]
  },
  {
   "cell_type": "code",
   "execution_count": 5,
   "id": "31c7c7c7",
   "metadata": {},
   "outputs": [
    {
     "data": {
      "text/plain": [
       "[0, 1, 2, 3, 4]"
      ]
     },
     "execution_count": 5,
     "metadata": {},
     "output_type": "execute_result"
    }
   ],
   "source": [
    "[i for i in range(5)]"
   ]
  },
  {
   "cell_type": "code",
   "execution_count": 6,
   "id": "4601b3c6",
   "metadata": {},
   "outputs": [
    {
     "data": {
      "text/plain": [
       "['elma', 'armut', 'muz']"
      ]
     },
     "execution_count": 6,
     "metadata": {},
     "output_type": "execute_result"
    }
   ],
   "source": [
    "xList = \"elma armut muz\".split()\n",
    "xList"
   ]
  },
  {
   "cell_type": "code",
   "execution_count": 7,
   "id": "4e6a0f91",
   "metadata": {},
   "outputs": [
    {
     "data": {
      "text/plain": [
       "['selvi', 'vahit', 'ayşe']"
      ]
     },
     "execution_count": 7,
     "metadata": {},
     "output_type": "execute_result"
    }
   ],
   "source": [
    "yList = \"selvi vahit ayşe\".split()\n",
    "yList"
   ]
  },
  {
   "cell_type": "code",
   "execution_count": 8,
   "id": "e8288f51",
   "metadata": {},
   "outputs": [
    {
     "data": {
      "text/plain": [
       "['elmaselvi',\n",
       " 'elmavahit',\n",
       " 'elmaayşe',\n",
       " 'armutselvi',\n",
       " 'armutvahit',\n",
       " 'armutayşe',\n",
       " 'muzselvi',\n",
       " 'muzvahit',\n",
       " 'muzayşe']"
      ]
     },
     "execution_count": 8,
     "metadata": {},
     "output_type": "execute_result"
    }
   ],
   "source": [
    "result = []\n",
    "\n",
    "for i in xList :\n",
    "    for j in yList :\n",
    "        result.append(i + j)\n",
    "        \n",
    "result"
   ]
  },
  {
   "cell_type": "code",
   "execution_count": null,
   "id": "11ce4959",
   "metadata": {},
   "outputs": [],
   "source": [
    "#[code_block for i in xList for j in yList]"
   ]
  },
  {
   "cell_type": "code",
   "execution_count": 9,
   "id": "24851149",
   "metadata": {},
   "outputs": [
    {
     "data": {
      "text/plain": [
       "['elmaselvi',\n",
       " 'elmavahit',\n",
       " 'elmaayşe',\n",
       " 'armutselvi',\n",
       " 'armutvahit',\n",
       " 'armutayşe',\n",
       " 'muzselvi',\n",
       " 'muzvahit',\n",
       " 'muzayşe']"
      ]
     },
     "execution_count": 9,
     "metadata": {},
     "output_type": "execute_result"
    }
   ],
   "source": [
    "[i + j for i in xList for j in yList]"
   ]
  },
  {
   "cell_type": "code",
   "execution_count": 10,
   "id": "b483db82",
   "metadata": {},
   "outputs": [
    {
     "data": {
      "text/plain": [
       "[['elmaselvi'],\n",
       " ['elmavahit'],\n",
       " ['elmaayşe'],\n",
       " ['armutselvi'],\n",
       " ['armutvahit'],\n",
       " ['armutayşe'],\n",
       " ['muzselvi'],\n",
       " ['muzvahit'],\n",
       " ['muzayşe']]"
      ]
     },
     "execution_count": 10,
     "metadata": {},
     "output_type": "execute_result"
    }
   ],
   "source": [
    "[[i + j] for i in xList for j in yList]"
   ]
  },
  {
   "cell_type": "code",
   "execution_count": 11,
   "id": "131f31cc",
   "metadata": {},
   "outputs": [
    {
     "data": {
      "text/plain": [
       "[{'elma': 'selvi'},\n",
       " {'elma': 'vahit'},\n",
       " {'elma': 'ayşe'},\n",
       " {'armut': 'selvi'},\n",
       " {'armut': 'vahit'},\n",
       " {'armut': 'ayşe'},\n",
       " {'muz': 'selvi'},\n",
       " {'muz': 'vahit'},\n",
       " {'muz': 'ayşe'}]"
      ]
     },
     "execution_count": 11,
     "metadata": {},
     "output_type": "execute_result"
    }
   ],
   "source": [
    "[{i:j} for i in xList for j in yList]"
   ]
  },
  {
   "cell_type": "code",
   "execution_count": 12,
   "id": "dffe0517",
   "metadata": {},
   "outputs": [
    {
     "data": {
      "text/plain": [
       "['0 --> bir',\n",
       " '0 --> iki',\n",
       " '0 --> üç',\n",
       " '2 --> bir',\n",
       " '2 --> iki',\n",
       " '2 --> üç',\n",
       " '4 --> bir',\n",
       " '4 --> iki',\n",
       " '4 --> üç']"
      ]
     },
     "execution_count": 12,
     "metadata": {},
     "output_type": "execute_result"
    }
   ],
   "source": [
    "result = []\n",
    "\n",
    "sayılar = [\"bir\", \"iki\", \"üç\"]\n",
    "\n",
    "for i in range(5) :\n",
    "    if i % 2 == 0 :\n",
    "        for j in sayılar :\n",
    "            result.append(str(i) + \" --> \" + j)\n",
    "result"
   ]
  },
  {
   "cell_type": "code",
   "execution_count": 13,
   "id": "9babf727",
   "metadata": {},
   "outputs": [
    {
     "data": {
      "text/plain": [
       "['0 --> bir',\n",
       " '0 --> iki',\n",
       " '0 --> üç',\n",
       " '2 --> bir',\n",
       " '2 --> iki',\n",
       " '2 --> üç',\n",
       " '4 --> bir',\n",
       " '4 --> iki',\n",
       " '4 --> üç']"
      ]
     },
     "execution_count": 13,
     "metadata": {},
     "output_type": "execute_result"
    }
   ],
   "source": [
    "[str(i) + \" --> \" + j for i in range(5) for j in sayılar if i % 2 == 0]"
   ]
  },
  {
   "cell_type": "markdown",
   "id": "ece5a37f",
   "metadata": {},
   "source": [
    "```\n",
    "[\n",
    "  [1,2,3],\n",
    "  [1,3,2],\n",
    "  [2,1,3],\n",
    "  [2,3,1],\n",
    "  [3,1,2],\n",
    "  [3,2,1]\n",
    "]\n",
    "```"
   ]
  },
  {
   "cell_type": "code",
   "execution_count": 14,
   "id": "ad82083d",
   "metadata": {},
   "outputs": [],
   "source": [
    "solution = [[]]"
   ]
  },
  {
   "cell_type": "code",
   "execution_count": null,
   "id": "fb37f0d6",
   "metadata": {},
   "outputs": [],
   "source": [
    "# solution-1 = [[1], [2], [3]]\n",
    "\n",
    "# solution-2 = [[1, 2], [1, 3], [2, 1], [2, 3], [3, 1], [3, 2]]\n",
    "\n",
    "# solution-3 = [[1, 2, 3], [1, 3, 2], [2, 1, 3], [2, 3, 1], [3, 1, 2], [3, 2, 1]]"
   ]
  },
  {
   "cell_type": "code",
   "execution_count": 15,
   "id": "4931f976",
   "metadata": {},
   "outputs": [
    {
     "name": "stdout",
     "output_type": "stream",
     "text": [
      "[]\n"
     ]
    }
   ],
   "source": [
    "for i in solution :\n",
    "    print(i)"
   ]
  },
  {
   "cell_type": "code",
   "execution_count": 16,
   "id": "97024bd7",
   "metadata": {},
   "outputs": [
    {
     "data": {
      "text/plain": [
       "1"
      ]
     },
     "execution_count": 16,
     "metadata": {},
     "output_type": "execute_result"
    }
   ],
   "source": [
    "len(solution)"
   ]
  },
  {
   "cell_type": "code",
   "execution_count": 17,
   "id": "da401aa4",
   "metadata": {},
   "outputs": [],
   "source": [
    "num = [1, 2, 3]"
   ]
  },
  {
   "cell_type": "code",
   "execution_count": 18,
   "id": "8aba028d",
   "metadata": {},
   "outputs": [
    {
     "data": {
      "text/plain": [
       "{1, 2, 3}"
      ]
     },
     "execution_count": 18,
     "metadata": {},
     "output_type": "execute_result"
    }
   ],
   "source": [
    "num_set = set(num)\n",
    "num_set"
   ]
  },
  {
   "cell_type": "code",
   "execution_count": 19,
   "id": "edf594ef",
   "metadata": {},
   "outputs": [
    {
     "data": {
      "text/plain": [
       "set()"
      ]
     },
     "execution_count": 19,
     "metadata": {},
     "output_type": "execute_result"
    }
   ],
   "source": [
    "set([])"
   ]
  },
  {
   "cell_type": "code",
   "execution_count": 20,
   "id": "ef491070",
   "metadata": {},
   "outputs": [
    {
     "data": {
      "text/plain": [
       "set()"
      ]
     },
     "execution_count": 20,
     "metadata": {},
     "output_type": "execute_result"
    }
   ],
   "source": [
    "set_bos_list = set([])\n",
    "set_bos_list"
   ]
  },
  {
   "cell_type": "code",
   "execution_count": 21,
   "id": "215f7209",
   "metadata": {},
   "outputs": [
    {
     "data": {
      "text/plain": [
       "{1, 2, 3}"
      ]
     },
     "execution_count": 21,
     "metadata": {},
     "output_type": "execute_result"
    }
   ],
   "source": [
    "num_set"
   ]
  },
  {
   "cell_type": "code",
   "execution_count": 22,
   "id": "0c67eec9",
   "metadata": {},
   "outputs": [
    {
     "data": {
      "text/plain": [
       "{1, 2, 3}"
      ]
     },
     "execution_count": 22,
     "metadata": {},
     "output_type": "execute_result"
    }
   ],
   "source": [
    "num_set - set_bos_list"
   ]
  },
  {
   "cell_type": "code",
   "execution_count": 23,
   "id": "4c87da4e",
   "metadata": {},
   "outputs": [
    {
     "data": {
      "text/plain": [
       "{2, 3}"
      ]
     },
     "execution_count": 23,
     "metadata": {},
     "output_type": "execute_result"
    }
   ],
   "source": [
    "num_set - set([1])"
   ]
  },
  {
   "cell_type": "code",
   "execution_count": 24,
   "id": "5f9432d0",
   "metadata": {},
   "outputs": [
    {
     "data": {
      "text/plain": [
       "{1, 3}"
      ]
     },
     "execution_count": 24,
     "metadata": {},
     "output_type": "execute_result"
    }
   ],
   "source": [
    "num_set - set([2])"
   ]
  },
  {
   "cell_type": "code",
   "execution_count": 25,
   "id": "c80eed2b",
   "metadata": {},
   "outputs": [
    {
     "data": {
      "text/plain": [
       "{3}"
      ]
     },
     "execution_count": 25,
     "metadata": {},
     "output_type": "execute_result"
    }
   ],
   "source": [
    "num_set - set([1, 2])"
   ]
  },
  {
   "cell_type": "code",
   "execution_count": 26,
   "id": "4cb9a272",
   "metadata": {},
   "outputs": [
    {
     "data": {
      "text/plain": [
       "[1, 2, 3]"
      ]
     },
     "execution_count": 26,
     "metadata": {},
     "output_type": "execute_result"
    }
   ],
   "source": [
    "[1] + [2, 3]"
   ]
  },
  {
   "cell_type": "code",
   "execution_count": 27,
   "id": "9792ca5f",
   "metadata": {},
   "outputs": [
    {
     "data": {
      "text/plain": [
       "[2]"
      ]
     },
     "execution_count": 27,
     "metadata": {},
     "output_type": "execute_result"
    }
   ],
   "source": [
    "[] + [2]"
   ]
  },
  {
   "cell_type": "code",
   "execution_count": 28,
   "id": "45eda659",
   "metadata": {},
   "outputs": [
    {
     "data": {
      "text/plain": [
       "{3}"
      ]
     },
     "execution_count": 28,
     "metadata": {},
     "output_type": "execute_result"
    }
   ],
   "source": [
    "num_set - set([1] + [2])"
   ]
  },
  {
   "cell_type": "code",
   "execution_count": 29,
   "id": "b973936e",
   "metadata": {},
   "outputs": [
    {
     "data": {
      "text/plain": [
       "[1, 2, 3]"
      ]
     },
     "execution_count": 29,
     "metadata": {},
     "output_type": "execute_result"
    }
   ],
   "source": [
    "[1, 2] + [3]"
   ]
  },
  {
   "cell_type": "code",
   "execution_count": 34,
   "id": "68afa96a",
   "metadata": {},
   "outputs": [
    {
     "data": {
      "text/plain": [
       "[[0], [1], [2]]"
      ]
     },
     "execution_count": 34,
     "metadata": {},
     "output_type": "execute_result"
    }
   ],
   "source": [
    "[[i] for i in range(3)]"
   ]
  },
  {
   "cell_type": "code",
   "execution_count": 35,
   "id": "0fa9bb93",
   "metadata": {},
   "outputs": [
    {
     "data": {
      "text/plain": [
       "[[0], [1], [4]]"
      ]
     },
     "execution_count": 35,
     "metadata": {},
     "output_type": "execute_result"
    }
   ],
   "source": [
    "[[i ** 2] for i in range(3)]"
   ]
  },
  {
   "cell_type": "code",
   "execution_count": 36,
   "id": "6bf14c9a",
   "metadata": {},
   "outputs": [
    {
     "data": {
      "text/plain": [
       "[[0, 'a'], [1, 'a'], [4, 'a']]"
      ]
     },
     "execution_count": 36,
     "metadata": {},
     "output_type": "execute_result"
    }
   ],
   "source": [
    "[[i ** 2] + [\"a\"] for i in range(3)]"
   ]
  },
  {
   "cell_type": "code",
   "execution_count": 38,
   "id": "70f3c14b",
   "metadata": {},
   "outputs": [],
   "source": []
  },
  {
   "cell_type": "code",
   "execution_count": 30,
   "id": "a3eec946",
   "metadata": {},
   "outputs": [],
   "source": [
    "# solution-1 = [[1], [2], [3]]\n",
    "\n",
    "# solution-2 = [[1, 2], [1, 3], [2, 1], [2, 3], [3, 1], [3, 2]]\n",
    "\n",
    "# solution-3 = [[1, 2, 3], [1, 3, 2], [2, 1, 3], [2, 3, 1], [3, 1, 2], [3, 2, 1]]"
   ]
  },
  {
   "cell_type": "code",
   "execution_count": 31,
   "id": "6ced4d80",
   "metadata": {},
   "outputs": [
    {
     "data": {
      "text/plain": [
       "[[]]"
      ]
     },
     "execution_count": 31,
     "metadata": {},
     "output_type": "execute_result"
    }
   ],
   "source": [
    "solution"
   ]
  },
  {
   "cell_type": "code",
   "execution_count": 32,
   "id": "501d0865",
   "metadata": {},
   "outputs": [
    {
     "data": {
      "text/plain": [
       "[1, 2, 3]"
      ]
     },
     "execution_count": 32,
     "metadata": {},
     "output_type": "execute_result"
    }
   ],
   "source": [
    "num"
   ]
  },
  {
   "cell_type": "code",
   "execution_count": 33,
   "id": "866cec5b",
   "metadata": {
    "scrolled": true
   },
   "outputs": [
    {
     "data": {
      "text/plain": [
       "{1, 2, 3}"
      ]
     },
     "execution_count": 33,
     "metadata": {},
     "output_type": "execute_result"
    }
   ],
   "source": [
    "num_set"
   ]
  },
  {
   "cell_type": "code",
   "execution_count": 37,
   "id": "699d7c29",
   "metadata": {},
   "outputs": [
    {
     "name": "stdout",
     "output_type": "stream",
     "text": [
      "[[1], [2], [3]]\n",
      "[[1, 2], [1, 3], [2, 1], [2, 3], [3, 1], [3, 2]]\n",
      "[[1, 2, 3], [1, 3, 2], [2, 1, 3], [2, 3, 1], [3, 1, 2], [3, 2, 1]]\n"
     ]
    }
   ],
   "source": [
    "for index in range(len(num)) :\n",
    "    \n",
    "    solution = [i + [j] for i in solution for j in num_set.difference(set(i))]\n",
    "    print(solution)"
   ]
  },
  {
   "cell_type": "code",
   "execution_count": 39,
   "id": "21db18d0",
   "metadata": {},
   "outputs": [],
   "source": []
  },
  {
   "cell_type": "code",
   "execution_count": 41,
   "id": "e792a2b2",
   "metadata": {},
   "outputs": [
    {
     "data": {
      "text/plain": [
       "(221,\n",
       " b'2.0.0 closing connection v2-20020a17090606c200b006a728f4a9bcsm8018679ejb.148 - gsmtp')"
      ]
     },
     "execution_count": 41,
     "metadata": {},
     "output_type": "execute_result"
    }
   ],
   "source": [
    "import smtplib\n",
    "server = smtplib.SMTP(\"smtp.gmail.com\", 587)\n",
    "server.starttls()\n",
    "\n",
    "server.login(\"necati.sakir.74\", password)\n",
    "message = \"\\n Bu benim son dersim. Herkese selam olsun. Gorusmek uzere \\n\"\n",
    "\n",
    "mails = [\"abdurrahmankucuk90@gmail.com\",\n",
    "         \"nurettinakinoral@gmail.com\",\n",
    "         \"hakanyusufbeyli@gmail.com\",\n",
    "         \"fthgnydn34@gmail.com\",\n",
    "         \"tarknsahin@gmail.com\",\n",
    "         \"sfrancisclarus@gmail.com\",\n",
    "         \"ozdemiraziz@gmail.com\"]\n",
    "\n",
    "server.sendmail(\"necati.sakir.74@gmail.com\", mails, message)\n",
    "server.quit()"
   ]
  },
  {
   "cell_type": "code",
   "execution_count": null,
   "id": "5a96e9dd",
   "metadata": {},
   "outputs": [],
   "source": []
  }
 ],
 "metadata": {
  "kernelspec": {
   "display_name": "Python 3",
   "language": "python",
   "name": "python3"
  },
  "language_info": {
   "codemirror_mode": {
    "name": "ipython",
    "version": 3
   },
   "file_extension": ".py",
   "mimetype": "text/x-python",
   "name": "python",
   "nbconvert_exporter": "python",
   "pygments_lexer": "ipython3",
   "version": "3.8.8"
  }
 },
 "nbformat": 4,
 "nbformat_minor": 5
}
