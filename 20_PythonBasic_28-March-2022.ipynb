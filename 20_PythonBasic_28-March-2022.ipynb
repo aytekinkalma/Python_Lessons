{
 "cells": [
  {
   "cell_type": "markdown",
   "id": "406f2981",
   "metadata": {},
   "source": [
    "<img src=\"https://docs.google.com/uc?id=14xeXxFrVRjvOoUYWn_GuyE-v84wVzrqr\" class=\"img-fluid\" alt=\"CLRWY\" width=\"400\" height=\"200\">"
   ]
  },
  {
   "cell_type": "markdown",
   "id": "22263af8",
   "metadata": {},
   "source": [
    "<h1><p style=\"text-align: center; color:darkblue\">Python In-Class, <br>28 March 2022</p><h1>"
   ]
  },
  {
   "cell_type": "markdown",
   "id": "7a2926f8",
   "metadata": {},
   "source": [
    "### show me my way, please! <img src=\"https://www.robotsepeti.com/nao-insansi-robot-platformu-v6-egitmen-educator-versiyonu-insansi-robot-softbank-robotics-9282-48-B.png\" height = \"100\" width=\"300\" alt=\"Robot\">"
   ]
  },
  {
   "cell_type": "code",
   "execution_count": 1,
   "id": "a5b488a5",
   "metadata": {},
   "outputs": [],
   "source": [
    "command = [\"right 20\", \"right 30\", \"left 50\", \"up 10\", \"down 20\"]"
   ]
  },
  {
   "cell_type": "code",
   "execution_count": 2,
   "id": "fa2a7612",
   "metadata": {},
   "outputs": [
    {
     "data": {
      "text/plain": [
       "['right 20', 'right 30', 'left 50', 'up 10', 'down 20']"
      ]
     },
     "execution_count": 2,
     "metadata": {},
     "output_type": "execute_result"
    }
   ],
   "source": [
    "command"
   ]
  },
  {
   "cell_type": "code",
   "execution_count": null,
   "id": "b42a8442",
   "metadata": {},
   "outputs": [],
   "source": [
    "# [x, y]\n",
    "# [0, -10]"
   ]
  },
  {
   "cell_type": "code",
   "execution_count": 3,
   "id": "3e71ce40",
   "metadata": {},
   "outputs": [],
   "source": [
    "x = y = 0"
   ]
  },
  {
   "cell_type": "code",
   "execution_count": 4,
   "id": "47e06878",
   "metadata": {},
   "outputs": [
    {
     "data": {
      "text/plain": [
       "'down 20'"
      ]
     },
     "execution_count": 4,
     "metadata": {},
     "output_type": "execute_result"
    }
   ],
   "source": [
    "command[-1]"
   ]
  },
  {
   "cell_type": "code",
   "execution_count": 5,
   "id": "83fcc9ed",
   "metadata": {},
   "outputs": [
    {
     "data": {
      "text/plain": [
       "['down', '20']"
      ]
     },
     "execution_count": 5,
     "metadata": {},
     "output_type": "execute_result"
    }
   ],
   "source": [
    "command[-1].split()"
   ]
  },
  {
   "cell_type": "code",
   "execution_count": 6,
   "id": "66d63d90",
   "metadata": {},
   "outputs": [
    {
     "data": {
      "text/plain": [
       "'down'"
      ]
     },
     "execution_count": 6,
     "metadata": {},
     "output_type": "execute_result"
    }
   ],
   "source": [
    "command[-1].split()[0]"
   ]
  },
  {
   "cell_type": "code",
   "execution_count": 7,
   "id": "833a334c",
   "metadata": {},
   "outputs": [
    {
     "data": {
      "text/plain": [
       "'20'"
      ]
     },
     "execution_count": 7,
     "metadata": {},
     "output_type": "execute_result"
    }
   ],
   "source": [
    "command[-1].split()[1]"
   ]
  },
  {
   "cell_type": "code",
   "execution_count": 9,
   "id": "acc84c5f",
   "metadata": {},
   "outputs": [
    {
     "data": {
      "text/plain": [
       "[0, -10]"
      ]
     },
     "execution_count": 9,
     "metadata": {},
     "output_type": "execute_result"
    }
   ],
   "source": [
    "for i in range(len(command)) :\n",
    "    if command[i].startswith(\"r\") : x = x + int(command[i].split()[1])\n",
    "    elif command[i].startswith(\"l\") : x = x - int(command[i].split()[1])\n",
    "    elif command[i].startswith(\"u\") : y = y + int(command[i].split()[1])\n",
    "    elif command[i].startswith(\"d\") : y = y - int(command[i].split()[1])\n",
    "        \n",
    "[x, y]"
   ]
  },
  {
   "cell_type": "markdown",
   "id": "2649f74f",
   "metadata": {},
   "source": [
    "## Valid Paranthesis\n",
    "\n",
    "```\n",
    "Input        Output\n",
    "--------:    ------:\n",
    "\"()\"         True\n",
    "\"()[]{}\"     True\n",
    "\"(]\"         False\n",
    "\"([)]\"       False\n",
    "\"{[]}\"       True\n",
    "\"\"           True\n",
    "```"
   ]
  },
  {
   "cell_type": "code",
   "execution_count": null,
   "id": "9c1c9589",
   "metadata": {},
   "outputs": [],
   "source": [
    "\"([{({})}]({}))\""
   ]
  },
  {
   "cell_type": "code",
   "execution_count": null,
   "id": "3d9ceed9",
   "metadata": {},
   "outputs": [],
   "source": [
    "\"([{()}]())\""
   ]
  },
  {
   "cell_type": "code",
   "execution_count": null,
   "id": "dbdc4a39",
   "metadata": {},
   "outputs": [],
   "source": [
    "\"([{}])\""
   ]
  },
  {
   "cell_type": "code",
   "execution_count": null,
   "id": "b7eeeb4b",
   "metadata": {},
   "outputs": [],
   "source": [
    "\"([])\""
   ]
  },
  {
   "cell_type": "code",
   "execution_count": null,
   "id": "1ac058c3",
   "metadata": {},
   "outputs": [],
   "source": [
    "\"()\""
   ]
  },
  {
   "cell_type": "code",
   "execution_count": null,
   "id": "76bf1702",
   "metadata": {},
   "outputs": [],
   "source": [
    "\"\""
   ]
  },
  {
   "cell_type": "code",
   "execution_count": null,
   "id": "12d3c291",
   "metadata": {},
   "outputs": [],
   "source": [
    "\"[([{({})}]({}))\""
   ]
  },
  {
   "cell_type": "code",
   "execution_count": null,
   "id": "066b7f89",
   "metadata": {},
   "outputs": [],
   "source": [
    "\"[([{()}]())\""
   ]
  },
  {
   "cell_type": "code",
   "execution_count": null,
   "id": "33a357ac",
   "metadata": {},
   "outputs": [],
   "source": [
    "\"[([{}])\""
   ]
  },
  {
   "cell_type": "code",
   "execution_count": null,
   "id": "702c635b",
   "metadata": {},
   "outputs": [],
   "source": [
    "\"[([])\""
   ]
  },
  {
   "cell_type": "code",
   "execution_count": null,
   "id": "4076723c",
   "metadata": {},
   "outputs": [],
   "source": [
    "\"[()\""
   ]
  },
  {
   "cell_type": "code",
   "execution_count": null,
   "id": "a41ce348",
   "metadata": {},
   "outputs": [],
   "source": [
    "\"[\""
   ]
  },
  {
   "cell_type": "code",
   "execution_count": null,
   "id": "6da60d38",
   "metadata": {},
   "outputs": [],
   "source": [
    "\"[\""
   ]
  },
  {
   "cell_type": "code",
   "execution_count": 10,
   "id": "f2b99981",
   "metadata": {},
   "outputs": [],
   "source": [
    "x = \"[([{({})}]({}))\""
   ]
  },
  {
   "cell_type": "code",
   "execution_count": 11,
   "id": "99b218d5",
   "metadata": {},
   "outputs": [
    {
     "data": {
      "text/plain": [
       "'ali+deli+veli'"
      ]
     },
     "execution_count": 11,
     "metadata": {},
     "output_type": "execute_result"
    }
   ],
   "source": [
    "\"ali-deli-veli\".replace(\"-\", \"+\")"
   ]
  },
  {
   "cell_type": "code",
   "execution_count": 12,
   "id": "2ba5f57e",
   "metadata": {},
   "outputs": [
    {
     "data": {
      "text/plain": [
       "'alideliveli'"
      ]
     },
     "execution_count": 12,
     "metadata": {},
     "output_type": "execute_result"
    }
   ],
   "source": [
    "\"ali-deli-veli\".replace(\"-\", \"\")"
   ]
  },
  {
   "cell_type": "code",
   "execution_count": 13,
   "id": "89abeb08",
   "metadata": {},
   "outputs": [
    {
     "data": {
      "text/plain": [
       "'ldelvel'"
      ]
     },
     "execution_count": 13,
     "metadata": {},
     "output_type": "execute_result"
    }
   ],
   "source": [
    "\"ali-deli-veli\".replace(\"-\", \"\").replace(\"a\", \"\").replace(\"i\", \"\")"
   ]
  },
  {
   "cell_type": "code",
   "execution_count": 14,
   "id": "cf86ddc0",
   "metadata": {},
   "outputs": [
    {
     "data": {
      "text/plain": [
       "False"
      ]
     },
     "execution_count": 14,
     "metadata": {},
     "output_type": "execute_result"
    }
   ],
   "source": [
    "\"()\" in x"
   ]
  },
  {
   "cell_type": "code",
   "execution_count": 15,
   "id": "65f3f815",
   "metadata": {},
   "outputs": [
    {
     "data": {
      "text/plain": [
       "False"
      ]
     },
     "execution_count": 15,
     "metadata": {},
     "output_type": "execute_result"
    }
   ],
   "source": [
    "\"[]\" in x"
   ]
  },
  {
   "cell_type": "code",
   "execution_count": 16,
   "id": "35862377",
   "metadata": {},
   "outputs": [
    {
     "data": {
      "text/plain": [
       "True"
      ]
     },
     "execution_count": 16,
     "metadata": {},
     "output_type": "execute_result"
    }
   ],
   "source": [
    "\"{}\" in x"
   ]
  },
  {
   "cell_type": "code",
   "execution_count": 18,
   "id": "53128279",
   "metadata": {},
   "outputs": [],
   "source": [
    "def isValid(s) :\n",
    "    while \"()\" in s or \"[]\" in s or \"{}\" in s :\n",
    "        s = s.replace(\"()\", \"\").replace(\"[]\", \"\").replace(\"{}\", \"\")\n",
    "    return s == \"\""
   ]
  },
  {
   "cell_type": "code",
   "execution_count": 17,
   "id": "8cd574ff",
   "metadata": {},
   "outputs": [
    {
     "data": {
      "text/plain": [
       "'ali'"
      ]
     },
     "execution_count": 17,
     "metadata": {},
     "output_type": "execute_result"
    }
   ],
   "source": [
    "\"ali\".replace(\"b\", \"\")"
   ]
  },
  {
   "cell_type": "code",
   "execution_count": 19,
   "id": "7c0889b1",
   "metadata": {},
   "outputs": [
    {
     "data": {
      "text/plain": [
       "False"
      ]
     },
     "execution_count": 19,
     "metadata": {},
     "output_type": "execute_result"
    }
   ],
   "source": [
    "isValid(x)"
   ]
  },
  {
   "cell_type": "code",
   "execution_count": 20,
   "id": "e071abe7",
   "metadata": {},
   "outputs": [],
   "source": [
    "y = \"([{({})}]({}))\""
   ]
  },
  {
   "cell_type": "code",
   "execution_count": 21,
   "id": "3cd37c32",
   "metadata": {},
   "outputs": [
    {
     "data": {
      "text/plain": [
       "True"
      ]
     },
     "execution_count": 21,
     "metadata": {},
     "output_type": "execute_result"
    }
   ],
   "source": [
    "isValid(y)"
   ]
  },
  {
   "cell_type": "markdown",
   "id": "87292513",
   "metadata": {},
   "source": [
    "## Building a Calculator using `dict` with `lambda` Expression"
   ]
  },
  {
   "cell_type": "code",
   "execution_count": null,
   "id": "b632a854",
   "metadata": {},
   "outputs": [],
   "source": [
    "# calculator[\"+\"](4, 5) --> 9"
   ]
  },
  {
   "cell_type": "code",
   "execution_count": null,
   "id": "5c4cf0e4",
   "metadata": {},
   "outputs": [],
   "source": [
    "calculator = {\"+\" : ,\n",
    "              \"-\" : ,\n",
    "              \"*\" : ,\n",
    "              \"/\" : }"
   ]
  },
  {
   "cell_type": "code",
   "execution_count": 22,
   "id": "840195e7",
   "metadata": {},
   "outputs": [
    {
     "data": {
      "text/plain": [
       "9"
      ]
     },
     "execution_count": 22,
     "metadata": {},
     "output_type": "execute_result"
    }
   ],
   "source": [
    "(lambda x, y : x + y)(4, 5)"
   ]
  },
  {
   "cell_type": "code",
   "execution_count": 23,
   "id": "e9dc02b1",
   "metadata": {},
   "outputs": [],
   "source": [
    "sözlük = {\"bir\" : 44,\n",
    "          \"iki\" : [\"ali\", \"deli\", \"veli\"]}"
   ]
  },
  {
   "cell_type": "code",
   "execution_count": 24,
   "id": "9ec0b398",
   "metadata": {},
   "outputs": [
    {
     "data": {
      "text/plain": [
       "44"
      ]
     },
     "execution_count": 24,
     "metadata": {},
     "output_type": "execute_result"
    }
   ],
   "source": [
    "sözlük[\"bir\"]"
   ]
  },
  {
   "cell_type": "code",
   "execution_count": 25,
   "id": "acd689ed",
   "metadata": {},
   "outputs": [
    {
     "data": {
      "text/plain": [
       "['ali', 'deli', 'veli']"
      ]
     },
     "execution_count": 25,
     "metadata": {},
     "output_type": "execute_result"
    }
   ],
   "source": [
    "sözlük[\"iki\"]"
   ]
  },
  {
   "cell_type": "code",
   "execution_count": 26,
   "id": "0edb1280",
   "metadata": {},
   "outputs": [
    {
     "data": {
      "text/plain": [
       "list"
      ]
     },
     "execution_count": 26,
     "metadata": {},
     "output_type": "execute_result"
    }
   ],
   "source": [
    "type(sözlük[\"iki\"])"
   ]
  },
  {
   "cell_type": "code",
   "execution_count": 27,
   "id": "df21d78f",
   "metadata": {},
   "outputs": [],
   "source": [
    "calculator = {\"+\" : (lambda x, y : x + y),\n",
    "              \"-\" : (lambda x, y : x - y),\n",
    "              \"*\" : (lambda x, y : x * y),\n",
    "              \"/\" : (lambda x, y : x / y)}"
   ]
  },
  {
   "cell_type": "code",
   "execution_count": 28,
   "id": "f980be50",
   "metadata": {},
   "outputs": [
    {
     "data": {
      "text/plain": [
       "<function __main__.<lambda>(x, y)>"
      ]
     },
     "execution_count": 28,
     "metadata": {},
     "output_type": "execute_result"
    }
   ],
   "source": [
    "calculator[\"/\"]"
   ]
  },
  {
   "cell_type": "code",
   "execution_count": 29,
   "id": "39d18eaf",
   "metadata": {},
   "outputs": [
    {
     "data": {
      "text/plain": [
       "<function __main__.<lambda>(x, y)>"
      ]
     },
     "execution_count": 29,
     "metadata": {},
     "output_type": "execute_result"
    }
   ],
   "source": [
    "(lambda x, y : x / y)"
   ]
  },
  {
   "cell_type": "code",
   "execution_count": 30,
   "id": "81eaf9bc",
   "metadata": {},
   "outputs": [
    {
     "data": {
      "text/plain": [
       "2.0"
      ]
     },
     "execution_count": 30,
     "metadata": {},
     "output_type": "execute_result"
    }
   ],
   "source": [
    "calculator[\"/\"](6, 3)"
   ]
  },
  {
   "cell_type": "markdown",
   "id": "84b58208",
   "metadata": {},
   "source": [
    "## password generator"
   ]
  },
  {
   "cell_type": "code",
   "execution_count": 31,
   "id": "9acc57b1",
   "metadata": {},
   "outputs": [],
   "source": [
    "import random"
   ]
  },
  {
   "cell_type": "code",
   "execution_count": 32,
   "id": "813a8aee",
   "metadata": {},
   "outputs": [
    {
     "data": {
      "text/plain": [
       "23"
      ]
     },
     "execution_count": 32,
     "metadata": {},
     "output_type": "execute_result"
    }
   ],
   "source": [
    "random.randint(10, 30)"
   ]
  },
  {
   "cell_type": "code",
   "execution_count": 33,
   "id": "4f24bb18",
   "metadata": {},
   "outputs": [
    {
     "data": {
      "text/plain": [
       "'o'"
      ]
     },
     "execution_count": 33,
     "metadata": {},
     "output_type": "execute_result"
    }
   ],
   "source": [
    "chr(111)"
   ]
  },
  {
   "cell_type": "code",
   "execution_count": 35,
   "id": "f997fa77",
   "metadata": {},
   "outputs": [
    {
     "data": {
      "text/plain": [
       "'f'"
      ]
     },
     "execution_count": 35,
     "metadata": {},
     "output_type": "execute_result"
    }
   ],
   "source": [
    "chr(random.randint(97, 122))"
   ]
  },
  {
   "cell_type": "code",
   "execution_count": 36,
   "id": "a4d1d99e",
   "metadata": {},
   "outputs": [
    {
     "data": {
      "text/plain": [
       "'V'"
      ]
     },
     "execution_count": 36,
     "metadata": {},
     "output_type": "execute_result"
    }
   ],
   "source": [
    "chr(random.randint(65, 90))"
   ]
  },
  {
   "cell_type": "code",
   "execution_count": 37,
   "id": "67e53178",
   "metadata": {},
   "outputs": [
    {
     "data": {
      "text/plain": [
       "'9'"
      ]
     },
     "execution_count": 37,
     "metadata": {},
     "output_type": "execute_result"
    }
   ],
   "source": [
    "chr(random.randint(48, 57))"
   ]
  },
  {
   "cell_type": "code",
   "execution_count": 38,
   "id": "3a319522",
   "metadata": {},
   "outputs": [
    {
     "data": {
      "text/plain": [
       "\"'\""
      ]
     },
     "execution_count": 38,
     "metadata": {},
     "output_type": "execute_result"
    }
   ],
   "source": [
    "chr(random.randint(33, 47))"
   ]
  },
  {
   "cell_type": "code",
   "execution_count": 39,
   "id": "f3ff775b",
   "metadata": {},
   "outputs": [
    {
     "data": {
      "text/plain": [
       "';'"
      ]
     },
     "execution_count": 39,
     "metadata": {},
     "output_type": "execute_result"
    }
   ],
   "source": [
    "chr(random.randint(58, 64))"
   ]
  },
  {
   "cell_type": "code",
   "execution_count": null,
   "id": "d26c5715",
   "metadata": {},
   "outputs": [],
   "source": [
    "uppers = [BUYUK-HARFLER for in range(3)]"
   ]
  },
  {
   "cell_type": "code",
   "execution_count": 41,
   "id": "2e1693cb",
   "metadata": {},
   "outputs": [
    {
     "data": {
      "text/plain": [
       "['E', 'J', 'K']"
      ]
     },
     "execution_count": 41,
     "metadata": {},
     "output_type": "execute_result"
    }
   ],
   "source": [
    "uppers = [chr(random.randint(65, 90)) for i in range(3)]\n",
    "uppers"
   ]
  },
  {
   "cell_type": "code",
   "execution_count": 42,
   "id": "4132761c",
   "metadata": {},
   "outputs": [
    {
     "data": {
      "text/plain": [
       "['a', 's', 's']"
      ]
     },
     "execution_count": 42,
     "metadata": {},
     "output_type": "execute_result"
    }
   ],
   "source": [
    "lowers = [chr(random.randint(97, 122)) for i in range(3)]\n",
    "lowers"
   ]
  },
  {
   "cell_type": "code",
   "execution_count": 43,
   "id": "e95d3979",
   "metadata": {},
   "outputs": [
    {
     "data": {
      "text/plain": [
       "['0', '4', '8']"
      ]
     },
     "execution_count": 43,
     "metadata": {},
     "output_type": "execute_result"
    }
   ],
   "source": [
    "numbers = [chr(random.randint(48, 57)) for i in range(3)]\n",
    "numbers"
   ]
  },
  {
   "cell_type": "code",
   "execution_count": 44,
   "id": "e61c1218",
   "metadata": {},
   "outputs": [
    {
     "data": {
      "text/plain": [
       "'+>'"
      ]
     },
     "execution_count": 44,
     "metadata": {},
     "output_type": "execute_result"
    }
   ],
   "source": [
    "chars = chr(random.randint(33, 47)) + chr(random.randint(58, 64))\n",
    "chars"
   ]
  },
  {
   "cell_type": "code",
   "execution_count": 45,
   "id": "39f992ca",
   "metadata": {},
   "outputs": [
    {
     "data": {
      "text/plain": [
       "'0-4-8'"
      ]
     },
     "execution_count": 45,
     "metadata": {},
     "output_type": "execute_result"
    }
   ],
   "source": [
    "\"-\".join(numbers)"
   ]
  },
  {
   "cell_type": "code",
   "execution_count": 46,
   "id": "93b61162",
   "metadata": {},
   "outputs": [
    {
     "data": {
      "text/plain": [
       "'048'"
      ]
     },
     "execution_count": 46,
     "metadata": {},
     "output_type": "execute_result"
    }
   ],
   "source": [
    "\"\".join(numbers)"
   ]
  },
  {
   "cell_type": "code",
   "execution_count": 47,
   "id": "4644d2f3",
   "metadata": {},
   "outputs": [
    {
     "data": {
      "text/plain": [
       "'EJKass048+>'"
      ]
     },
     "execution_count": 47,
     "metadata": {},
     "output_type": "execute_result"
    }
   ],
   "source": [
    "passw = \"\".join(uppers) + \"\".join(lowers) + \"\".join(numbers) + chars\n",
    "passw"
   ]
  },
  {
   "cell_type": "code",
   "execution_count": null,
   "id": "acf24114",
   "metadata": {},
   "outputs": [],
   "source": [
    "random.shuffle()"
   ]
  },
  {
   "cell_type": "code",
   "execution_count": 49,
   "id": "3aafbaf9",
   "metadata": {},
   "outputs": [
    {
     "data": {
      "text/plain": [
       "['E', 'J', 'K', 'a', 's', 's', '0', '4', '8', '+', '>']"
      ]
     },
     "execution_count": 49,
     "metadata": {},
     "output_type": "execute_result"
    }
   ],
   "source": [
    "pass_list = list(passw)\n",
    "pass_list"
   ]
  },
  {
   "cell_type": "code",
   "execution_count": 50,
   "id": "98ab33af",
   "metadata": {},
   "outputs": [],
   "source": [
    "random.shuffle(pass_list)"
   ]
  },
  {
   "cell_type": "code",
   "execution_count": 51,
   "id": "43cb1ccc",
   "metadata": {},
   "outputs": [
    {
     "data": {
      "text/plain": [
       "['J', '8', 'a', '4', 's', 's', '>', 'K', 'E', '+', '0']"
      ]
     },
     "execution_count": 51,
     "metadata": {},
     "output_type": "execute_result"
    }
   ],
   "source": [
    "pass_list"
   ]
  },
  {
   "cell_type": "code",
   "execution_count": 52,
   "id": "11be4dbe",
   "metadata": {},
   "outputs": [
    {
     "data": {
      "text/plain": [
       "'J8a4ss>KE+0'"
      ]
     },
     "execution_count": 52,
     "metadata": {},
     "output_type": "execute_result"
    }
   ],
   "source": [
    "\"\".join(pass_list)"
   ]
  },
  {
   "cell_type": "code",
   "execution_count": 53,
   "id": "52c7d6b8",
   "metadata": {},
   "outputs": [],
   "source": [
    "def karıştır(password) :\n",
    "    templist = list(password)\n",
    "    random.shuffle(templist)\n",
    "    return \"\".join(templist)"
   ]
  },
  {
   "cell_type": "code",
   "execution_count": 54,
   "id": "8659467b",
   "metadata": {},
   "outputs": [
    {
     "name": "stdout",
     "output_type": "stream",
     "text": [
      ">4sEsJKa08+\n"
     ]
    }
   ],
   "source": [
    "print(karıştır(passw))"
   ]
  },
  {
   "cell_type": "code",
   "execution_count": 55,
   "id": "e04da77a",
   "metadata": {},
   "outputs": [],
   "source": [
    "import timeit"
   ]
  },
  {
   "cell_type": "code",
   "execution_count": 56,
   "id": "dcb7c899",
   "metadata": {},
   "outputs": [],
   "source": [
    "from timeit import timeit"
   ]
  },
  {
   "cell_type": "code",
   "execution_count": null,
   "id": "428943e4",
   "metadata": {},
   "outputs": [],
   "source": [
    "timeit()"
   ]
  },
  {
   "cell_type": "code",
   "execution_count": 57,
   "id": "94edc3e6",
   "metadata": {},
   "outputs": [],
   "source": [
    "def for_loop() :\n",
    "    \n",
    "    result = []\n",
    "    \n",
    "    for i in range(1000000) :\n",
    "        result.append(i)\n",
    "        \n",
    "    return result"
   ]
  },
  {
   "cell_type": "code",
   "execution_count": 58,
   "id": "88fa7289",
   "metadata": {},
   "outputs": [],
   "source": [
    "def list_comp() :\n",
    "    \n",
    "    return [i for i in range(1000000)]"
   ]
  },
  {
   "cell_type": "code",
   "execution_count": 62,
   "id": "2931abc6",
   "metadata": {},
   "outputs": [],
   "source": [
    "time_for = timeit(for_loop, number=100)\n",
    "time_list_comp = timeit(list_comp, number=100)"
   ]
  },
  {
   "cell_type": "code",
   "execution_count": 63,
   "id": "03be21f8",
   "metadata": {},
   "outputs": [
    {
     "name": "stdout",
     "output_type": "stream",
     "text": [
      "List Comp. is 1.52 times faster than For_loop.\n"
     ]
    }
   ],
   "source": [
    "print(f\"List Comp. is {round(time_for/time_list_comp, 2)} times faster than For_loop.\")"
   ]
  },
  {
   "cell_type": "code",
   "execution_count": 64,
   "id": "4b04d5d5",
   "metadata": {},
   "outputs": [
    {
     "ename": "ValueError",
     "evalue": "invalid literal for int() with base 10: 'on'",
     "output_type": "error",
     "traceback": [
      "\u001b[0;31m---------------------------------------------------------------------------\u001b[0m",
      "\u001b[0;31mValueError\u001b[0m                                Traceback (most recent call last)",
      "\u001b[0;32m<ipython-input-64-9db2c1f25cfb>\u001b[0m in \u001b[0;36m<module>\u001b[0;34m\u001b[0m\n\u001b[0;32m----> 1\u001b[0;31m \u001b[0mint\u001b[0m\u001b[0;34m(\u001b[0m\u001b[0;34m\"on\"\u001b[0m\u001b[0;34m)\u001b[0m\u001b[0;34m\u001b[0m\u001b[0;34m\u001b[0m\u001b[0m\n\u001b[0m",
      "\u001b[0;31mValueError\u001b[0m: invalid literal for int() with base 10: 'on'"
     ]
    }
   ],
   "source": [
    "int(\"on\")"
   ]
  },
  {
   "cell_type": "code",
   "execution_count": 65,
   "id": "93740375",
   "metadata": {},
   "outputs": [
    {
     "data": {
      "text/plain": [
       "10"
      ]
     },
     "execution_count": 65,
     "metadata": {},
     "output_type": "execute_result"
    }
   ],
   "source": [
    "int(\"10\")"
   ]
  },
  {
   "cell_type": "code",
   "execution_count": 66,
   "id": "d30e420d",
   "metadata": {},
   "outputs": [],
   "source": [
    "import math"
   ]
  },
  {
   "cell_type": "code",
   "execution_count": 67,
   "id": "3413095d",
   "metadata": {},
   "outputs": [
    {
     "data": {
      "text/plain": [
       "5.0"
      ]
     },
     "execution_count": 67,
     "metadata": {},
     "output_type": "execute_result"
    }
   ],
   "source": [
    "math.sqrt(25)"
   ]
  },
  {
   "cell_type": "code",
   "execution_count": 68,
   "id": "5eabbf7a",
   "metadata": {},
   "outputs": [
    {
     "ename": "ValueError",
     "evalue": "math domain error",
     "output_type": "error",
     "traceback": [
      "\u001b[0;31m---------------------------------------------------------------------------\u001b[0m",
      "\u001b[0;31mValueError\u001b[0m                                Traceback (most recent call last)",
      "\u001b[0;32m<ipython-input-68-d80dea1ee982>\u001b[0m in \u001b[0;36m<module>\u001b[0;34m\u001b[0m\n\u001b[0;32m----> 1\u001b[0;31m \u001b[0mmath\u001b[0m\u001b[0;34m.\u001b[0m\u001b[0msqrt\u001b[0m\u001b[0;34m(\u001b[0m\u001b[0;34m-\u001b[0m\u001b[0;36m25\u001b[0m\u001b[0;34m)\u001b[0m\u001b[0;34m\u001b[0m\u001b[0;34m\u001b[0m\u001b[0m\n\u001b[0m",
      "\u001b[0;31mValueError\u001b[0m: math domain error"
     ]
    }
   ],
   "source": [
    "math.sqrt(-25)"
   ]
  },
  {
   "cell_type": "code",
   "execution_count": 69,
   "id": "18a44f4e",
   "metadata": {},
   "outputs": [
    {
     "data": {
      "text/plain": [
       "24"
      ]
     },
     "execution_count": 69,
     "metadata": {},
     "output_type": "execute_result"
    }
   ],
   "source": [
    "math.factorial(4)"
   ]
  },
  {
   "cell_type": "code",
   "execution_count": 70,
   "id": "87e539df",
   "metadata": {},
   "outputs": [
    {
     "ename": "ValueError",
     "evalue": "factorial() not defined for negative values",
     "output_type": "error",
     "traceback": [
      "\u001b[0;31m---------------------------------------------------------------------------\u001b[0m",
      "\u001b[0;31mValueError\u001b[0m                                Traceback (most recent call last)",
      "\u001b[0;32m<ipython-input-70-001ef41ec39f>\u001b[0m in \u001b[0;36m<module>\u001b[0;34m\u001b[0m\n\u001b[0;32m----> 1\u001b[0;31m \u001b[0mmath\u001b[0m\u001b[0;34m.\u001b[0m\u001b[0mfactorial\u001b[0m\u001b[0;34m(\u001b[0m\u001b[0;34m-\u001b[0m\u001b[0;36m4\u001b[0m\u001b[0;34m)\u001b[0m\u001b[0;34m\u001b[0m\u001b[0;34m\u001b[0m\u001b[0m\n\u001b[0m",
      "\u001b[0;31mValueError\u001b[0m: factorial() not defined for negative values"
     ]
    }
   ],
   "source": [
    "math.factorial(-4)"
   ]
  },
  {
   "cell_type": "code",
   "execution_count": 71,
   "id": "a2831f35",
   "metadata": {},
   "outputs": [
    {
     "ename": "ValueError",
     "evalue": "math domain error",
     "output_type": "error",
     "traceback": [
      "\u001b[0;31m---------------------------------------------------------------------------\u001b[0m",
      "\u001b[0;31mValueError\u001b[0m                                Traceback (most recent call last)",
      "\u001b[0;32m<ipython-input-71-1aa612a1dd6b>\u001b[0m in \u001b[0;36m<module>\u001b[0;34m\u001b[0m\n\u001b[0;32m----> 1\u001b[0;31m \u001b[0mmath\u001b[0m\u001b[0;34m.\u001b[0m\u001b[0mlog10\u001b[0m\u001b[0;34m(\u001b[0m\u001b[0;34m-\u001b[0m\u001b[0;36m1000\u001b[0m\u001b[0;34m)\u001b[0m\u001b[0;34m\u001b[0m\u001b[0;34m\u001b[0m\u001b[0m\n\u001b[0m",
      "\u001b[0;31mValueError\u001b[0m: math domain error"
     ]
    }
   ],
   "source": [
    "math.log10(-1000)"
   ]
  },
  {
   "cell_type": "code",
   "execution_count": 72,
   "id": "e9a6d7fd",
   "metadata": {},
   "outputs": [
    {
     "ename": "TypeError",
     "evalue": "unsupported operand type(s) for +: 'int' and 'str'",
     "output_type": "error",
     "traceback": [
      "\u001b[0;31m---------------------------------------------------------------------------\u001b[0m",
      "\u001b[0;31mTypeError\u001b[0m                                 Traceback (most recent call last)",
      "\u001b[0;32m<ipython-input-72-b265071c056c>\u001b[0m in \u001b[0;36m<module>\u001b[0;34m\u001b[0m\n\u001b[0;32m----> 1\u001b[0;31m \u001b[0;36m5\u001b[0m \u001b[0;34m+\u001b[0m \u001b[0;34m\"5\"\u001b[0m\u001b[0;34m\u001b[0m\u001b[0;34m\u001b[0m\u001b[0m\n\u001b[0m",
      "\u001b[0;31mTypeError\u001b[0m: unsupported operand type(s) for +: 'int' and 'str'"
     ]
    }
   ],
   "source": [
    "5 + \"5\""
   ]
  },
  {
   "cell_type": "code",
   "execution_count": null,
   "id": "6570bf84",
   "metadata": {},
   "outputs": [],
   "source": []
  }
 ],
 "metadata": {
  "kernelspec": {
   "display_name": "Python 3",
   "language": "python",
   "name": "python3"
  },
  "language_info": {
   "codemirror_mode": {
    "name": "ipython",
    "version": 3
   },
   "file_extension": ".py",
   "mimetype": "text/x-python",
   "name": "python",
   "nbconvert_exporter": "python",
   "pygments_lexer": "ipython3",
   "version": "3.8.8"
  }
 },
 "nbformat": 4,
 "nbformat_minor": 5
}
