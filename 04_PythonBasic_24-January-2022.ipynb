{
 "cells": [
  {
   "cell_type": "markdown",
   "id": "406f2981",
   "metadata": {},
   "source": [
    "<img src=\"https://docs.google.com/uc?id=14xeXxFrVRjvOoUYWn_GuyE-v84wVzrqr\" class=\"img-fluid\" alt=\"CLRWY\" width=\"400\" height=\"200\">"
   ]
  },
  {
   "cell_type": "markdown",
   "id": "22263af8",
   "metadata": {},
   "source": [
    "<h1><p style=\"text-align: center; color:darkblue\">Python In-Class, <br>24 January 2022</p><h1>"
   ]
  },
  {
   "cell_type": "markdown",
   "id": "e2011d8e",
   "metadata": {},
   "source": [
    "<img src=\"https://docs.google.com/uc?id=13AS6ODcLqyASHwgDhX8JidRguGeIoun2\" class=\"img-fluid\" alt=\"dolma\" width=\"400\" height=\"400\">"
   ]
  },
  {
   "cell_type": "markdown",
   "id": "0aa62a13",
   "metadata": {},
   "source": [
    "- Kadayıf\n",
    "- İç\n",
    "  - Ceviz\n",
    "  - Fındık\n",
    "  - Fıstık\n",
    "  \n",
    "- Şerbet\n",
    "  - Su \n",
    "  - Şeker\n",
    " \n",
    "- Yumurta"
   ]
  },
  {
   "cell_type": "code",
   "execution_count": 8,
   "id": "7ab0f33c",
   "metadata": {},
   "outputs": [],
   "source": [
    "kadayıf = True  # olmazsa olmaz\n",
    "\n",
    "# iç --> olmazsa olmaz\n",
    "fındık = False  # fark etmez\n",
    "fıstık = False  # fark etmez\n",
    "ceviz = True  # fark etmez\n",
    "\n",
    "# şerbet  --> olmazsa olmaz\n",
    "su = True\n",
    "şeker = True\n",
    "\n",
    "yumurta = True  # olmazsa olmaz"
   ]
  },
  {
   "cell_type": "code",
   "execution_count": null,
   "id": "836ad026",
   "metadata": {},
   "outputs": [],
   "source": [
    "# yedim = kadayıf and (şerbet) and (iç) and yumurta"
   ]
  },
  {
   "cell_type": "code",
   "execution_count": 5,
   "id": "bdd9cdb9",
   "metadata": {},
   "outputs": [
    {
     "data": {
      "text/plain": [
       "False"
      ]
     },
     "execution_count": 5,
     "metadata": {},
     "output_type": "execute_result"
    }
   ],
   "source": [
    "yedim = kadayıf and (su and şeker) and (fındık or fıstık or ceviz) and yumurta\n",
    "yedim"
   ]
  },
  {
   "cell_type": "code",
   "execution_count": 9,
   "id": "c44fb855",
   "metadata": {},
   "outputs": [],
   "source": [
    "# içecek --> olmazsa olmaz\n",
    "\n",
    "çay = True\n",
    "meşrubat = False\n",
    "limonata = False"
   ]
  },
  {
   "cell_type": "code",
   "execution_count": 10,
   "id": "1259329d",
   "metadata": {},
   "outputs": [
    {
     "data": {
      "text/plain": [
       "True"
      ]
     },
     "execution_count": 10,
     "metadata": {},
     "output_type": "execute_result"
    }
   ],
   "source": [
    "yedim = kadayıf and (su and şeker) and (fındık or fıstık or ceviz) and yumurta\\\n",
    "and (çay or meşrubat or limonata)\n",
    "yedim"
   ]
  },
  {
   "cell_type": "code",
   "execution_count": 11,
   "id": "e62c5d6a",
   "metadata": {},
   "outputs": [],
   "source": [
    "para = 1000"
   ]
  },
  {
   "cell_type": "code",
   "execution_count": 12,
   "id": "d7467946",
   "metadata": {},
   "outputs": [
    {
     "data": {
      "text/plain": [
       "1070.0"
      ]
     },
     "execution_count": 12,
     "metadata": {},
     "output_type": "execute_result"
    }
   ],
   "source": [
    "para = para + para * 0.07  # pazartesi\n",
    "para"
   ]
  },
  {
   "cell_type": "code",
   "execution_count": 13,
   "id": "e21fb421",
   "metadata": {},
   "outputs": [
    {
     "data": {
      "text/plain": [
       "1144.9"
      ]
     },
     "execution_count": 13,
     "metadata": {},
     "output_type": "execute_result"
    }
   ],
   "source": [
    "para = para + para * 0.07  # salı\n",
    "para"
   ]
  },
  {
   "cell_type": "code",
   "execution_count": 14,
   "id": "e957a07c",
   "metadata": {},
   "outputs": [
    {
     "data": {
      "text/plain": [
       "1225.0430000000001"
      ]
     },
     "execution_count": 14,
     "metadata": {},
     "output_type": "execute_result"
    }
   ],
   "source": [
    "para = para + para * 0.07  # çarşamba\n",
    "para"
   ]
  },
  {
   "cell_type": "code",
   "execution_count": 15,
   "id": "41eba054",
   "metadata": {},
   "outputs": [
    {
     "data": {
      "text/plain": [
       "1310.79601"
      ]
     },
     "execution_count": 15,
     "metadata": {},
     "output_type": "execute_result"
    }
   ],
   "source": [
    "para = para + para * 0.07  # perşembe\n",
    "para"
   ]
  },
  {
   "cell_type": "code",
   "execution_count": 16,
   "id": "7675c4e4",
   "metadata": {},
   "outputs": [
    {
     "data": {
      "text/plain": [
       "1402.5517307"
      ]
     },
     "execution_count": 16,
     "metadata": {},
     "output_type": "execute_result"
    }
   ],
   "source": [
    "para = para + para * 0.07  # cuma\n",
    "para"
   ]
  },
  {
   "cell_type": "code",
   "execution_count": 17,
   "id": "311587a6",
   "metadata": {},
   "outputs": [
    {
     "data": {
      "text/plain": [
       "1500.730351849"
      ]
     },
     "execution_count": 17,
     "metadata": {},
     "output_type": "execute_result"
    }
   ],
   "source": [
    "para = para + para * 0.07  # cumartesi\n",
    "para"
   ]
  },
  {
   "cell_type": "code",
   "execution_count": 18,
   "id": "66a4e1c3",
   "metadata": {},
   "outputs": [
    {
     "data": {
      "text/plain": [
       "1605.78147647843"
      ]
     },
     "execution_count": 18,
     "metadata": {},
     "output_type": "execute_result"
    }
   ],
   "source": [
    "para = para + para * 0.07  # pazar\n",
    "para"
   ]
  },
  {
   "cell_type": "code",
   "execution_count": 20,
   "id": "cb2d0e19",
   "metadata": {},
   "outputs": [],
   "source": [
    "para = 1000"
   ]
  },
  {
   "cell_type": "code",
   "execution_count": null,
   "id": "3fc835b9",
   "metadata": {},
   "outputs": [],
   "source": [
    "para = para * 1.07\n",
    "para = para * 1.07 * 1.07 * 1.07 * 1.07 * 1.07 * 1.07 * 1.07\n",
    "# para = para * 1.07\n",
    "# para = para * 1.07\n",
    "# para = para * 1.07\n",
    "# para = para * 1.07\n",
    "# para = para * 1.07"
   ]
  },
  {
   "cell_type": "code",
   "execution_count": 21,
   "id": "1fe2d2b7",
   "metadata": {},
   "outputs": [
    {
     "data": {
      "text/plain": [
       "1605.7814764784307"
      ]
     },
     "execution_count": 21,
     "metadata": {},
     "output_type": "execute_result"
    }
   ],
   "source": [
    "sonuç = para * 1.07**7\n",
    "sonuç"
   ]
  },
  {
   "cell_type": "code",
   "execution_count": 22,
   "id": "c28259dc",
   "metadata": {},
   "outputs": [],
   "source": [
    "city = \"phoenix\""
   ]
  },
  {
   "cell_type": "code",
   "execution_count": 23,
   "id": "7dfec446",
   "metadata": {},
   "outputs": [
    {
     "data": {
      "text/plain": [
       "'i'"
      ]
     },
     "execution_count": 23,
     "metadata": {},
     "output_type": "execute_result"
    }
   ],
   "source": [
    "city[-2]"
   ]
  },
  {
   "cell_type": "code",
   "execution_count": 24,
   "id": "e2f73fb5",
   "metadata": {},
   "outputs": [
    {
     "data": {
      "text/plain": [
       "'i'"
      ]
     },
     "execution_count": 24,
     "metadata": {},
     "output_type": "execute_result"
    }
   ],
   "source": [
    "city[5]"
   ]
  },
  {
   "cell_type": "code",
   "execution_count": 25,
   "id": "e0d2a33d",
   "metadata": {},
   "outputs": [
    {
     "data": {
      "text/plain": [
       "'hoen'"
      ]
     },
     "execution_count": 25,
     "metadata": {},
     "output_type": "execute_result"
    }
   ],
   "source": [
    "city[1:5]"
   ]
  },
  {
   "cell_type": "code",
   "execution_count": 26,
   "id": "ee3d5db1",
   "metadata": {},
   "outputs": [
    {
     "data": {
      "text/plain": [
       "'hoen'"
      ]
     },
     "execution_count": 26,
     "metadata": {},
     "output_type": "execute_result"
    }
   ],
   "source": [
    "city[-6:-2]"
   ]
  },
  {
   "cell_type": "code",
   "execution_count": 27,
   "id": "e9aa39fe",
   "metadata": {},
   "outputs": [
    {
     "data": {
      "text/plain": [
       "'hoe'"
      ]
     },
     "execution_count": 27,
     "metadata": {},
     "output_type": "execute_result"
    }
   ],
   "source": [
    "city[1:-3]"
   ]
  },
  {
   "cell_type": "code",
   "execution_count": 28,
   "id": "b41a80a5",
   "metadata": {},
   "outputs": [
    {
     "data": {
      "text/plain": [
       "'phoe'"
      ]
     },
     "execution_count": 28,
     "metadata": {},
     "output_type": "execute_result"
    }
   ],
   "source": [
    "city[-7:4]"
   ]
  },
  {
   "cell_type": "code",
   "execution_count": null,
   "id": "8e4b3222",
   "metadata": {},
   "outputs": [],
   "source": [
    "city[::-1]"
   ]
  },
  {
   "cell_type": "code",
   "execution_count": 29,
   "id": "f16b1ffd",
   "metadata": {},
   "outputs": [
    {
     "data": {
      "text/plain": [
       "''"
      ]
     },
     "execution_count": 29,
     "metadata": {},
     "output_type": "execute_result"
    }
   ],
   "source": [
    "city[-2:-6]"
   ]
  },
  {
   "cell_type": "code",
   "execution_count": 30,
   "id": "d499c6e3",
   "metadata": {},
   "outputs": [
    {
     "data": {
      "text/plain": [
       "'ineo'"
      ]
     },
     "execution_count": 30,
     "metadata": {},
     "output_type": "execute_result"
    }
   ],
   "source": [
    "city[-2:-6:-1]"
   ]
  },
  {
   "cell_type": "code",
   "execution_count": 31,
   "id": "dddd4e49",
   "metadata": {},
   "outputs": [
    {
     "data": {
      "text/plain": [
       "''"
      ]
     },
     "execution_count": 31,
     "metadata": {},
     "output_type": "execute_result"
    }
   ],
   "source": [
    "city[2:6:-1]"
   ]
  },
  {
   "cell_type": "code",
   "execution_count": 32,
   "id": "d62fcdab",
   "metadata": {},
   "outputs": [
    {
     "data": {
      "text/plain": [
       "7"
      ]
     },
     "execution_count": 32,
     "metadata": {},
     "output_type": "execute_result"
    }
   ],
   "source": [
    "len(city)"
   ]
  },
  {
   "cell_type": "code",
   "execution_count": 33,
   "id": "b213d2cf",
   "metadata": {},
   "outputs": [
    {
     "data": {
      "text/plain": [
       "3"
      ]
     },
     "execution_count": 33,
     "metadata": {},
     "output_type": "execute_result"
    }
   ],
   "source": [
    "len(\"321\")"
   ]
  },
  {
   "cell_type": "code",
   "execution_count": 34,
   "id": "2ea308cf",
   "metadata": {},
   "outputs": [
    {
     "data": {
      "text/plain": [
       "1"
      ]
     },
     "execution_count": 34,
     "metadata": {},
     "output_type": "execute_result"
    }
   ],
   "source": [
    "len(\"0\")"
   ]
  },
  {
   "cell_type": "code",
   "execution_count": 35,
   "id": "3ed57ad6",
   "metadata": {},
   "outputs": [
    {
     "data": {
      "text/plain": [
       "3"
      ]
     },
     "execution_count": 35,
     "metadata": {},
     "output_type": "execute_result"
    }
   ],
   "source": [
    "len(\"1 1\")"
   ]
  },
  {
   "cell_type": "code",
   "execution_count": 36,
   "id": "13fe5545",
   "metadata": {},
   "outputs": [
    {
     "ename": "TypeError",
     "evalue": "object of type 'int' has no len()",
     "output_type": "error",
     "traceback": [
      "\u001b[0;31m---------------------------------------------------------------------------\u001b[0m",
      "\u001b[0;31mTypeError\u001b[0m                                 Traceback (most recent call last)",
      "\u001b[0;32m<ipython-input-36-93cd539acb93>\u001b[0m in \u001b[0;36m<module>\u001b[0;34m\u001b[0m\n\u001b[0;32m----> 1\u001b[0;31m \u001b[0mlen\u001b[0m\u001b[0;34m(\u001b[0m\u001b[0;36m111\u001b[0m\u001b[0;34m)\u001b[0m\u001b[0;34m\u001b[0m\u001b[0;34m\u001b[0m\u001b[0m\n\u001b[0m",
      "\u001b[0;31mTypeError\u001b[0m: object of type 'int' has no len()"
     ]
    }
   ],
   "source": [
    "len(111)"
   ]
  },
  {
   "cell_type": "code",
   "execution_count": 37,
   "id": "ae6916cf",
   "metadata": {},
   "outputs": [
    {
     "data": {
      "text/plain": [
       "'121121'"
      ]
     },
     "execution_count": 37,
     "metadata": {},
     "output_type": "execute_result"
    }
   ],
   "source": [
    "sonuc = str((5 + 6) ** 2) + \"121\"\n",
    "sonuc"
   ]
  },
  {
   "cell_type": "code",
   "execution_count": 39,
   "id": "aacd20a8",
   "metadata": {},
   "outputs": [
    {
     "data": {
      "text/plain": [
       "'alideliveli'"
      ]
     },
     "execution_count": 39,
     "metadata": {},
     "output_type": "execute_result"
    }
   ],
   "source": [
    "\"ali\" + \"deli\" + \"veli\""
   ]
  },
  {
   "cell_type": "code",
   "execution_count": 40,
   "id": "da38b8c5",
   "metadata": {},
   "outputs": [
    {
     "data": {
      "text/plain": [
       "'100500001'"
      ]
     },
     "execution_count": 40,
     "metadata": {},
     "output_type": "execute_result"
    }
   ],
   "source": [
    "\"100\" + \"500\" + \"001\""
   ]
  },
  {
   "cell_type": "code",
   "execution_count": 41,
   "id": "56690d0e",
   "metadata": {},
   "outputs": [
    {
     "data": {
      "text/plain": [
       "'121121121121121121121121'"
      ]
     },
     "execution_count": 41,
     "metadata": {},
     "output_type": "execute_result"
    }
   ],
   "source": [
    "sonuc = (sonuc + sonuc) * 2\n",
    "sonuc"
   ]
  },
  {
   "cell_type": "code",
   "execution_count": 42,
   "id": "39f186a1",
   "metadata": {},
   "outputs": [
    {
     "data": {
      "text/plain": [
       "'alialiali'"
      ]
     },
     "execution_count": 42,
     "metadata": {},
     "output_type": "execute_result"
    }
   ],
   "source": [
    "\"ali\" * 3"
   ]
  },
  {
   "cell_type": "code",
   "execution_count": 43,
   "id": "ddd0e7c7",
   "metadata": {},
   "outputs": [
    {
     "data": {
      "text/plain": [
       "'veliveliveli'"
      ]
     },
     "execution_count": 43,
     "metadata": {},
     "output_type": "execute_result"
    }
   ],
   "source": [
    "3 * \"veli\""
   ]
  },
  {
   "cell_type": "code",
   "execution_count": 45,
   "id": "057332ff",
   "metadata": {},
   "outputs": [
    {
     "name": "stdout",
     "output_type": "stream",
     "text": [
      "c l a r u s w a y\n"
     ]
    }
   ],
   "source": [
    "print(* \"clarusway\")"
   ]
  },
  {
   "cell_type": "code",
   "execution_count": 46,
   "id": "daad8c69",
   "metadata": {},
   "outputs": [
    {
     "ename": "TypeError",
     "evalue": "unsupported operand type(s) for +: 'int' and 'str'",
     "output_type": "error",
     "traceback": [
      "\u001b[0;31m---------------------------------------------------------------------------\u001b[0m",
      "\u001b[0;31mTypeError\u001b[0m                                 Traceback (most recent call last)",
      "\u001b[0;32m<ipython-input-46-b780703cc5f9>\u001b[0m in \u001b[0;36m<module>\u001b[0;34m\u001b[0m\n\u001b[0;32m----> 1\u001b[0;31m \u001b[0;36m1\u001b[0m \u001b[0;34m+\u001b[0m \u001b[0;34m\"1\"\u001b[0m\u001b[0;34m\u001b[0m\u001b[0;34m\u001b[0m\u001b[0m\n\u001b[0m",
      "\u001b[0;31mTypeError\u001b[0m: unsupported operand type(s) for +: 'int' and 'str'"
     ]
    }
   ],
   "source": [
    "1 + \"1\""
   ]
  },
  {
   "cell_type": "code",
   "execution_count": 47,
   "id": "7412ca18",
   "metadata": {},
   "outputs": [
    {
     "data": {
      "text/plain": [
       "'vv'"
      ]
     },
     "execution_count": 47,
     "metadata": {},
     "output_type": "execute_result"
    }
   ],
   "source": [
    "2 * \"v\""
   ]
  },
  {
   "cell_type": "code",
   "execution_count": 48,
   "id": "dabfed2b",
   "metadata": {},
   "outputs": [
    {
     "name": "stdout",
     "output_type": "stream",
     "text": [
      "I   a m   a n g r y . . .\n"
     ]
    }
   ],
   "source": [
    "string_1 = 'I am angry...'\n",
    "print(* string_1)"
   ]
  },
  {
   "cell_type": "code",
   "execution_count": 49,
   "id": "951b701a",
   "metadata": {},
   "outputs": [
    {
     "name": "stdout",
     "output_type": "stream",
     "text": [
      "1 4 5 3\n"
     ]
    }
   ],
   "source": [
    "string_2 = '1453'\n",
    "print(* string_2)"
   ]
  },
  {
   "cell_type": "code",
   "execution_count": 50,
   "id": "63e315f2",
   "metadata": {},
   "outputs": [
    {
     "name": "stdout",
     "output_type": "stream",
     "text": [
      "j o s e p h @ c l a r u s w a y . c o m\n"
     ]
    }
   ],
   "source": [
    "print(* 'joseph@clarusway.com')"
   ]
  },
  {
   "cell_type": "code",
   "execution_count": 51,
   "id": "5a27698a",
   "metadata": {},
   "outputs": [
    {
     "data": {
      "text/plain": [
       "1"
      ]
     },
     "execution_count": 51,
     "metadata": {},
     "output_type": "execute_result"
    }
   ],
   "source": [
    "len(\" \")"
   ]
  },
  {
   "cell_type": "code",
   "execution_count": 52,
   "id": "269e17f2",
   "metadata": {},
   "outputs": [],
   "source": [
    "a = \"ali\"\n",
    "b = \"deli\""
   ]
  },
  {
   "cell_type": "code",
   "execution_count": 53,
   "id": "8bc9326d",
   "metadata": {},
   "outputs": [
    {
     "data": {
      "text/plain": [
       "'alideli'"
      ]
     },
     "execution_count": 53,
     "metadata": {},
     "output_type": "execute_result"
    }
   ],
   "source": [
    "a = a + b\n",
    "a"
   ]
  },
  {
   "cell_type": "code",
   "execution_count": null,
   "id": "7d88e986",
   "metadata": {},
   "outputs": [],
   "source": [
    "\"metotlar\".format()"
   ]
  },
  {
   "cell_type": "code",
   "execution_count": 54,
   "id": "7cfb5486",
   "metadata": {},
   "outputs": [],
   "source": [
    "deneme = \"clarusway\""
   ]
  },
  {
   "cell_type": "code",
   "execution_count": null,
   "id": "4918f13e",
   "metadata": {},
   "outputs": [],
   "source": [
    "deneme.format()"
   ]
  },
  {
   "cell_type": "code",
   "execution_count": 55,
   "id": "f90eb753",
   "metadata": {},
   "outputs": [],
   "source": [
    "saat = \"05:00\"\n",
    "yer = \"Okul\"\n",
    "miktar = 2"
   ]
  },
  {
   "cell_type": "code",
   "execution_count": 56,
   "id": "519cdc40",
   "metadata": {},
   "outputs": [
    {
     "data": {
      "text/plain": [
       "\"Ben sabah 05:00 de uyandım. Okul'a gittim. Gelirken de 2 kg elma aldım.\""
      ]
     },
     "execution_count": 56,
     "metadata": {},
     "output_type": "execute_result"
    }
   ],
   "source": [
    "\"Ben sabah {} de uyandım. {}'a gittim. Gelirken de {} kg elma aldım.\".format(saat, yer, miktar)"
   ]
  },
  {
   "cell_type": "code",
   "execution_count": 57,
   "id": "d3de796a",
   "metadata": {},
   "outputs": [
    {
     "data": {
      "text/plain": [
       "\"Ben sabah 05:00 de uyandım. Okul'a gittim. Gelirken de 2 kg elma aldım.\""
      ]
     },
     "execution_count": 57,
     "metadata": {},
     "output_type": "execute_result"
    }
   ],
   "source": [
    "\"Ben sabah {} de uyandım. {}'a gittim. Gelirken de {} kg elma aldım.\".format(\"05:00\", \"Okul\", 2)\n"
   ]
  },
  {
   "cell_type": "code",
   "execution_count": 58,
   "id": "1cc3c0c3",
   "metadata": {},
   "outputs": [
    {
     "data": {
      "text/plain": [
       "\"Ben sabah 05:00 de uyandım. Okul'a gittim. Gelirken de 2 kg elma aldım.\""
      ]
     },
     "execution_count": 58,
     "metadata": {},
     "output_type": "execute_result"
    }
   ],
   "source": [
    "\"Ben sabah {saat} de uyandım. {yer}'a gittim. Gelirken de {miktar} kg elma aldım.\".format(yer = \"Okul\", miktar = 2, saat = \"05:00\")\n"
   ]
  },
  {
   "cell_type": "code",
   "execution_count": 61,
   "id": "a88e11a5",
   "metadata": {},
   "outputs": [
    {
     "data": {
      "text/plain": [
       "\"Ben sabah 05:00 de uyandım. Okul'a gittim. Gelirken de 3 kg elma aldım.\""
      ]
     },
     "execution_count": 61,
     "metadata": {},
     "output_type": "execute_result"
    }
   ],
   "source": [
    "\"Ben sabah {1} de uyandım. {0}'a gittim. Gelirken de {2} kg elma aldım.\".format(\"Okul\", \"05:00\", 3)\n"
   ]
  },
  {
   "cell_type": "code",
   "execution_count": null,
   "id": "3a06b2c0",
   "metadata": {},
   "outputs": [],
   "source": []
  }
 ],
 "metadata": {
  "kernelspec": {
   "display_name": "Python 3",
   "language": "python",
   "name": "python3"
  },
  "language_info": {
   "codemirror_mode": {
    "name": "ipython",
    "version": 3
   },
   "file_extension": ".py",
   "mimetype": "text/x-python",
   "name": "python",
   "nbconvert_exporter": "python",
   "pygments_lexer": "ipython3",
   "version": "3.8.8"
  }
 },
 "nbformat": 4,
 "nbformat_minor": 5
}
