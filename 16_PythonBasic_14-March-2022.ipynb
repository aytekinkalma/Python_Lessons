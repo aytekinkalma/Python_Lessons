{
 "cells": [
  {
   "cell_type": "markdown",
   "id": "406f2981",
   "metadata": {},
   "source": [
    "<img src=\"https://docs.google.com/uc?id=14xeXxFrVRjvOoUYWn_GuyE-v84wVzrqr\" class=\"img-fluid\" alt=\"CLRWY\" width=\"400\" height=\"200\">"
   ]
  },
  {
   "cell_type": "markdown",
   "id": "22263af8",
   "metadata": {},
   "source": [
    "<h1><p style=\"text-align: center; color:darkblue\">Python In-Class, <br>14 March 2022</p><h1>"
   ]
  },
  {
   "cell_type": "code",
   "execution_count": 1,
   "id": "73562419",
   "metadata": {},
   "outputs": [],
   "source": [
    "def bitanefonksiyon(x = \"ali\", y = 22) :\n",
    "    print(x, y, \"yaşındadır.\")"
   ]
  },
  {
   "cell_type": "code",
   "execution_count": 2,
   "id": "c6256940",
   "metadata": {},
   "outputs": [
    {
     "name": "stdout",
     "output_type": "stream",
     "text": [
      "ali 22 yaşındadır.\n"
     ]
    }
   ],
   "source": [
    "bitanefonksiyon()"
   ]
  },
  {
   "cell_type": "code",
   "execution_count": 3,
   "id": "e2a5a7b3",
   "metadata": {},
   "outputs": [
    {
     "name": "stdout",
     "output_type": "stream",
     "text": [
      "deli 33 yaşındadır.\n"
     ]
    }
   ],
   "source": [
    "bitanefonksiyon(y = 33, x = \"deli\")"
   ]
  },
  {
   "cell_type": "code",
   "execution_count": 4,
   "id": "82c3f5d0",
   "metadata": {},
   "outputs": [
    {
     "name": "stdout",
     "output_type": "stream",
     "text": [
      "veli 40 yaşındadır.\n"
     ]
    }
   ],
   "source": [
    "bitanefonksiyon(\"veli\", 40)"
   ]
  },
  {
   "cell_type": "code",
   "execution_count": 5,
   "id": "03ab5a28",
   "metadata": {},
   "outputs": [
    {
     "name": "stdout",
     "output_type": "stream",
     "text": [
      "selin 22 yaşındadır.\n"
     ]
    }
   ],
   "source": [
    "bitanefonksiyon(\"selin\")"
   ]
  },
  {
   "cell_type": "code",
   "execution_count": 6,
   "id": "f03abaa8",
   "metadata": {},
   "outputs": [
    {
     "name": "stdout",
     "output_type": "stream",
     "text": [
      "33 22 yaşındadır.\n"
     ]
    }
   ],
   "source": [
    "bitanefonksiyon(33)"
   ]
  },
  {
   "cell_type": "code",
   "execution_count": 28,
   "id": "faa82bb5",
   "metadata": {},
   "outputs": [],
   "source": [
    "def fonksiyon(x, y) :\n",
    "    print(x, y, \"yaşındadır.\")"
   ]
  },
  {
   "cell_type": "code",
   "execution_count": 29,
   "id": "08056f8d",
   "metadata": {},
   "outputs": [
    {
     "name": "stdout",
     "output_type": "stream",
     "text": [
      "ali 33 yaşındadır.\n"
     ]
    }
   ],
   "source": [
    "fonksiyon(x = \"ali\", y = 33)"
   ]
  },
  {
   "cell_type": "code",
   "execution_count": 30,
   "id": "c81f343f",
   "metadata": {},
   "outputs": [
    {
     "name": "stdout",
     "output_type": "stream",
     "text": [
      "ali 33 yaşındadır.\n"
     ]
    }
   ],
   "source": [
    "fonksiyon(y = 33, x = \"ali\")"
   ]
  },
  {
   "cell_type": "code",
   "execution_count": 7,
   "id": "b477f30a",
   "metadata": {},
   "outputs": [],
   "source": [
    "def parrot(voltage, state='a stiff', action='voom', type='Norwegian Blue'):\n",
    "    print(\"-- This parrot wouldn't\", action, end=' ')\n",
    "    print(\"if you put\", voltage, \"volts through it.\")\n",
    "    print(\"-- Lovely plumage, the\", type)\n",
    "    print(\"-- It's\", state, \"!\")"
   ]
  },
  {
   "cell_type": "code",
   "execution_count": 8,
   "id": "b7c8f306",
   "metadata": {},
   "outputs": [
    {
     "name": "stdout",
     "output_type": "stream",
     "text": [
      "-- This parrot wouldn't voom if you put 1000 volts through it.\n",
      "-- Lovely plumage, the Norwegian Blue\n",
      "-- It's a stiff !\n"
     ]
    }
   ],
   "source": [
    "parrot(1000)"
   ]
  },
  {
   "cell_type": "code",
   "execution_count": 9,
   "id": "0b65d4dd",
   "metadata": {},
   "outputs": [
    {
     "name": "stdout",
     "output_type": "stream",
     "text": [
      "-- This parrot wouldn't VOOOOOM if you put 1000000 volts through it.\n",
      "-- Lovely plumage, the Norwegian Blue\n",
      "-- It's a stiff !\n"
     ]
    }
   ],
   "source": [
    "parrot(voltage=1000000, action=\"VOOOOOM\")"
   ]
  },
  {
   "cell_type": "code",
   "execution_count": 10,
   "id": "e5361de4",
   "metadata": {},
   "outputs": [
    {
     "name": "stdout",
     "output_type": "stream",
     "text": [
      "-- This parrot wouldn't VOOOOOM if you put 1000000 volts through it.\n",
      "-- Lovely plumage, the Norwegian Blue\n",
      "-- It's a stiff !\n"
     ]
    }
   ],
   "source": [
    "parrot(action=\"VOOOOOM\", voltage=1000000)"
   ]
  },
  {
   "cell_type": "code",
   "execution_count": 11,
   "id": "3dac6a4a",
   "metadata": {},
   "outputs": [],
   "source": [
    "def parrot(voltage, state='a stiff', action='voom', type='Norwegian Blue'):\n",
    "    print(\"-- This parrot wouldn't\", action, end=' ')\n",
    "    print(\"if you put\", voltage, \"volts through it.\")\n",
    "    print(\"-- Lovely plumage, the\", type)\n",
    "    print(\"-- It's\", state, \"!\")"
   ]
  },
  {
   "cell_type": "code",
   "execution_count": 13,
   "id": "0e481b08",
   "metadata": {},
   "outputs": [
    {
     "name": "stdout",
     "output_type": "stream",
     "text": [
      "-- This parrot wouldn't JUMP if you put A MILLION volts through it.\n",
      "-- Lovely plumage, the Norwegian Blue\n",
      "-- It's BEREFT OF LIFE !\n"
     ]
    }
   ],
   "source": [
    "parrot(\"A MILLION\", \"BEREFT OF LIFE\", \"JUMP\")"
   ]
  },
  {
   "cell_type": "code",
   "execution_count": 14,
   "id": "f26a77c1",
   "metadata": {},
   "outputs": [
    {
     "name": "stdout",
     "output_type": "stream",
     "text": [
      "-- This parrot wouldn't voom if you put A THOUSAND volts through it.\n",
      "-- Lovely plumage, the Norwegian Blue\n",
      "-- It's PUSHING UP THE DAISIES !\n"
     ]
    }
   ],
   "source": [
    "parrot(\"A THOUSAND\", state=\"PUSHING UP THE DAISIES\")"
   ]
  },
  {
   "cell_type": "code",
   "execution_count": 15,
   "id": "bf662f18",
   "metadata": {},
   "outputs": [
    {
     "ename": "TypeError",
     "evalue": "parrot() missing 1 required positional argument: 'voltage'",
     "output_type": "error",
     "traceback": [
      "\u001b[0;31m---------------------------------------------------------------------------\u001b[0m",
      "\u001b[0;31mTypeError\u001b[0m                                 Traceback (most recent call last)",
      "\u001b[0;32m<ipython-input-15-1fa32faf15ff>\u001b[0m in \u001b[0;36m<module>\u001b[0;34m\u001b[0m\n\u001b[0;32m----> 1\u001b[0;31m \u001b[0mparrot\u001b[0m\u001b[0;34m(\u001b[0m\u001b[0;34m)\u001b[0m\u001b[0;34m\u001b[0m\u001b[0;34m\u001b[0m\u001b[0m\n\u001b[0m",
      "\u001b[0;31mTypeError\u001b[0m: parrot() missing 1 required positional argument: 'voltage'"
     ]
    }
   ],
   "source": [
    "parrot()"
   ]
  },
  {
   "cell_type": "code",
   "execution_count": 16,
   "id": "f26089fe",
   "metadata": {},
   "outputs": [
    {
     "ename": "SyntaxError",
     "evalue": "positional argument follows keyword argument (<ipython-input-16-1e819ba30355>, line 1)",
     "output_type": "error",
     "traceback": [
      "\u001b[0;36m  File \u001b[0;32m\"<ipython-input-16-1e819ba30355>\"\u001b[0;36m, line \u001b[0;32m1\u001b[0m\n\u001b[0;31m    parrot(voltage=5, \"dead\")\u001b[0m\n\u001b[0m                      ^\u001b[0m\n\u001b[0;31mSyntaxError\u001b[0m\u001b[0;31m:\u001b[0m positional argument follows keyword argument\n"
     ]
    }
   ],
   "source": [
    "parrot(voltage=5, \"dead\")"
   ]
  },
  {
   "cell_type": "code",
   "execution_count": null,
   "id": "65e535be",
   "metadata": {},
   "outputs": [],
   "source": [
    "def parrot(voltage, state='a stiff', action='voom', type='Norwegian Blue'):\n",
    "    print(\"-- This parrot wouldn't\", action, end=' ')\n",
    "    print(\"if you put\", voltage, \"volts through it.\")\n",
    "    print(\"-- Lovely plumage, the\", type)\n",
    "    print(\"-- It's\", state, \"!\")"
   ]
  },
  {
   "cell_type": "code",
   "execution_count": 17,
   "id": "29963c1f",
   "metadata": {},
   "outputs": [
    {
     "ename": "SyntaxError",
     "evalue": "positional argument follows keyword argument (<ipython-input-17-4c57ebca4dd7>, line 1)",
     "output_type": "error",
     "traceback": [
      "\u001b[0;36m  File \u001b[0;32m\"<ipython-input-17-4c57ebca4dd7>\"\u001b[0;36m, line \u001b[0;32m1\u001b[0m\n\u001b[0;31m    parrot(state=\"BALL\", \"A BILLION\")\u001b[0m\n\u001b[0m                         ^\u001b[0m\n\u001b[0;31mSyntaxError\u001b[0m\u001b[0;31m:\u001b[0m positional argument follows keyword argument\n"
     ]
    }
   ],
   "source": [
    "parrot(state=\"BALL\", \"A BILLION\")"
   ]
  },
  {
   "cell_type": "code",
   "execution_count": 18,
   "id": "d586214e",
   "metadata": {},
   "outputs": [
    {
     "ename": "SyntaxError",
     "evalue": "non-default argument follows default argument (<ipython-input-18-a16aa314c4e9>, line 1)",
     "output_type": "error",
     "traceback": [
      "\u001b[0;36m  File \u001b[0;32m\"<ipython-input-18-a16aa314c4e9>\"\u001b[0;36m, line \u001b[0;32m1\u001b[0m\n\u001b[0;31m    def argu(a, b = \"dünya\", c, d = \"satürn\") :\u001b[0m\n\u001b[0m             ^\u001b[0m\n\u001b[0;31mSyntaxError\u001b[0m\u001b[0;31m:\u001b[0m non-default argument follows default argument\n"
     ]
    }
   ],
   "source": [
    "def argu(a, b = \"dünya\", c, d = \"satürn\") :\n",
    "    print(a, b, c, d, sep = \"\\n\")"
   ]
  },
  {
   "cell_type": "code",
   "execution_count": 19,
   "id": "560873e2",
   "metadata": {},
   "outputs": [],
   "source": [
    "def argu(a, c, b = \"dünya\", d = \"satürn\") :\n",
    "    print(a, b, c, d, sep = \"\\n\")"
   ]
  },
  {
   "cell_type": "code",
   "execution_count": 20,
   "id": "d1299105",
   "metadata": {},
   "outputs": [
    {
     "ename": "TypeError",
     "evalue": "argu() missing 2 required positional arguments: 'a' and 'c'",
     "output_type": "error",
     "traceback": [
      "\u001b[0;31m---------------------------------------------------------------------------\u001b[0m",
      "\u001b[0;31mTypeError\u001b[0m                                 Traceback (most recent call last)",
      "\u001b[0;32m<ipython-input-20-2743aba80a34>\u001b[0m in \u001b[0;36m<module>\u001b[0;34m\u001b[0m\n\u001b[0;32m----> 1\u001b[0;31m \u001b[0margu\u001b[0m\u001b[0;34m(\u001b[0m\u001b[0;34m)\u001b[0m\u001b[0;34m\u001b[0m\u001b[0;34m\u001b[0m\u001b[0m\n\u001b[0m",
      "\u001b[0;31mTypeError\u001b[0m: argu() missing 2 required positional arguments: 'a' and 'c'"
     ]
    }
   ],
   "source": [
    "argu()"
   ]
  },
  {
   "cell_type": "code",
   "execution_count": 21,
   "id": "eb48fe3d",
   "metadata": {},
   "outputs": [
    {
     "name": "stdout",
     "output_type": "stream",
     "text": [
      "uranüs\n",
      "dünya\n",
      "jüpiter\n",
      "satürn\n"
     ]
    }
   ],
   "source": [
    "argu(\"uranüs\", \"jüpiter\")"
   ]
  },
  {
   "cell_type": "code",
   "execution_count": 22,
   "id": "42eba811",
   "metadata": {},
   "outputs": [],
   "source": [
    "def argu(a, c, b = \"dünya\", d = \"satürn\") :\n",
    "    print(a, b, c, d, sep = \"\\n\")"
   ]
  },
  {
   "cell_type": "code",
   "execution_count": 23,
   "id": "e902f603",
   "metadata": {},
   "outputs": [
    {
     "name": "stdout",
     "output_type": "stream",
     "text": [
      "uranüs\n",
      "dünya\n",
      "jüpiter\n",
      "satürn\n"
     ]
    }
   ],
   "source": [
    "argu(a = \"uranüs\", c = \"jüpiter\")"
   ]
  },
  {
   "cell_type": "code",
   "execution_count": 24,
   "id": "a55f2936",
   "metadata": {},
   "outputs": [
    {
     "ename": "SyntaxError",
     "evalue": "positional argument follows keyword argument (<ipython-input-24-5c83c5dd5081>, line 1)",
     "output_type": "error",
     "traceback": [
      "\u001b[0;36m  File \u001b[0;32m\"<ipython-input-24-5c83c5dd5081>\"\u001b[0;36m, line \u001b[0;32m1\u001b[0m\n\u001b[0;31m    argu(\"plüto\", c = \"venüs\", \"mars\")\u001b[0m\n\u001b[0m                                 ^\u001b[0m\n\u001b[0;31mSyntaxError\u001b[0m\u001b[0;31m:\u001b[0m positional argument follows keyword argument\n"
     ]
    }
   ],
   "source": [
    "argu(\"plüto\", c = \"venüs\", \"mars\")"
   ]
  },
  {
   "cell_type": "code",
   "execution_count": 25,
   "id": "ede47cdb",
   "metadata": {},
   "outputs": [
    {
     "ename": "TypeError",
     "evalue": "argu() got multiple values for argument 'c'",
     "output_type": "error",
     "traceback": [
      "\u001b[0;31m---------------------------------------------------------------------------\u001b[0m",
      "\u001b[0;31mTypeError\u001b[0m                                 Traceback (most recent call last)",
      "\u001b[0;32m<ipython-input-25-4e39c7bf3245>\u001b[0m in \u001b[0;36m<module>\u001b[0;34m\u001b[0m\n\u001b[0;32m----> 1\u001b[0;31m \u001b[0margu\u001b[0m\u001b[0;34m(\u001b[0m\u001b[0;34m\"plüto\"\u001b[0m\u001b[0;34m,\u001b[0m \u001b[0;34m\"mars\"\u001b[0m\u001b[0;34m,\u001b[0m \u001b[0mc\u001b[0m \u001b[0;34m=\u001b[0m \u001b[0;34m\"venüs\"\u001b[0m\u001b[0;34m)\u001b[0m\u001b[0;34m\u001b[0m\u001b[0;34m\u001b[0m\u001b[0m\n\u001b[0m",
      "\u001b[0;31mTypeError\u001b[0m: argu() got multiple values for argument 'c'"
     ]
    }
   ],
   "source": [
    "argu(\"plüto\", \"mars\", c = \"venüs\")"
   ]
  },
  {
   "cell_type": "code",
   "execution_count": 26,
   "id": "828cbfd8",
   "metadata": {},
   "outputs": [
    {
     "name": "stdout",
     "output_type": "stream",
     "text": [
      "dünya\n",
      "venüs\n",
      "plüto\n",
      "güneş\n"
     ]
    }
   ],
   "source": [
    "argu(d = \"güneş\", a = \"dünya\", c = \"plüto\", b = \"venüs\")"
   ]
  },
  {
   "cell_type": "code",
   "execution_count": null,
   "id": "e6ecb221",
   "metadata": {},
   "outputs": [],
   "source": [
    "def argu(a, c, b = \"dünya\", d = \"satürn\") :\n",
    "    print(a, b, c, d, sep = \"\\n\")"
   ]
  },
  {
   "cell_type": "code",
   "execution_count": 27,
   "id": "989b72e9",
   "metadata": {},
   "outputs": [
    {
     "name": "stdout",
     "output_type": "stream",
     "text": [
      "güneş\n",
      "plüto\n",
      "dünya\n",
      "venüs\n"
     ]
    }
   ],
   "source": [
    "argu(\"güneş\", \"dünya\",\"plüto\", \"venüs\")"
   ]
  },
  {
   "cell_type": "code",
   "execution_count": 34,
   "id": "384960e6",
   "metadata": {},
   "outputs": [
    {
     "name": "stdout",
     "output_type": "stream",
     "text": [
      "I want to get :\n",
      "- orange\n",
      "- banana\n",
      "- melon\n",
      "- ananas\n"
     ]
    }
   ],
   "source": [
    "def fruiterer(*fruit) :\n",
    "    print('I want to get :')\n",
    "    for i in fruit :\n",
    "        print('-', i)\n",
    "        \n",
    "fruiterer('orange', 'banana', 'melon', 'ananas')\n"
   ]
  },
  {
   "cell_type": "code",
   "execution_count": 33,
   "id": "b3dd1c8c",
   "metadata": {},
   "outputs": [
    {
     "name": "stdout",
     "output_type": "stream",
     "text": [
      "<class 'tuple'>\n"
     ]
    }
   ],
   "source": [
    "def fruitererr(*fruit) :\n",
    "    print(type(fruit))\n",
    "    \n",
    "fruitererr('orange', 'banana', 'melon', 'ananas')\n"
   ]
  },
  {
   "cell_type": "code",
   "execution_count": 35,
   "id": "f4dcf540",
   "metadata": {},
   "outputs": [
    {
     "name": "stdout",
     "output_type": "stream",
     "text": [
      "I want to get :\n",
      "- orange\n"
     ]
    }
   ],
   "source": [
    "fruiterer(\"orange\")"
   ]
  },
  {
   "cell_type": "code",
   "execution_count": 36,
   "id": "cd8c1c3e",
   "metadata": {},
   "outputs": [],
   "source": [
    "def slicer(* num) :\n",
    "\n",
    "    evens = []\n",
    "    odds = []\n",
    "    \n",
    "    for i in num :\n",
    "        if i % 2 == 0 :\n",
    "            evens.append(i)\n",
    "        else :\n",
    "            odds.append(i)\n",
    "            \n",
    "    print(\"Even list :\", evens)\n",
    "    print(\"Odd list :\", odds)"
   ]
  },
  {
   "cell_type": "code",
   "execution_count": 37,
   "id": "42cb79cb",
   "metadata": {},
   "outputs": [
    {
     "name": "stdout",
     "output_type": "stream",
     "text": [
      "Even list : [2, 4, 6]\n",
      "Odd list : [1, 3, 5]\n"
     ]
    }
   ],
   "source": [
    "slicer(1,2,3,4,5,6)"
   ]
  },
  {
   "cell_type": "code",
   "execution_count": 38,
   "id": "b7646f96",
   "metadata": {},
   "outputs": [],
   "source": [
    "def organizer(** people) :\n",
    "    \n",
    "    names = []\n",
    "    ages = []\n",
    "    \n",
    "    for keys, values in people.items() :\n",
    "        names.append(keys)\n",
    "        ages.append(values)\n",
    "    print(names, ages, sep = \"\\n\")"
   ]
  },
  {
   "cell_type": "code",
   "execution_count": 39,
   "id": "023d1aee",
   "metadata": {},
   "outputs": [
    {
     "name": "stdout",
     "output_type": "stream",
     "text": [
      "['Beth', 'Oscar']\n",
      "[26, 41]\n"
     ]
    }
   ],
   "source": [
    "organizer(Beth = 26, Oscar = 41)"
   ]
  },
  {
   "cell_type": "code",
   "execution_count": 40,
   "id": "a3a26645",
   "metadata": {},
   "outputs": [
    {
     "name": "stdout",
     "output_type": "stream",
     "text": [
      "['Beth', 'Oscar', 'Justin']\n",
      "[26, 41, 18]\n"
     ]
    }
   ],
   "source": [
    "organizer(Beth = 26, Oscar = 41, Justin = 18)"
   ]
  },
  {
   "cell_type": "code",
   "execution_count": 41,
   "id": "08e310dd",
   "metadata": {},
   "outputs": [
    {
     "name": "stdout",
     "output_type": "stream",
     "text": [
      "['Beth', 'Oscar', 'Justin', 'Frank']\n",
      "[26, 41, 18, 33]\n"
     ]
    }
   ],
   "source": [
    "organizer(Beth = 26, Oscar = 41, Justin = 18, Frank = 33)"
   ]
  },
  {
   "cell_type": "code",
   "execution_count": 42,
   "id": "0a5d54c3",
   "metadata": {},
   "outputs": [
    {
     "data": {
      "text/plain": [
       "{'ali': 11, 'deli': 22, 'veli': 33}"
      ]
     },
     "execution_count": 42,
     "metadata": {},
     "output_type": "execute_result"
    }
   ],
   "source": [
    "dict(ali = 11, deli = 22, veli = 33)"
   ]
  },
  {
   "cell_type": "code",
   "execution_count": 43,
   "id": "d450db67",
   "metadata": {},
   "outputs": [],
   "source": [
    "def organizer2(** people) :\n",
    "    \n",
    "    names = []\n",
    "    ages = []\n",
    "    \n",
    "    for abuzittin, gönlüm in people.items() :\n",
    "        names.append(abuzittin)\n",
    "        ages.append(gönlüm)\n",
    "    print(names, ages, sep = \"\\n\")"
   ]
  },
  {
   "cell_type": "markdown",
   "id": "7825a924",
   "metadata": {},
   "source": [
    "## Fibonacci Numbers"
   ]
  },
  {
   "cell_type": "code",
   "execution_count": 44,
   "id": "7971f700",
   "metadata": {},
   "outputs": [],
   "source": [
    "fibo = [1, 1]\n"
   ]
  },
  {
   "cell_type": "code",
   "execution_count": 45,
   "id": "49a53d5b",
   "metadata": {},
   "outputs": [],
   "source": [
    "for i in range(8) :\n",
    "    \n",
    "    fibo.append(fibo[i] + fibo[i+1])"
   ]
  },
  {
   "cell_type": "code",
   "execution_count": 46,
   "id": "fc49d170",
   "metadata": {},
   "outputs": [
    {
     "data": {
      "text/plain": [
       "[1, 1, 2, 3, 5, 8, 13, 21, 34, 55]"
      ]
     },
     "execution_count": 46,
     "metadata": {},
     "output_type": "execute_result"
    }
   ],
   "source": [
    "fibo"
   ]
  },
  {
   "cell_type": "code",
   "execution_count": 49,
   "id": "3fdc68d0",
   "metadata": {},
   "outputs": [
    {
     "name": "stdout",
     "output_type": "stream",
     "text": [
      "Enter the number of sequence of Fibonacci.8\n"
     ]
    },
    {
     "data": {
      "text/plain": [
       "[1, 1, 2, 3, 5, 8, 13, 21]"
      ]
     },
     "execution_count": 49,
     "metadata": {},
     "output_type": "execute_result"
    }
   ],
   "source": [
    "n = int(input(\"Enter the number of sequence of Fibonacci.\"))\n",
    "fibo = [1,1]\n",
    "for i in range(n-2) :\n",
    "    \n",
    "    fibo.append(fibo[i] + fibo[i+1])\n",
    "fibo"
   ]
  },
  {
   "cell_type": "code",
   "execution_count": null,
   "id": "fefa65af",
   "metadata": {},
   "outputs": [],
   "source": [
    "filter()"
   ]
  },
  {
   "cell_type": "code",
   "execution_count": 50,
   "id": "f9e08ff5",
   "metadata": {},
   "outputs": [],
   "source": [
    "cümle = \"ben size ders anlatırkene HUZUR buluyorum. dertlerimi unutuyorum.\""
   ]
  },
  {
   "cell_type": "code",
   "execution_count": 51,
   "id": "0bfeec61",
   "metadata": {},
   "outputs": [],
   "source": [
    "def vowel(letter) :\n",
    "    \n",
    "    vowels = \"a e u i o ü ö ı\".split()\n",
    "    \n",
    "    if letter.lower() in vowels :\n",
    "        return True\n",
    "    else :\n",
    "        return False"
   ]
  },
  {
   "cell_type": "code",
   "execution_count": 52,
   "id": "9a37f586",
   "metadata": {},
   "outputs": [],
   "source": [
    "filtered_vowels = filter(vowel, cümle)"
   ]
  },
  {
   "cell_type": "code",
   "execution_count": 53,
   "id": "3583a9f5",
   "metadata": {},
   "outputs": [
    {
     "data": {
      "text/plain": [
       "['e',\n",
       " 'i',\n",
       " 'e',\n",
       " 'e',\n",
       " 'a',\n",
       " 'a',\n",
       " 'ı',\n",
       " 'e',\n",
       " 'e',\n",
       " 'u',\n",
       " 'u',\n",
       " 'u',\n",
       " 'u',\n",
       " 'o',\n",
       " 'u',\n",
       " 'e',\n",
       " 'e',\n",
       " 'i',\n",
       " 'i',\n",
       " 'u',\n",
       " 'u',\n",
       " 'u',\n",
       " 'o',\n",
       " 'u']"
      ]
     },
     "execution_count": 53,
     "metadata": {},
     "output_type": "execute_result"
    }
   ],
   "source": [
    "list(filtered_vowels)"
   ]
  },
  {
   "cell_type": "code",
   "execution_count": 55,
   "id": "a96f7d7f",
   "metadata": {},
   "outputs": [],
   "source": [
    "filtered_vowels = filter(vowel, cümle)"
   ]
  },
  {
   "cell_type": "code",
   "execution_count": 56,
   "id": "aa9eaa51",
   "metadata": {},
   "outputs": [
    {
     "name": "stdout",
     "output_type": "stream",
     "text": [
      "e i e e a a ı e e u u u u o u e e i i u u u o u\n"
     ]
    }
   ],
   "source": [
    "print(* filtered_vowels)"
   ]
  },
  {
   "cell_type": "code",
   "execution_count": null,
   "id": "e1605154",
   "metadata": {},
   "outputs": [],
   "source": []
  }
 ],
 "metadata": {
  "kernelspec": {
   "display_name": "Python 3",
   "language": "python",
   "name": "python3"
  },
  "language_info": {
   "codemirror_mode": {
    "name": "ipython",
    "version": 3
   },
   "file_extension": ".py",
   "mimetype": "text/x-python",
   "name": "python",
   "nbconvert_exporter": "python",
   "pygments_lexer": "ipython3",
   "version": "3.8.8"
  }
 },
 "nbformat": 4,
 "nbformat_minor": 5
}
