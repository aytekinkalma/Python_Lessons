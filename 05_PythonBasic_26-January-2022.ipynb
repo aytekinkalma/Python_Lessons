{
 "cells": [
  {
   "cell_type": "markdown",
   "id": "406f2981",
   "metadata": {},
   "source": [
    "<img src=\"https://docs.google.com/uc?id=14xeXxFrVRjvOoUYWn_GuyE-v84wVzrqr\" class=\"img-fluid\" alt=\"CLRWY\" width=\"400\" height=\"200\">"
   ]
  },
  {
   "cell_type": "markdown",
   "id": "22263af8",
   "metadata": {},
   "source": [
    "<h1><p style=\"text-align: center; color:darkblue\">Python In-Class, <br>26 January 2022</p><h1>"
   ]
  },
  {
   "cell_type": "code",
   "execution_count": 4,
   "id": "6a6c8fd9",
   "metadata": {},
   "outputs": [
    {
     "data": {
      "text/plain": [
       "'Hi Joseph. Are you ill?'"
      ]
     },
     "execution_count": 4,
     "metadata": {},
     "output_type": "execute_result"
    }
   ],
   "source": [
    "name = \"Joseph\"\n",
    "status = \"ill\"\n",
    "\n",
    "message = f\"Hi {name}. Are you {status}?\"\n",
    "message"
   ]
  },
  {
   "cell_type": "code",
   "execution_count": 5,
   "id": "f428e7e3",
   "metadata": {},
   "outputs": [
    {
     "data": {
      "text/plain": [
       "'Hi Joseph. Are you ill?'"
      ]
     },
     "execution_count": 5,
     "metadata": {},
     "output_type": "execute_result"
    }
   ],
   "source": [
    "message = f\"Hi {name}. \\\n",
    "Are you {status}?\"\n",
    "message"
   ]
  },
  {
   "cell_type": "code",
   "execution_count": 6,
   "id": "e2aecb5c",
   "metadata": {},
   "outputs": [],
   "source": [
    "isim  =\"ALİ veli\""
   ]
  },
  {
   "cell_type": "code",
   "execution_count": 7,
   "id": "3efd2426",
   "metadata": {},
   "outputs": [
    {
     "data": {
      "text/plain": [
       "'ali̇ VELI'"
      ]
     },
     "execution_count": 7,
     "metadata": {},
     "output_type": "execute_result"
    }
   ],
   "source": [
    "isim.swapcase()"
   ]
  },
  {
   "cell_type": "code",
   "execution_count": 8,
   "id": "c2c2bed9",
   "metadata": {},
   "outputs": [
    {
     "data": {
      "text/plain": [
       "'ALİ veli'"
      ]
     },
     "execution_count": 8,
     "metadata": {},
     "output_type": "execute_result"
    }
   ],
   "source": [
    "isim"
   ]
  },
  {
   "cell_type": "code",
   "execution_count": 9,
   "id": "f8515932",
   "metadata": {},
   "outputs": [],
   "source": [
    "isim = isim.swapcase()"
   ]
  },
  {
   "cell_type": "code",
   "execution_count": 10,
   "id": "98ca591d",
   "metadata": {},
   "outputs": [
    {
     "data": {
      "text/plain": [
       "'ali̇ VELI'"
      ]
     },
     "execution_count": 10,
     "metadata": {},
     "output_type": "execute_result"
    }
   ],
   "source": [
    "isim"
   ]
  },
  {
   "cell_type": "code",
   "execution_count": 11,
   "id": "6922a833",
   "metadata": {},
   "outputs": [],
   "source": [
    "soyisim = \"Smithson\""
   ]
  },
  {
   "cell_type": "code",
   "execution_count": 12,
   "id": "29521491",
   "metadata": {},
   "outputs": [
    {
     "data": {
      "text/plain": [
       "'sMITHSON'"
      ]
     },
     "execution_count": 12,
     "metadata": {},
     "output_type": "execute_result"
    }
   ],
   "source": [
    "soy = soyisim.swapcase()\n",
    "soy"
   ]
  },
  {
   "cell_type": "code",
   "execution_count": 13,
   "id": "c957bf81",
   "metadata": {},
   "outputs": [
    {
     "name": "stdout",
     "output_type": "stream",
     "text": [
      "True\n",
      "True\n"
     ]
    }
   ],
   "source": [
    "email = \"clarusway@clarusway.com is my e-mail address\"\n",
    "print(email.startswith(\"@\", 9))\n",
    "print(email.endswith(\"-\", 10, 32))"
   ]
  },
  {
   "cell_type": "code",
   "execution_count": 14,
   "id": "19763a22",
   "metadata": {},
   "outputs": [],
   "source": [
    "text = \"Clarusway\""
   ]
  },
  {
   "cell_type": "code",
   "execution_count": 15,
   "id": "0caa8b1e",
   "metadata": {},
   "outputs": [
    {
     "data": {
      "text/plain": [
       "'clarusway'"
      ]
     },
     "execution_count": 15,
     "metadata": {},
     "output_type": "execute_result"
    }
   ],
   "source": [
    "text.replace(\"C\", \"c\")"
   ]
  },
  {
   "cell_type": "code",
   "execution_count": 16,
   "id": "f16b6f5b",
   "metadata": {},
   "outputs": [
    {
     "data": {
      "text/plain": [
       "'Clarusway'"
      ]
     },
     "execution_count": 16,
     "metadata": {},
     "output_type": "execute_result"
    }
   ],
   "source": [
    "text"
   ]
  },
  {
   "cell_type": "code",
   "execution_count": 17,
   "id": "1554e1a0",
   "metadata": {},
   "outputs": [
    {
     "data": {
      "text/plain": [
       "'Cl**rusw**y'"
      ]
     },
     "execution_count": 17,
     "metadata": {},
     "output_type": "execute_result"
    }
   ],
   "source": [
    "text.replace(\"a\", \"**\")"
   ]
  },
  {
   "cell_type": "code",
   "execution_count": 18,
   "id": "2d91dfe1",
   "metadata": {},
   "outputs": [
    {
     "data": {
      "text/plain": [
       "str"
      ]
     },
     "execution_count": 18,
     "metadata": {},
     "output_type": "execute_result"
    }
   ],
   "source": [
    "type(text.replace(\"a\", \"**\"))"
   ]
  },
  {
   "cell_type": "code",
   "execution_count": 19,
   "id": "79dbeff0",
   "metadata": {},
   "outputs": [
    {
     "data": {
      "text/plain": [
       "'Clarusway'"
      ]
     },
     "execution_count": 19,
     "metadata": {},
     "output_type": "execute_result"
    }
   ],
   "source": [
    "text"
   ]
  },
  {
   "cell_type": "code",
   "execution_count": 22,
   "id": "154c7b82",
   "metadata": {},
   "outputs": [
    {
     "data": {
      "text/plain": [
       "'Cl--rusw--y'"
      ]
     },
     "execution_count": 22,
     "metadata": {},
     "output_type": "execute_result"
    }
   ],
   "source": [
    "text.replace(\"a\", \"--\")"
   ]
  },
  {
   "cell_type": "code",
   "execution_count": 23,
   "id": "4707a554",
   "metadata": {},
   "outputs": [
    {
     "data": {
      "text/plain": [
       "'Cl--ruw--y'"
      ]
     },
     "execution_count": 23,
     "metadata": {},
     "output_type": "execute_result"
    }
   ],
   "source": [
    "text.replace(\"a\", \"--\").replace(\"s\", \"\")"
   ]
  },
  {
   "cell_type": "code",
   "execution_count": 24,
   "id": "6f4284d2",
   "metadata": {},
   "outputs": [
    {
     "data": {
      "text/plain": [
       "'CL--RUW--Y'"
      ]
     },
     "execution_count": 24,
     "metadata": {},
     "output_type": "execute_result"
    }
   ],
   "source": [
    "text.replace(\"a\", \"--\").replace(\"s\", \"\").upper()"
   ]
  },
  {
   "cell_type": "code",
   "execution_count": 25,
   "id": "65e153c1",
   "metadata": {},
   "outputs": [],
   "source": [
    "my_string = \"    listen first      \""
   ]
  },
  {
   "cell_type": "code",
   "execution_count": 26,
   "id": "b4f1d595",
   "metadata": {},
   "outputs": [
    {
     "data": {
      "text/plain": [
       "'listen first'"
      ]
     },
     "execution_count": 26,
     "metadata": {},
     "output_type": "execute_result"
    }
   ],
   "source": [
    "my_string.strip()"
   ]
  },
  {
   "cell_type": "code",
   "execution_count": 27,
   "id": "93769659",
   "metadata": {},
   "outputs": [],
   "source": [
    "my_string1 = \"\\n  listen first    \\t\""
   ]
  },
  {
   "cell_type": "code",
   "execution_count": 29,
   "id": "d96c0b29",
   "metadata": {},
   "outputs": [
    {
     "data": {
      "text/plain": [
       "'listen first'"
      ]
     },
     "execution_count": 29,
     "metadata": {},
     "output_type": "execute_result"
    }
   ],
   "source": [
    "my_string1.strip()"
   ]
  },
  {
   "cell_type": "code",
   "execution_count": null,
   "id": "8d74dccd",
   "metadata": {},
   "outputs": [],
   "source": []
  }
 ],
 "metadata": {
  "kernelspec": {
   "display_name": "Python 3",
   "language": "python",
   "name": "python3"
  },
  "language_info": {
   "codemirror_mode": {
    "name": "ipython",
    "version": 3
   },
   "file_extension": ".py",
   "mimetype": "text/x-python",
   "name": "python",
   "nbconvert_exporter": "python",
   "pygments_lexer": "ipython3",
   "version": "3.8.8"
  }
 },
 "nbformat": 4,
 "nbformat_minor": 5
}
