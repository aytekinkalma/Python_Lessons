{
 "cells": [
  {
   "cell_type": "markdown",
   "id": "406f2981",
   "metadata": {},
   "source": [
    "<img src=\"https://docs.google.com/uc?id=14xeXxFrVRjvOoUYWn_GuyE-v84wVzrqr\" class=\"img-fluid\" alt=\"CLRWY\" width=\"400\" height=\"200\">"
   ]
  },
  {
   "cell_type": "markdown",
   "id": "22263af8",
   "metadata": {},
   "source": [
    "<h1><p style=\"text-align: center; color:darkblue\">Python In-Class, <br>17 March 2022</p><h1>"
   ]
  },
  {
   "cell_type": "code",
   "execution_count": 1,
   "id": "7b48a06c",
   "metadata": {},
   "outputs": [],
   "source": [
    "condition = True"
   ]
  },
  {
   "cell_type": "code",
   "execution_count": 2,
   "id": "9fcc4d0f",
   "metadata": {},
   "outputs": [
    {
     "data": {
      "text/plain": [
       "'odd'"
      ]
     },
     "execution_count": 2,
     "metadata": {},
     "output_type": "execute_result"
    }
   ],
   "source": [
    "\"odd\" if condition else \"even\""
   ]
  },
  {
   "cell_type": "code",
   "execution_count": 3,
   "id": "ecd12fe8",
   "metadata": {},
   "outputs": [
    {
     "data": {
      "text/plain": [
       "'even'"
      ]
     },
     "execution_count": 3,
     "metadata": {},
     "output_type": "execute_result"
    }
   ],
   "source": [
    "condition = False\n",
    "\n",
    "\"odd\" if condition else \"even\""
   ]
  },
  {
   "cell_type": "code",
   "execution_count": 4,
   "id": "bbbebd4e",
   "metadata": {},
   "outputs": [
    {
     "data": {
      "text/plain": [
       "<function __main__.<lambda>(x)>"
      ]
     },
     "execution_count": 4,
     "metadata": {},
     "output_type": "execute_result"
    }
   ],
   "source": [
    "lambda x: 'odd' if x % 2 != 0 else 'even'"
   ]
  },
  {
   "cell_type": "code",
   "execution_count": 5,
   "id": "38f61cbc",
   "metadata": {},
   "outputs": [
    {
     "data": {
      "text/plain": [
       "'even'"
      ]
     },
     "execution_count": 5,
     "metadata": {},
     "output_type": "execute_result"
    }
   ],
   "source": [
    "(lambda x: 'odd' if x % 2 != 0 else 'even')(4)"
   ]
  },
  {
   "cell_type": "code",
   "execution_count": 6,
   "id": "c6a298a2",
   "metadata": {},
   "outputs": [
    {
     "data": {
      "text/plain": [
       "'odd'"
      ]
     },
     "execution_count": 6,
     "metadata": {},
     "output_type": "execute_result"
    }
   ],
   "source": [
    "(lambda x: 'odd' if x % 2 != 0 else 'even')(3)"
   ]
  },
  {
   "cell_type": "code",
   "execution_count": 7,
   "id": "0779f50d",
   "metadata": {},
   "outputs": [
    {
     "data": {
      "text/plain": [
       "'ila'"
      ]
     },
     "execution_count": 7,
     "metadata": {},
     "output_type": "execute_result"
    }
   ],
   "source": [
    "\"ali\"[::-1]"
   ]
  },
  {
   "cell_type": "code",
   "execution_count": 8,
   "id": "6dd55def",
   "metadata": {},
   "outputs": [
    {
     "data": {
      "text/plain": [
       "'ila'"
      ]
     },
     "execution_count": 8,
     "metadata": {},
     "output_type": "execute_result"
    }
   ],
   "source": [
    "(lambda x : x[::-1])(\"ali\")"
   ]
  },
  {
   "cell_type": "code",
   "execution_count": 9,
   "id": "c2e77e47",
   "metadata": {},
   "outputs": [
    {
     "data": {
      "text/plain": [
       "[5, 3, 1]"
      ]
     },
     "execution_count": 9,
     "metadata": {},
     "output_type": "execute_result"
    }
   ],
   "source": [
    "(lambda x : x[::-1])([1,3,5])"
   ]
  },
  {
   "cell_type": "code",
   "execution_count": 10,
   "id": "a060e26e",
   "metadata": {},
   "outputs": [
    {
     "data": {
      "text/plain": [
       "'even'"
      ]
     },
     "execution_count": 10,
     "metadata": {},
     "output_type": "execute_result"
    }
   ],
   "source": [
    "(lambda x: 'odd' if x % 2 != 0 else 'even')(4)"
   ]
  },
  {
   "cell_type": "code",
   "execution_count": 11,
   "id": "6252a6b2",
   "metadata": {},
   "outputs": [],
   "source": [
    "sayılar = [1, 2, 3, 4, 5, 6]"
   ]
  },
  {
   "cell_type": "code",
   "execution_count": null,
   "id": "462f178c",
   "metadata": {},
   "outputs": [],
   "source": [
    "i, \":\", (lambda x: 'odd' if x % 2 != 0 else 'even')(i)"
   ]
  },
  {
   "cell_type": "code",
   "execution_count": 13,
   "id": "96cce7ac",
   "metadata": {},
   "outputs": [
    {
     "name": "stdout",
     "output_type": "stream",
     "text": [
      "1 : odd\n",
      "2 : even\n",
      "3 : odd\n",
      "4 : even\n",
      "5 : odd\n",
      "6 : even\n"
     ]
    }
   ],
   "source": [
    "for i in sayılar :\n",
    "    print(i, \":\", (lambda x: 'odd' if x % 2 != 0 else 'even')(i))"
   ]
  },
  {
   "cell_type": "code",
   "execution_count": 14,
   "id": "2cfee31d",
   "metadata": {},
   "outputs": [],
   "source": [
    "iterable = \"clarusway\"\n",
    "\n",
    "reverser = lambda x : x[::-1]"
   ]
  },
  {
   "cell_type": "code",
   "execution_count": 15,
   "id": "ff313e90",
   "metadata": {},
   "outputs": [
    {
     "data": {
      "text/plain": [
       "<function __main__.<lambda>(x)>"
      ]
     },
     "execution_count": 15,
     "metadata": {},
     "output_type": "execute_result"
    }
   ],
   "source": [
    "reverser"
   ]
  },
  {
   "cell_type": "code",
   "execution_count": 16,
   "id": "25e18b04",
   "metadata": {},
   "outputs": [
    {
     "data": {
      "text/plain": [
       "'yawsuralc'"
      ]
     },
     "execution_count": 16,
     "metadata": {},
     "output_type": "execute_result"
    }
   ],
   "source": [
    "reverser(iterable)"
   ]
  },
  {
   "cell_type": "code",
   "execution_count": 17,
   "id": "194a22df",
   "metadata": {},
   "outputs": [],
   "source": [
    "finder = lambda x: 'odd' if x % 2 != 0 else 'even'"
   ]
  },
  {
   "cell_type": "code",
   "execution_count": 18,
   "id": "f2711f92",
   "metadata": {},
   "outputs": [
    {
     "data": {
      "text/plain": [
       "<function __main__.<lambda>(x)>"
      ]
     },
     "execution_count": 18,
     "metadata": {},
     "output_type": "execute_result"
    }
   ],
   "source": [
    "finder"
   ]
  },
  {
   "cell_type": "code",
   "execution_count": 19,
   "id": "b2b70035",
   "metadata": {},
   "outputs": [
    {
     "data": {
      "text/plain": [
       "'even'"
      ]
     },
     "execution_count": 19,
     "metadata": {},
     "output_type": "execute_result"
    }
   ],
   "source": [
    "finder(2)"
   ]
  },
  {
   "cell_type": "code",
   "execution_count": 20,
   "id": "03adb9fd",
   "metadata": {},
   "outputs": [
    {
     "data": {
      "text/plain": [
       "'odd'"
      ]
     },
     "execution_count": 20,
     "metadata": {},
     "output_type": "execute_result"
    }
   ],
   "source": [
    "finder(55)"
   ]
  },
  {
   "cell_type": "code",
   "execution_count": 21,
   "id": "b1bead07",
   "metadata": {},
   "outputs": [],
   "source": [
    "kelimeler = [\"alideliveli\", \"ahmet\", \"sel\"]"
   ]
  },
  {
   "cell_type": "code",
   "execution_count": 22,
   "id": "68100ffc",
   "metadata": {},
   "outputs": [],
   "source": [
    "uzunluk = map(len, kelimeler)"
   ]
  },
  {
   "cell_type": "code",
   "execution_count": 23,
   "id": "4f70a4bd",
   "metadata": {},
   "outputs": [
    {
     "data": {
      "text/plain": [
       "<map at 0x7fac904b5250>"
      ]
     },
     "execution_count": 23,
     "metadata": {},
     "output_type": "execute_result"
    }
   ],
   "source": [
    "uzunluk"
   ]
  },
  {
   "cell_type": "code",
   "execution_count": 24,
   "id": "846c6871",
   "metadata": {},
   "outputs": [
    {
     "name": "stdout",
     "output_type": "stream",
     "text": [
      "11 5 3\n"
     ]
    }
   ],
   "source": [
    "print(* uzunluk)"
   ]
  },
  {
   "cell_type": "code",
   "execution_count": 25,
   "id": "8237f802",
   "metadata": {},
   "outputs": [],
   "source": [
    "fonksiyonum = lambda x : x ** 2"
   ]
  },
  {
   "cell_type": "code",
   "execution_count": 26,
   "id": "4ddb2e7c",
   "metadata": {},
   "outputs": [],
   "source": [
    "iterable = [1, 2, 3, 4]"
   ]
  },
  {
   "cell_type": "code",
   "execution_count": 27,
   "id": "f62eac04",
   "metadata": {},
   "outputs": [],
   "source": [
    "sonuç = map(fonksiyonum, iterable)"
   ]
  },
  {
   "cell_type": "code",
   "execution_count": 28,
   "id": "da00f0a2",
   "metadata": {},
   "outputs": [],
   "source": [
    "sonuç_2 = map(lambda x : x ** 2, [1,2,3,4])"
   ]
  },
  {
   "cell_type": "code",
   "execution_count": 29,
   "id": "21d65904",
   "metadata": {},
   "outputs": [
    {
     "name": "stdout",
     "output_type": "stream",
     "text": [
      "1 4 9 16\n"
     ]
    }
   ],
   "source": [
    "print(* sonuç)"
   ]
  },
  {
   "cell_type": "code",
   "execution_count": 30,
   "id": "051c9bf7",
   "metadata": {},
   "outputs": [
    {
     "name": "stdout",
     "output_type": "stream",
     "text": [
      "1\n",
      "4\n",
      "9\n",
      "16\n"
     ]
    }
   ],
   "source": [
    "for i in sonuç_2 :\n",
    "    print(i)"
   ]
  },
  {
   "cell_type": "code",
   "execution_count": 31,
   "id": "c72f49ea",
   "metadata": {},
   "outputs": [],
   "source": [
    "def kare(b) :\n",
    "    return b ** 2"
   ]
  },
  {
   "cell_type": "code",
   "execution_count": 32,
   "id": "52ff1cf1",
   "metadata": {},
   "outputs": [],
   "source": [
    "sonuç_3 = map(kare, iterable)"
   ]
  },
  {
   "cell_type": "code",
   "execution_count": 33,
   "id": "6574afaa",
   "metadata": {},
   "outputs": [
    {
     "data": {
      "text/plain": [
       "<map at 0x7faca08bfdf0>"
      ]
     },
     "execution_count": 33,
     "metadata": {},
     "output_type": "execute_result"
    }
   ],
   "source": [
    "sonuç_3"
   ]
  },
  {
   "cell_type": "code",
   "execution_count": 34,
   "id": "68ead67a",
   "metadata": {},
   "outputs": [
    {
     "name": "stdout",
     "output_type": "stream",
     "text": [
      "1 4 9 16\n"
     ]
    }
   ],
   "source": [
    "print(* sonuç_3)"
   ]
  },
  {
   "cell_type": "code",
   "execution_count": 35,
   "id": "17059b60",
   "metadata": {},
   "outputs": [],
   "source": [
    "topla = lambda x, y, z : x + y + z"
   ]
  },
  {
   "cell_type": "code",
   "execution_count": 36,
   "id": "90a04b89",
   "metadata": {},
   "outputs": [
    {
     "data": {
      "text/plain": [
       "'ali'"
      ]
     },
     "execution_count": 36,
     "metadata": {},
     "output_type": "execute_result"
    }
   ],
   "source": [
    "topla(\"a\", \"l\", \"i\")"
   ]
  },
  {
   "cell_type": "code",
   "execution_count": null,
   "id": "b881b56b",
   "metadata": {},
   "outputs": [],
   "source": [
    "map()"
   ]
  },
  {
   "cell_type": "code",
   "execution_count": 37,
   "id": "e39c4d0d",
   "metadata": {},
   "outputs": [],
   "source": [
    "func = lambda x, y : (x + y) / 2"
   ]
  },
  {
   "cell_type": "code",
   "execution_count": 38,
   "id": "1fbb747b",
   "metadata": {},
   "outputs": [],
   "source": [
    "num1 = [9, 6, 7, 4]\n",
    "num2 = [3, 6, 5, 8]"
   ]
  },
  {
   "cell_type": "code",
   "execution_count": 39,
   "id": "2304a83b",
   "metadata": {},
   "outputs": [],
   "source": [
    "numbers = map(func, num1, num2)"
   ]
  },
  {
   "cell_type": "code",
   "execution_count": 40,
   "id": "a9aeba63",
   "metadata": {},
   "outputs": [
    {
     "data": {
      "text/plain": [
       "[6.0, 6.0, 6.0, 6.0]"
      ]
     },
     "execution_count": 40,
     "metadata": {},
     "output_type": "execute_result"
    }
   ],
   "source": [
    "list(numbers)"
   ]
  },
  {
   "cell_type": "code",
   "execution_count": 41,
   "id": "737cc092",
   "metadata": {},
   "outputs": [],
   "source": [
    "words1 = [\"you\", \"much\", \"hard\"]\n",
    "words2 = [\"i\", \"you\", \"he\"]\n",
    "words3 = [\"love\", \"ate\", \"works\"]\n"
   ]
  },
  {
   "cell_type": "code",
   "execution_count": 42,
   "id": "59b1aa11",
   "metadata": {},
   "outputs": [],
   "source": [
    "concat = lambda x, y, z : x + \" \" + y + \" \" + z"
   ]
  },
  {
   "cell_type": "code",
   "execution_count": 43,
   "id": "d70a9601",
   "metadata": {},
   "outputs": [],
   "source": [
    "sentences = map(concat, words2, words3, words1)"
   ]
  },
  {
   "cell_type": "code",
   "execution_count": 44,
   "id": "dc2cb8f4",
   "metadata": {},
   "outputs": [
    {
     "data": {
      "text/plain": [
       "<map at 0x7faca0c89850>"
      ]
     },
     "execution_count": 44,
     "metadata": {},
     "output_type": "execute_result"
    }
   ],
   "source": [
    "sentences"
   ]
  },
  {
   "cell_type": "code",
   "execution_count": 45,
   "id": "94cf47f8",
   "metadata": {},
   "outputs": [
    {
     "name": "stdout",
     "output_type": "stream",
     "text": [
      "i love you\n",
      "you ate much\n",
      "he works hard\n"
     ]
    }
   ],
   "source": [
    "for i in sentences :\n",
    "    print(i)"
   ]
  },
  {
   "cell_type": "code",
   "execution_count": null,
   "id": "7cac4175",
   "metadata": {},
   "outputs": [],
   "source": [
    "filter()"
   ]
  },
  {
   "cell_type": "code",
   "execution_count": 46,
   "id": "ef6be96f",
   "metadata": {},
   "outputs": [
    {
     "data": {
      "text/plain": [
       "True"
      ]
     },
     "execution_count": 46,
     "metadata": {},
     "output_type": "execute_result"
    }
   ],
   "source": [
    "4 % 2 == 0"
   ]
  },
  {
   "cell_type": "code",
   "execution_count": 47,
   "id": "a6fd0e47",
   "metadata": {},
   "outputs": [
    {
     "data": {
      "text/plain": [
       "False"
      ]
     },
     "execution_count": 47,
     "metadata": {},
     "output_type": "execute_result"
    }
   ],
   "source": [
    "5 % 2 == 0"
   ]
  },
  {
   "cell_type": "code",
   "execution_count": 50,
   "id": "79742dc6",
   "metadata": {},
   "outputs": [],
   "source": [
    "first_ten = [0, 1, 2, 3, 4, 5, 6, 7, 8, 9] \n",
    "  \n",
    "odd1 = filter(lambda x : x % 2 != 0, first_ten) \n",
    "odd2 = filter(lambda x : x % 2 == 1, first_ten)\n",
    "odd3 = filter(lambda x : not x % 2 == 0, first_ten)\n",
    "odd4 = filter(lambda x : x % 2, first_ten)"
   ]
  },
  {
   "cell_type": "code",
   "execution_count": 52,
   "id": "c698d77a",
   "metadata": {},
   "outputs": [
    {
     "data": {
      "text/plain": [
       "True"
      ]
     },
     "execution_count": 52,
     "metadata": {},
     "output_type": "execute_result"
    }
   ],
   "source": [
    "1 % 2 != 0"
   ]
  },
  {
   "cell_type": "code",
   "execution_count": 53,
   "id": "e35d6c17",
   "metadata": {},
   "outputs": [
    {
     "data": {
      "text/plain": [
       "True"
      ]
     },
     "execution_count": 53,
     "metadata": {},
     "output_type": "execute_result"
    }
   ],
   "source": [
    "1 % 2 == 1"
   ]
  },
  {
   "cell_type": "code",
   "execution_count": 54,
   "id": "c2f2f5bc",
   "metadata": {},
   "outputs": [
    {
     "data": {
      "text/plain": [
       "True"
      ]
     },
     "execution_count": 54,
     "metadata": {},
     "output_type": "execute_result"
    }
   ],
   "source": [
    "not 1 % 2 == 0"
   ]
  },
  {
   "cell_type": "code",
   "execution_count": 55,
   "id": "790096d7",
   "metadata": {},
   "outputs": [
    {
     "data": {
      "text/plain": [
       "1"
      ]
     },
     "execution_count": 55,
     "metadata": {},
     "output_type": "execute_result"
    }
   ],
   "source": [
    "1 % 2"
   ]
  },
  {
   "cell_type": "code",
   "execution_count": 49,
   "id": "1caa7331",
   "metadata": {},
   "outputs": [
    {
     "name": "stdout",
     "output_type": "stream",
     "text": [
      "1 3 5 7 9\n"
     ]
    }
   ],
   "source": [
    "print(* odd3)"
   ]
  },
  {
   "cell_type": "code",
   "execution_count": 51,
   "id": "a56b022e",
   "metadata": {},
   "outputs": [
    {
     "name": "stdout",
     "output_type": "stream",
     "text": [
      "1 3 5 7 9\n"
     ]
    }
   ],
   "source": [
    "print(* odd4)"
   ]
  },
  {
   "cell_type": "code",
   "execution_count": 56,
   "id": "e5fc9977",
   "metadata": {},
   "outputs": [
    {
     "data": {
      "text/plain": [
       "5"
      ]
     },
     "execution_count": 56,
     "metadata": {},
     "output_type": "execute_result"
    }
   ],
   "source": [
    "len(\"apple\")"
   ]
  },
  {
   "cell_type": "code",
   "execution_count": 57,
   "id": "31b2a7b5",
   "metadata": {},
   "outputs": [
    {
     "data": {
      "text/plain": [
       "False"
      ]
     },
     "execution_count": 57,
     "metadata": {},
     "output_type": "execute_result"
    }
   ],
   "source": [
    "len(\"apple\") < 5"
   ]
  },
  {
   "cell_type": "code",
   "execution_count": 58,
   "id": "c08f4f20",
   "metadata": {},
   "outputs": [
    {
     "data": {
      "text/plain": [
       "True"
      ]
     },
     "execution_count": 58,
     "metadata": {},
     "output_type": "execute_result"
    }
   ],
   "source": [
    "len(\"me\") < 5"
   ]
  },
  {
   "cell_type": "code",
   "execution_count": 59,
   "id": "745857e3",
   "metadata": {},
   "outputs": [],
   "source": [
    "words = [\"apple\", \"swim\", \"clock\", \"me\", \"kiwi\", \"banana\"]"
   ]
  },
  {
   "cell_type": "code",
   "execution_count": 60,
   "id": "ce5cc9a4",
   "metadata": {},
   "outputs": [
    {
     "name": "stdout",
     "output_type": "stream",
     "text": [
      "swim\n",
      "me\n",
      "kiwi\n"
     ]
    }
   ],
   "source": [
    "for i in filter(lambda x : len(x) < 5, words) :\n",
    "    print(i)"
   ]
  },
  {
   "cell_type": "code",
   "execution_count": 61,
   "id": "be45709a",
   "metadata": {},
   "outputs": [],
   "source": [
    "letter1 = [\"a\", \"b\", \"c\"]\n",
    "letter2 = [\"x\", \"y\", \"z\"]"
   ]
  },
  {
   "cell_type": "code",
   "execution_count": 65,
   "id": "b2105bb4",
   "metadata": {},
   "outputs": [],
   "source": [
    "birleştir = map(zip, letter1, letter2)"
   ]
  },
  {
   "cell_type": "code",
   "execution_count": 66,
   "id": "fead357b",
   "metadata": {},
   "outputs": [
    {
     "name": "stdout",
     "output_type": "stream",
     "text": [
      "('a', 'x')\n",
      "('b', 'y')\n",
      "('c', 'z')\n"
     ]
    }
   ],
   "source": [
    "for i in birleştir :\n",
    "    for j in i :\n",
    "        print(j)"
   ]
  },
  {
   "cell_type": "code",
   "execution_count": 67,
   "id": "5591c947",
   "metadata": {},
   "outputs": [
    {
     "data": {
      "text/plain": [
       "[('a', 'x'), ('b', 'y'), ('c', 'z')]"
      ]
     },
     "execution_count": 67,
     "metadata": {},
     "output_type": "execute_result"
    }
   ],
   "source": [
    "yapıştır = zip(letter1, letter2)\n",
    "list(yapıştır)"
   ]
  },
  {
   "cell_type": "code",
   "execution_count": null,
   "id": "42efb41e",
   "metadata": {},
   "outputs": [],
   "source": []
  }
 ],
 "metadata": {
  "kernelspec": {
   "display_name": "Python 3",
   "language": "python",
   "name": "python3"
  },
  "language_info": {
   "codemirror_mode": {
    "name": "ipython",
    "version": 3
   },
   "file_extension": ".py",
   "mimetype": "text/x-python",
   "name": "python",
   "nbconvert_exporter": "python",
   "pygments_lexer": "ipython3",
   "version": "3.8.8"
  }
 },
 "nbformat": 4,
 "nbformat_minor": 5
}
