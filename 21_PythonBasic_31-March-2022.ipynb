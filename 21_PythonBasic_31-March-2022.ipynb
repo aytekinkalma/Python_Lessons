{
 "cells": [
  {
   "cell_type": "markdown",
   "id": "406f2981",
   "metadata": {},
   "source": [
    "<img src=\"https://docs.google.com/uc?id=14xeXxFrVRjvOoUYWn_GuyE-v84wVzrqr\" class=\"img-fluid\" alt=\"CLRWY\" width=\"400\" height=\"200\">"
   ]
  },
  {
   "cell_type": "markdown",
   "id": "22263af8",
   "metadata": {},
   "source": [
    "<h1><p style=\"text-align: center; color:darkblue\">Python In-Class, <br>31 March 2022</p><h1>"
   ]
  },
  {
   "cell_type": "code",
   "execution_count": 6,
   "id": "8d37f23d",
   "metadata": {},
   "outputs": [
    {
     "name": "stdout",
     "output_type": "stream",
     "text": [
      "hello world\n",
      "hello world\n",
      "hello world\n",
      "hello world\n",
      "hello world\n"
     ]
    },
    {
     "ename": "ZeroDivisionError",
     "evalue": "division by zero",
     "output_type": "error",
     "traceback": [
      "\u001b[0;31m---------------------------------------------------------------------------\u001b[0m",
      "\u001b[0;31mZeroDivisionError\u001b[0m                         Traceback (most recent call last)",
      "\u001b[0;32m<ipython-input-6-b9428f0b31c3>\u001b[0m in \u001b[0;36m<module>\u001b[0;34m\u001b[0m\n\u001b[1;32m      4\u001b[0m \u001b[0mprint\u001b[0m\u001b[0;34m(\u001b[0m\u001b[0;34m\"hello world\"\u001b[0m\u001b[0;34m)\u001b[0m\u001b[0;34m\u001b[0m\u001b[0;34m\u001b[0m\u001b[0m\n\u001b[1;32m      5\u001b[0m \u001b[0mprint\u001b[0m\u001b[0;34m(\u001b[0m\u001b[0;34m\"hello world\"\u001b[0m\u001b[0;34m)\u001b[0m\u001b[0;34m\u001b[0m\u001b[0;34m\u001b[0m\u001b[0m\n\u001b[0;32m----> 6\u001b[0;31m \u001b[0;36m2\u001b[0m\u001b[0;34m/\u001b[0m\u001b[0;36m0\u001b[0m\u001b[0;34m\u001b[0m\u001b[0;34m\u001b[0m\u001b[0m\n\u001b[0m\u001b[1;32m      7\u001b[0m \u001b[0mprint\u001b[0m\u001b[0;34m(\u001b[0m\u001b[0;34m\"hello world\"\u001b[0m\u001b[0;34m)\u001b[0m\u001b[0;34m\u001b[0m\u001b[0;34m\u001b[0m\u001b[0m\n\u001b[1;32m      8\u001b[0m \u001b[0mprint\u001b[0m\u001b[0;34m(\u001b[0m\u001b[0;34m\"hello world\"\u001b[0m\u001b[0;34m)\u001b[0m\u001b[0;34m\u001b[0m\u001b[0;34m\u001b[0m\u001b[0m\n",
      "\u001b[0;31mZeroDivisionError\u001b[0m: division by zero"
     ]
    }
   ],
   "source": [
    "print(\"hello world\")\n",
    "print(\"hello world\")\n",
    "print(\"hello world\")\n",
    "print(\"hello world\")\n",
    "print(\"hello world\")\n",
    "2/0\n",
    "print(\"hello world\")\n",
    "print(\"hello world\")\n",
    "print(\"hello world\")\n",
    "print(\"hello world\")"
   ]
  },
  {
   "cell_type": "code",
   "execution_count": 8,
   "id": "1b6ee6b9",
   "metadata": {},
   "outputs": [
    {
     "name": "stdout",
     "output_type": "stream",
     "text": [
      "The first number please : 8\n",
      "The second number please : 0\n"
     ]
    },
    {
     "ename": "ZeroDivisionError",
     "evalue": "division by zero",
     "output_type": "error",
     "traceback": [
      "\u001b[0;31m---------------------------------------------------------------------------\u001b[0m",
      "\u001b[0;31mZeroDivisionError\u001b[0m                         Traceback (most recent call last)",
      "\u001b[0;32m<ipython-input-8-71c23077dd83>\u001b[0m in \u001b[0;36m<module>\u001b[0;34m\u001b[0m\n\u001b[1;32m      2\u001b[0m     \u001b[0mno_one\u001b[0m \u001b[0;34m=\u001b[0m \u001b[0mint\u001b[0m\u001b[0;34m(\u001b[0m\u001b[0minput\u001b[0m\u001b[0;34m(\u001b[0m\u001b[0;34m\"The first number please : \"\u001b[0m\u001b[0;34m)\u001b[0m\u001b[0;34m)\u001b[0m\u001b[0;34m\u001b[0m\u001b[0;34m\u001b[0m\u001b[0m\n\u001b[1;32m      3\u001b[0m     \u001b[0mno_two\u001b[0m \u001b[0;34m=\u001b[0m \u001b[0mint\u001b[0m\u001b[0;34m(\u001b[0m\u001b[0minput\u001b[0m\u001b[0;34m(\u001b[0m\u001b[0;34m\"The second number please : \"\u001b[0m\u001b[0;34m)\u001b[0m\u001b[0;34m)\u001b[0m\u001b[0;34m\u001b[0m\u001b[0;34m\u001b[0m\u001b[0m\n\u001b[0;32m----> 4\u001b[0;31m     \u001b[0mdivision\u001b[0m \u001b[0;34m=\u001b[0m \u001b[0mno_one\u001b[0m \u001b[0;34m/\u001b[0m \u001b[0mno_two\u001b[0m\u001b[0;34m\u001b[0m\u001b[0;34m\u001b[0m\u001b[0m\n\u001b[0m\u001b[1;32m      5\u001b[0m     \u001b[0mprint\u001b[0m\u001b[0;34m(\u001b[0m\u001b[0;34m\"The result of the division is : \"\u001b[0m\u001b[0;34m,\u001b[0m \u001b[0mdivision\u001b[0m\u001b[0;34m)\u001b[0m\u001b[0;34m\u001b[0m\u001b[0;34m\u001b[0m\u001b[0m\n\u001b[1;32m      6\u001b[0m     \u001b[0;32mbreak\u001b[0m\u001b[0;34m\u001b[0m\u001b[0;34m\u001b[0m\u001b[0m\n",
      "\u001b[0;31mZeroDivisionError\u001b[0m: division by zero"
     ]
    }
   ],
   "source": [
    "while True:\n",
    "    no_one = int(input(\"The first number please : \"))\n",
    "    no_two = int(input(\"The second number please : \"))\n",
    "    division = no_one / no_two\n",
    "    print(\"The result of the division is : \", division)\n",
    "    break"
   ]
  },
  {
   "cell_type": "code",
   "execution_count": 9,
   "id": "fad5eb4c",
   "metadata": {},
   "outputs": [
    {
     "name": "stdout",
     "output_type": "stream",
     "text": [
      "bir şeyler ters gitti\n"
     ]
    }
   ],
   "source": [
    "try :\n",
    "    x = 2/0\n",
    "    print(\"bende sıkıntı yokmuş demekki. bak çalıştım.\")\n",
    "    \n",
    "except :\n",
    "    print(\"bir şeyler ters gitti\")"
   ]
  },
  {
   "cell_type": "code",
   "execution_count": 10,
   "id": "b297dcc5",
   "metadata": {},
   "outputs": [
    {
     "name": "stdout",
     "output_type": "stream",
     "text": [
      "ben birinci kod satırıyım.\n",
      "bir şeyler ters gitti\n"
     ]
    }
   ],
   "source": [
    "try :\n",
    "    print(\"ben birinci kod satırıyım.\")\n",
    "    x = 2/0\n",
    "    print(\"bende sıkıntı yokmuş demekki. bak çalıştım.\")\n",
    "    \n",
    "except :\n",
    "    print(\"bir şeyler ters gitti\")"
   ]
  },
  {
   "cell_type": "code",
   "execution_count": 11,
   "id": "17d31528",
   "metadata": {},
   "outputs": [
    {
     "name": "stdout",
     "output_type": "stream",
     "text": [
      "a\n",
      "b\n",
      "1.0\n"
     ]
    }
   ],
   "source": [
    "try :\n",
    "    print(\"a\")\n",
    "    x = 2/2\n",
    "    print(\"b\")\n",
    "    print(x)\n",
    "    \n",
    "except :\n",
    "    print(\"c\")"
   ]
  },
  {
   "cell_type": "code",
   "execution_count": 12,
   "id": "771e03ed",
   "metadata": {},
   "outputs": [
    {
     "name": "stdout",
     "output_type": "stream",
     "text": [
      "The first number please : 8\n",
      "The second number please : 8\n",
      "The result of the division is :  1.0\n"
     ]
    }
   ],
   "source": [
    "while True:\n",
    "    no_one = int(input(\"The first number please : \"))\n",
    "    no_two = int(input(\"The second number please : \"))\n",
    "    try:\n",
    "        division = no_one / no_two\n",
    "        print(\"The result of the division is : \", division)\n",
    "        break\n",
    "    except:\n",
    "        print(\"Something went wrong...Try again.\")\n",
    "        break"
   ]
  },
  {
   "cell_type": "code",
   "execution_count": 13,
   "id": "436d126d",
   "metadata": {},
   "outputs": [
    {
     "name": "stdout",
     "output_type": "stream",
     "text": [
      "The first number please : 5\n",
      "The second number please : 0\n",
      "Something went wrong...Try again.\n"
     ]
    }
   ],
   "source": [
    "while True:\n",
    "    no_one = int(input(\"The first number please : \"))\n",
    "    no_two = int(input(\"The second number please : \"))\n",
    "    try:\n",
    "        division = no_one / no_two\n",
    "        print(\"The result of the division is : \", division)\n",
    "        break\n",
    "    except:\n",
    "        print(\"Something went wrong...Try again.\")\n",
    "        break"
   ]
  },
  {
   "cell_type": "code",
   "execution_count": 14,
   "id": "567cd60c",
   "metadata": {},
   "outputs": [
    {
     "name": "stdout",
     "output_type": "stream",
     "text": [
      "The first number please : 5\n",
      "The second number please : 0\n",
      "You are trying to divide by zero.. Try again.\n"
     ]
    }
   ],
   "source": [
    "while True:\n",
    "    no_one = int(input(\"The first number please : \"))\n",
    "    no_two = int(input(\"The second number please : \"))\n",
    "    try:\n",
    "        division = no_one / no_two\n",
    "        print(\"The result of the division is : \", division)\n",
    "        break\n",
    "    except ZeroDivisionError:\n",
    "        print(\"You are trying to divide by zero.. Try again.\")\n",
    "        break"
   ]
  },
  {
   "cell_type": "code",
   "execution_count": 15,
   "id": "5b7a3781",
   "metadata": {},
   "outputs": [
    {
     "name": "stdout",
     "output_type": "stream",
     "text": [
      "The first number please : 5\n",
      "The second number please : 5\n",
      "The result of the division is :  1.0\n",
      "Thanks for using our mini divison calculator! Come again!\n"
     ]
    }
   ],
   "source": [
    "while True:\n",
    "    no_one = int(input(\"The first number please : \"))\n",
    "    no_two = int(input(\"The second number please : \"))\n",
    "    try:\n",
    "        division = no_one / no_two  # normal part of the program\n",
    "    except ZeroDivisionError:\n",
    "        print(\"You can't divide by zero! Try again.\")  # executes when division by zero\n",
    "    else:\n",
    "        print(\"The result of the division is : \", division)  # executes if there is no exception\n",
    "    finally:\n",
    "        print(\"Thanks for using our mini divison calculator! Come again!\")\n",
    "        break  # exits the while loop\n"
   ]
  },
  {
   "cell_type": "code",
   "execution_count": 16,
   "id": "25c8608c",
   "metadata": {},
   "outputs": [
    {
     "name": "stdout",
     "output_type": "stream",
     "text": [
      "The first number please : 5\n",
      "The second number please : beş\n"
     ]
    },
    {
     "ename": "ValueError",
     "evalue": "invalid literal for int() with base 10: 'beş'",
     "output_type": "error",
     "traceback": [
      "\u001b[0;31m---------------------------------------------------------------------------\u001b[0m",
      "\u001b[0;31mValueError\u001b[0m                                Traceback (most recent call last)",
      "\u001b[0;32m<ipython-input-16-5fd297d1c219>\u001b[0m in \u001b[0;36m<module>\u001b[0;34m\u001b[0m\n\u001b[1;32m      1\u001b[0m \u001b[0;32mwhile\u001b[0m \u001b[0;32mTrue\u001b[0m\u001b[0;34m:\u001b[0m\u001b[0;34m\u001b[0m\u001b[0;34m\u001b[0m\u001b[0m\n\u001b[1;32m      2\u001b[0m     \u001b[0mno_one\u001b[0m \u001b[0;34m=\u001b[0m \u001b[0mint\u001b[0m\u001b[0;34m(\u001b[0m\u001b[0minput\u001b[0m\u001b[0;34m(\u001b[0m\u001b[0;34m\"The first number please : \"\u001b[0m\u001b[0;34m)\u001b[0m\u001b[0;34m)\u001b[0m\u001b[0;34m\u001b[0m\u001b[0;34m\u001b[0m\u001b[0m\n\u001b[0;32m----> 3\u001b[0;31m     \u001b[0mno_two\u001b[0m \u001b[0;34m=\u001b[0m \u001b[0mint\u001b[0m\u001b[0;34m(\u001b[0m\u001b[0minput\u001b[0m\u001b[0;34m(\u001b[0m\u001b[0;34m\"The second number please : \"\u001b[0m\u001b[0;34m)\u001b[0m\u001b[0;34m)\u001b[0m\u001b[0;34m\u001b[0m\u001b[0;34m\u001b[0m\u001b[0m\n\u001b[0m\u001b[1;32m      4\u001b[0m     \u001b[0;32mtry\u001b[0m\u001b[0;34m:\u001b[0m\u001b[0;34m\u001b[0m\u001b[0;34m\u001b[0m\u001b[0m\n\u001b[1;32m      5\u001b[0m         \u001b[0mdivision\u001b[0m \u001b[0;34m=\u001b[0m \u001b[0mno_one\u001b[0m \u001b[0;34m/\u001b[0m \u001b[0mno_two\u001b[0m  \u001b[0;31m# normal part of the program\u001b[0m\u001b[0;34m\u001b[0m\u001b[0;34m\u001b[0m\u001b[0m\n",
      "\u001b[0;31mValueError\u001b[0m: invalid literal for int() with base 10: 'beş'"
     ]
    }
   ],
   "source": [
    "while True:\n",
    "    no_one = int(input(\"The first number please : \"))\n",
    "    no_two = int(input(\"The second number please : \"))\n",
    "    try:\n",
    "        division = no_one / no_two  # normal part of the program\n",
    "    except ZeroDivisionError:\n",
    "        print(\"You can't divide by zero! Try again.\")  # executes when division by zero\n",
    "    else:\n",
    "        print(\"The result of the division is : \", division)  # executes if there is no exception\n",
    "    finally:\n",
    "        print(\"Thanks for using our mini divison calculator! Come again!\")\n",
    "        break  # exits the while loop"
   ]
  },
  {
   "cell_type": "code",
   "execution_count": 5,
   "id": "d863ac0d",
   "metadata": {},
   "outputs": [
    {
     "name": "stdout",
     "output_type": "stream",
     "text": [
      "The first number please : 5\n",
      "The second number please : beş\n",
      "You can't divide by zero! Try again.\n",
      "Thanks for using our mini divison calculator! Come again!\n"
     ]
    }
   ],
   "source": [
    "while True:\n",
    "\n",
    "    try:\n",
    "        no_one = int(input(\"The first number please : \"))\n",
    "        no_two = int(input(\"The second number please : \"))        \n",
    "        division = no_one / no_two  # normal part of the program\n",
    "    except :\n",
    "        print(\"You can't divide by zero! Try again.\")  # executes when division by zero\n",
    "    else:\n",
    "        print(\"The result of the division is : \", division)  # executes if there is no exception\n",
    "    finally:\n",
    "        print(\"Thanks for using our mini divison calculator! Come again!\")\n",
    "        break  # exits the while loop"
   ]
  },
  {
   "cell_type": "code",
   "execution_count": 7,
   "id": "a309f2ef",
   "metadata": {},
   "outputs": [
    {
     "name": "stdout",
     "output_type": "stream",
     "text": [
      "The first number please : 5\n",
      "The second number please : 0\n",
      "The exception that raised is : division by zero\n"
     ]
    }
   ],
   "source": [
    "while True:\n",
    "    no_one = int(input(\"The first number please : \"))\n",
    "    no_two = int(input(\"The second number please : \"))\n",
    "    try:\n",
    "        division = no_one / no_two\n",
    "        print(\"The result of the division is : \", division)\n",
    "        break\n",
    "    except Exception as fırfırik:\n",
    "        print(\"The exception that raised is :\", fırfırik)\n",
    "        break"
   ]
  },
  {
   "cell_type": "code",
   "execution_count": 8,
   "id": "1e2b053d",
   "metadata": {},
   "outputs": [
    {
     "name": "stdout",
     "output_type": "stream",
     "text": [
      "The first number please : beş\n",
      "The exception that raised is : invalid literal for int() with base 10: 'beş'\n"
     ]
    }
   ],
   "source": [
    "while True:\n",
    "\n",
    "    try:\n",
    "        no_one = int(input(\"The first number please : \"))\n",
    "        no_two = int(input(\"The second number please : \"))        \n",
    "        division = no_one / no_two\n",
    "        print(\"The result of the division is : \", division)\n",
    "        break\n",
    "    except Exception as fırfırik:\n",
    "        print(\"The exception that raised is :\", fırfırik)\n",
    "        break"
   ]
  },
  {
   "cell_type": "code",
   "execution_count": 9,
   "id": "c142a39a",
   "metadata": {},
   "outputs": [
    {
     "ename": "NameError",
     "evalue": "name 'fırfırik' is not defined",
     "output_type": "error",
     "traceback": [
      "\u001b[0;31m---------------------------------------------------------------------------\u001b[0m",
      "\u001b[0;31mNameError\u001b[0m                                 Traceback (most recent call last)",
      "\u001b[0;32m<ipython-input-9-50ef1a20ff9a>\u001b[0m in \u001b[0;36m<module>\u001b[0;34m\u001b[0m\n\u001b[0;32m----> 1\u001b[0;31m \u001b[0mfırfırik\u001b[0m\u001b[0;34m\u001b[0m\u001b[0;34m\u001b[0m\u001b[0m\n\u001b[0m",
      "\u001b[0;31mNameError\u001b[0m: name 'fırfırik' is not defined"
     ]
    }
   ],
   "source": [
    "fırfırik"
   ]
  },
  {
   "cell_type": "code",
   "execution_count": 10,
   "id": "5c5c55e7",
   "metadata": {},
   "outputs": [
    {
     "name": "stdout",
     "output_type": "stream",
     "text": [
      "You are trying to divide by zero\n"
     ]
    }
   ],
   "source": [
    "try :\n",
    "    x = 2 / 0\n",
    "\n",
    "except ZeroDivisionError :\n",
    "    print(\"You are trying to divide by zero\")\n",
    "    \n",
    "except :\n",
    "    print(\"Someting went wrong.\")"
   ]
  },
  {
   "cell_type": "code",
   "execution_count": 11,
   "id": "66879ef3",
   "metadata": {},
   "outputs": [
    {
     "name": "stdout",
     "output_type": "stream",
     "text": [
      "Someting went wrong.\n"
     ]
    }
   ],
   "source": [
    "try :\n",
    "    x\n",
    "\n",
    "except ZeroDivisionError :\n",
    "    print(\"You are trying to divide by zero\")\n",
    "    \n",
    "except :\n",
    "    print(\"Someting went wrong.\")"
   ]
  },
  {
   "cell_type": "code",
   "execution_count": 12,
   "id": "bf73c2a2",
   "metadata": {},
   "outputs": [
    {
     "name": "stdout",
     "output_type": "stream",
     "text": [
      "Wrong is related to name error.\n"
     ]
    }
   ],
   "source": [
    "try :\n",
    "    x\n",
    "\n",
    "except ZeroDivisionError :\n",
    "    print(\"You are trying to divide by zero\")\n",
    "    \n",
    "except NameError :\n",
    "    print(\"Wrong is related to name error.\")\n",
    "\n",
    "except :\n",
    "    print(\"Someting went wrong.\")"
   ]
  },
  {
   "cell_type": "code",
   "execution_count": 13,
   "id": "8ebdf005",
   "metadata": {},
   "outputs": [
    {
     "ename": "ValueError",
     "evalue": "invalid literal for int() with base 10: 'on'",
     "output_type": "error",
     "traceback": [
      "\u001b[0;31m---------------------------------------------------------------------------\u001b[0m",
      "\u001b[0;31mValueError\u001b[0m                                Traceback (most recent call last)",
      "\u001b[0;32m<ipython-input-13-9db2c1f25cfb>\u001b[0m in \u001b[0;36m<module>\u001b[0;34m\u001b[0m\n\u001b[0;32m----> 1\u001b[0;31m \u001b[0mint\u001b[0m\u001b[0;34m(\u001b[0m\u001b[0;34m\"on\"\u001b[0m\u001b[0;34m)\u001b[0m\u001b[0;34m\u001b[0m\u001b[0;34m\u001b[0m\u001b[0m\n\u001b[0m",
      "\u001b[0;31mValueError\u001b[0m: invalid literal for int() with base 10: 'on'"
     ]
    }
   ],
   "source": [
    "int(\"on\")"
   ]
  },
  {
   "cell_type": "code",
   "execution_count": 14,
   "id": "98d93161",
   "metadata": {},
   "outputs": [
    {
     "name": "stdout",
     "output_type": "stream",
     "text": [
      "Someting went wrong.\n"
     ]
    }
   ],
   "source": [
    "try :\n",
    "    int(\"on\")\n",
    "except ZeroDivisionError :\n",
    "    print(\"You are trying to divide by zero\")\n",
    "    \n",
    "except NameError :\n",
    "    print(\"Wrong is related to name error.\")\n",
    "\n",
    "except :\n",
    "    print(\"Someting went wrong.\")"
   ]
  },
  {
   "cell_type": "code",
   "execution_count": 16,
   "id": "48666ec7",
   "metadata": {},
   "outputs": [
    {
     "name": "stdout",
     "output_type": "stream",
     "text": [
      "There are Value or Type error.\n"
     ]
    }
   ],
   "source": [
    "try :\n",
    "    int(\"on\")\n",
    "except ZeroDivisionError :\n",
    "    print(\"You are trying to divide by zero\")\n",
    "    \n",
    "except NameError :\n",
    "    print(\"Wrong is related to name error.\")\n",
    "    \n",
    "except (ValueError, TypeError):\n",
    "    print(\"There are Value or Type error.\")\n",
    "    \n",
    "except :\n",
    "    print(\"Someting went wrong.\")"
   ]
  },
  {
   "cell_type": "code",
   "execution_count": 17,
   "id": "f7e5f560",
   "metadata": {},
   "outputs": [
    {
     "name": "stdout",
     "output_type": "stream",
     "text": [
      "There are Value or Type error.\n"
     ]
    }
   ],
   "source": [
    "try :\n",
    "    4 + \"4\"\n",
    "except ZeroDivisionError :\n",
    "    print(\"You are trying to divide by zero\")\n",
    "    \n",
    "except NameError :\n",
    "    print(\"Wrong is related to name error.\")\n",
    "    \n",
    "except (ValueError, TypeError):\n",
    "    print(\"There are Value or Type error.\")\n",
    "    \n",
    "except :\n",
    "    print(\"Someting went wrong.\")"
   ]
  },
  {
   "cell_type": "code",
   "execution_count": 18,
   "id": "b8fe2e8b",
   "metadata": {},
   "outputs": [
    {
     "name": "stdout",
     "output_type": "stream",
     "text": [
      "You are trying to divide by zero\n"
     ]
    }
   ],
   "source": [
    "try :\n",
    "    4 / 0\n",
    "except ArithmeticError :\n",
    "    print(\"You are trying to divide by zero\")\n",
    "    \n",
    "except NameError :\n",
    "    print(\"Wrong is related to name error.\")\n",
    "    \n",
    "except (ValueError, TypeError):\n",
    "    print(\"There are Value or Type error.\")\n",
    "    \n",
    "except :\n",
    "    print(\"Someting went wrong.\")"
   ]
  },
  {
   "cell_type": "code",
   "execution_count": 19,
   "id": "5597870a",
   "metadata": {},
   "outputs": [],
   "source": [
    "fruits = [\"banana\", \"mango\", \"pear\", \"apple\", \"kiwi\", \"grape\"]"
   ]
  },
  {
   "cell_type": "code",
   "execution_count": 22,
   "id": "bdaecb2a",
   "metadata": {},
   "outputs": [
    {
     "name": "stdout",
     "output_type": "stream",
     "text": [
      "pick an index number :beş\n",
      "You should enter integer. Try again!\n",
      "pick an index number :8\n",
      "There is no such an index. Try again!\n",
      "pick an index number :4\n",
      "Your favorite fruit is : kiwi\n"
     ]
    }
   ],
   "source": [
    "while True :\n",
    "    \n",
    "    try :\n",
    "        index = int(input(\"pick an index number :\"))\n",
    "        print(\"Your favorite fruit is :\", fruits[index])\n",
    "        break\n",
    "        \n",
    "    except IndexError :\n",
    "        print(\"There is no such an index. Try again!\")\n",
    "        \n",
    "    except ValueError :\n",
    "        print(\"You should enter integer. Try again!\")"
   ]
  },
  {
   "cell_type": "code",
   "execution_count": 23,
   "id": "b72c8ed6",
   "metadata": {},
   "outputs": [
    {
     "name": "stdout",
     "output_type": "stream",
     "text": [
      "You have 3 right.\n",
      "Pick an index number :4\n",
      "Your favoritte fruit is : kiwi\n",
      "Congrats! You've entered valid input.\n",
      "Our fruits are always fresh!\n"
     ]
    }
   ],
   "source": [
    "counter = 3\n",
    "\n",
    "while counter > 0 :\n",
    "    \n",
    "    try :\n",
    "        print(f\"You have {counter} right.\")\n",
    "        index = int(input(\"Pick an index number :\"))\n",
    "        print(\"Your favoritte fruit is :\", fruits[index])\n",
    "        \n",
    "    except IndexError :\n",
    "        counter = counter - 1\n",
    "        print(f\"Index error raised. You have {counter} right left. Try again!\")\n",
    "        \n",
    "    except ValueError :\n",
    "        counter = counter - 1\n",
    "        print(f\"Value error raised. You have {counter} right left. Try again!\")\n",
    "        \n",
    "    else :\n",
    "        print(\"Congrats! You've entered valid input.\")\n",
    "        break\n",
    "        \n",
    "    finally :\n",
    "        print(\"Our fruits are always fresh!\")"
   ]
  },
  {
   "cell_type": "code",
   "execution_count": 24,
   "id": "501d9a66",
   "metadata": {},
   "outputs": [
    {
     "name": "stdout",
     "output_type": "stream",
     "text": [
      "You have 3 right.\n",
      "Pick an index number :beş\n",
      "Value error raised. You have 2 right left. Try again!\n",
      "Our fruits are always fresh!\n",
      "You have 2 right.\n",
      "Pick an index number :9\n",
      "Index error raised. You have 1 right left. Try again!\n",
      "Our fruits are always fresh!\n",
      "You have 1 right.\n",
      "Pick an index number :11\n",
      "Index error raised. You have 0 right left. Try again!\n",
      "Our fruits are always fresh!\n"
     ]
    }
   ],
   "source": [
    "counter = 3\n",
    "\n",
    "while counter > 0 :\n",
    "    \n",
    "    try :\n",
    "        print(f\"You have {counter} right.\")\n",
    "        index = int(input(\"Pick an index number :\"))\n",
    "        print(\"Your favoritte fruit is :\", fruits[index])\n",
    "        \n",
    "    except IndexError :\n",
    "        counter = counter - 1\n",
    "        print(f\"Index error raised. You have {counter} right left. Try again!\")\n",
    "        \n",
    "    except ValueError :\n",
    "        counter = counter - 1\n",
    "        print(f\"Value error raised. You have {counter} right left. Try again!\")\n",
    "        \n",
    "    else :\n",
    "        print(\"Congrats! You've entered valid input.\")\n",
    "        break\n",
    "        \n",
    "    finally :\n",
    "        print(\"Our fruits are always fresh!\")"
   ]
  },
  {
   "cell_type": "markdown",
   "id": "12342582",
   "metadata": {},
   "source": [
    "## Letter count"
   ]
  },
  {
   "cell_type": "code",
   "execution_count": 25,
   "id": "296346d7",
   "metadata": {},
   "outputs": [],
   "source": [
    "word = {1 : \"1\", 2 : \"2\"}"
   ]
  },
  {
   "cell_type": "code",
   "execution_count": 26,
   "id": "7dc9c1fb",
   "metadata": {},
   "outputs": [
    {
     "data": {
      "text/plain": [
       "{1: '1', 2: '2'}"
      ]
     },
     "execution_count": 26,
     "metadata": {},
     "output_type": "execute_result"
    }
   ],
   "source": [
    "word"
   ]
  },
  {
   "cell_type": "code",
   "execution_count": 27,
   "id": "95f9def0",
   "metadata": {},
   "outputs": [],
   "source": [
    "keys = word.keys()"
   ]
  },
  {
   "cell_type": "code",
   "execution_count": 28,
   "id": "cadba5b7",
   "metadata": {},
   "outputs": [
    {
     "data": {
      "text/plain": [
       "dict_keys([1, 2])"
      ]
     },
     "execution_count": 28,
     "metadata": {},
     "output_type": "execute_result"
    }
   ],
   "source": [
    "keys"
   ]
  },
  {
   "cell_type": "code",
   "execution_count": 29,
   "id": "c633c59c",
   "metadata": {},
   "outputs": [],
   "source": [
    "wordd = {}"
   ]
  },
  {
   "cell_type": "code",
   "execution_count": 30,
   "id": "9e4c7d98",
   "metadata": {},
   "outputs": [],
   "source": [
    "wordd[\"e\"] = 1"
   ]
  },
  {
   "cell_type": "code",
   "execution_count": 31,
   "id": "81c3dbf8",
   "metadata": {},
   "outputs": [
    {
     "data": {
      "text/plain": [
       "{'e': 1}"
      ]
     },
     "execution_count": 31,
     "metadata": {},
     "output_type": "execute_result"
    }
   ],
   "source": [
    "wordd"
   ]
  },
  {
   "cell_type": "code",
   "execution_count": 32,
   "id": "89f0f6be",
   "metadata": {},
   "outputs": [],
   "source": [
    "wordd[\"d\"] = 1"
   ]
  },
  {
   "cell_type": "code",
   "execution_count": 33,
   "id": "30247405",
   "metadata": {},
   "outputs": [
    {
     "data": {
      "text/plain": [
       "{'e': 1, 'd': 1}"
      ]
     },
     "execution_count": 33,
     "metadata": {},
     "output_type": "execute_result"
    }
   ],
   "source": [
    "wordd"
   ]
  },
  {
   "cell_type": "code",
   "execution_count": 34,
   "id": "4ecfe459",
   "metadata": {},
   "outputs": [],
   "source": [
    "wordd[\"c\"] = 1"
   ]
  },
  {
   "cell_type": "code",
   "execution_count": 35,
   "id": "b9e8518f",
   "metadata": {},
   "outputs": [
    {
     "data": {
      "text/plain": [
       "{'e': 1, 'd': 1, 'c': 1}"
      ]
     },
     "execution_count": 35,
     "metadata": {},
     "output_type": "execute_result"
    }
   ],
   "source": [
    "wordd"
   ]
  },
  {
   "cell_type": "code",
   "execution_count": 36,
   "id": "779cdb4b",
   "metadata": {},
   "outputs": [
    {
     "data": {
      "text/plain": [
       "{'e': 1, 'd': 1, 'c': 2}"
      ]
     },
     "execution_count": 36,
     "metadata": {},
     "output_type": "execute_result"
    }
   ],
   "source": [
    "wordd[\"c\"] = wordd[\"c\"] + 1\n",
    "wordd"
   ]
  },
  {
   "cell_type": "code",
   "execution_count": 37,
   "id": "29e95fb1",
   "metadata": {},
   "outputs": [
    {
     "data": {
      "text/plain": [
       "{'e': 1, 'd': 1, 'c': 3}"
      ]
     },
     "execution_count": 37,
     "metadata": {},
     "output_type": "execute_result"
    }
   ],
   "source": [
    "wordd[\"c\"] = wordd[\"c\"] + 1\n",
    "wordd"
   ]
  },
  {
   "cell_type": "code",
   "execution_count": 38,
   "id": "f984129f",
   "metadata": {},
   "outputs": [
    {
     "data": {
      "text/plain": [
       "{'e': 1, 'd': 1, 'c': 4}"
      ]
     },
     "execution_count": 38,
     "metadata": {},
     "output_type": "execute_result"
    }
   ],
   "source": [
    "wordd[\"c\"] = wordd[\"c\"] + 1\n",
    "wordd"
   ]
  },
  {
   "cell_type": "code",
   "execution_count": 39,
   "id": "600eb543",
   "metadata": {},
   "outputs": [
    {
     "data": {
      "text/plain": [
       "True"
      ]
     },
     "execution_count": 39,
     "metadata": {},
     "output_type": "execute_result"
    }
   ],
   "source": [
    "\"c\" in wordd"
   ]
  },
  {
   "cell_type": "code",
   "execution_count": 40,
   "id": "65c20c60",
   "metadata": {},
   "outputs": [
    {
     "data": {
      "text/plain": [
       "False"
      ]
     },
     "execution_count": 40,
     "metadata": {},
     "output_type": "execute_result"
    }
   ],
   "source": [
    "\"f\" in wordd"
   ]
  },
  {
   "cell_type": "code",
   "execution_count": 41,
   "id": "d55912d7",
   "metadata": {},
   "outputs": [
    {
     "name": "stdout",
     "output_type": "stream",
     "text": [
      "{'b': 1, 'u': 1, 'g': 1, 'ü': 5, 'n': 5, ' ': 7, 'ç': 1, 'o': 3, 'k': 3, 'h': 1, 'z': 1, 'l': 2, 'y': 3, 'm': 1, '.': 5, 'a': 3, 'r': 2, 'ı': 3, '2': 1, 's': 4, 'e': 1, 'i': 1}\n"
     ]
    }
   ],
   "source": [
    "string = \"bugün çok hüzünlüyüm. ayrılık yakın. 2 session sonra...\"\n",
    "\n",
    "word_dict = {}\n",
    "\n",
    "for n in string :\n",
    "    \n",
    "    if n in word_dict :\n",
    "        word_dict[n] += 1\n",
    "        \n",
    "    else :\n",
    "        word_dict[n] = 1\n",
    "        \n",
    "print(word_dict)"
   ]
  },
  {
   "cell_type": "code",
   "execution_count": 42,
   "id": "c000ec08",
   "metadata": {},
   "outputs": [],
   "source": [
    "veri = [\"a\", \"b\", True, (False, 1), {\"1\" : 2}, [1,2], {\"2\" : \"two\"}, {2, \"3\"}, \"c\", 23, 0]"
   ]
  },
  {
   "cell_type": "code",
   "execution_count": 43,
   "id": "f23ec1e5",
   "metadata": {},
   "outputs": [],
   "source": [
    "tipler = [\"int\", \"str\", \"bool\", \"list\", \"tuple\", \"dict\", \"set\"]"
   ]
  },
  {
   "cell_type": "code",
   "execution_count": 44,
   "id": "ac02dc8b",
   "metadata": {},
   "outputs": [
    {
     "data": {
      "text/plain": [
       "{'bool': 1, 'int': 2, 'list': 1, 'tuple': 1, 'str': 3}"
      ]
     },
     "execution_count": 44,
     "metadata": {},
     "output_type": "execute_result"
    }
   ],
   "source": [
    "{\"bool\" : 1, \"int\" : 2, \"list\" : 1, \"tuple\" : 1, \"str\" : 3}"
   ]
  },
  {
   "cell_type": "code",
   "execution_count": 45,
   "id": "6a1ce2c5",
   "metadata": {},
   "outputs": [
    {
     "data": {
      "text/plain": [
       "{'int': None,\n",
       " 'str': None,\n",
       " 'bool': None,\n",
       " 'list': None,\n",
       " 'tuple': None,\n",
       " 'dict': None,\n",
       " 'set': None}"
      ]
     },
     "execution_count": 45,
     "metadata": {},
     "output_type": "execute_result"
    }
   ],
   "source": [
    "{}.fromkeys(tipler)"
   ]
  },
  {
   "cell_type": "code",
   "execution_count": 46,
   "id": "c18bc087",
   "metadata": {},
   "outputs": [
    {
     "data": {
      "text/plain": [
       "{'int': True,\n",
       " 'str': True,\n",
       " 'bool': True,\n",
       " 'list': True,\n",
       " 'tuple': True,\n",
       " 'dict': True,\n",
       " 'set': True}"
      ]
     },
     "execution_count": 46,
     "metadata": {},
     "output_type": "execute_result"
    }
   ],
   "source": [
    "{}.fromkeys(tipler, True)"
   ]
  },
  {
   "cell_type": "code",
   "execution_count": 47,
   "id": "351537ed",
   "metadata": {},
   "outputs": [
    {
     "data": {
      "text/plain": [
       "{'int': 55,\n",
       " 'str': 55,\n",
       " 'bool': 55,\n",
       " 'list': 55,\n",
       " 'tuple': 55,\n",
       " 'dict': 55,\n",
       " 'set': 55}"
      ]
     },
     "execution_count": 47,
     "metadata": {},
     "output_type": "execute_result"
    }
   ],
   "source": [
    "{}.fromkeys(tipler, 55)"
   ]
  },
  {
   "cell_type": "code",
   "execution_count": 48,
   "id": "8231c31e",
   "metadata": {},
   "outputs": [
    {
     "data": {
      "text/plain": [
       "{'int': 'True',\n",
       " 'str': 'True',\n",
       " 'bool': 'True',\n",
       " 'list': 'True',\n",
       " 'tuple': 'True',\n",
       " 'dict': 'True',\n",
       " 'set': 'True'}"
      ]
     },
     "execution_count": 48,
     "metadata": {},
     "output_type": "execute_result"
    }
   ],
   "source": [
    "{}.fromkeys(tipler, \"True\")"
   ]
  },
  {
   "cell_type": "code",
   "execution_count": 49,
   "id": "8277cea1",
   "metadata": {},
   "outputs": [
    {
     "data": {
      "text/plain": [
       "{'int': 0, 'str': 0, 'bool': 0, 'list': 0, 'tuple': 0, 'dict': 0, 'set': 0}"
      ]
     },
     "execution_count": 49,
     "metadata": {},
     "output_type": "execute_result"
    }
   ],
   "source": [
    "{}.fromkeys(tipler, 0)"
   ]
  },
  {
   "cell_type": "code",
   "execution_count": 52,
   "id": "88e93cc9",
   "metadata": {},
   "outputs": [],
   "source": [
    "toplam = {}.fromkeys(tipler, 0)"
   ]
  },
  {
   "cell_type": "code",
   "execution_count": 53,
   "id": "d9e67d1f",
   "metadata": {},
   "outputs": [
    {
     "data": {
      "text/plain": [
       "{'int': 0, 'str': 0, 'bool': 0, 'list': 0, 'tuple': 0, 'dict': 0, 'set': 0}"
      ]
     },
     "execution_count": 53,
     "metadata": {},
     "output_type": "execute_result"
    }
   ],
   "source": [
    "toplam"
   ]
  },
  {
   "cell_type": "code",
   "execution_count": 54,
   "id": "da020f36",
   "metadata": {},
   "outputs": [
    {
     "data": {
      "text/plain": [
       "11"
      ]
     },
     "execution_count": 54,
     "metadata": {},
     "output_type": "execute_result"
    }
   ],
   "source": [
    "len(veri)"
   ]
  },
  {
   "cell_type": "code",
   "execution_count": 55,
   "id": "f4d56f20",
   "metadata": {},
   "outputs": [
    {
     "data": {
      "text/plain": [
       "str"
      ]
     },
     "execution_count": 55,
     "metadata": {},
     "output_type": "execute_result"
    }
   ],
   "source": [
    "type(veri[0])"
   ]
  },
  {
   "cell_type": "code",
   "execution_count": 56,
   "id": "0500764d",
   "metadata": {},
   "outputs": [
    {
     "data": {
      "text/plain": [
       "list"
      ]
     },
     "execution_count": 56,
     "metadata": {},
     "output_type": "execute_result"
    }
   ],
   "source": [
    "type(veri[5])"
   ]
  },
  {
   "cell_type": "code",
   "execution_count": 57,
   "id": "ed010fb7",
   "metadata": {},
   "outputs": [
    {
     "data": {
      "text/plain": [
       "True"
      ]
     },
     "execution_count": 57,
     "metadata": {},
     "output_type": "execute_result"
    }
   ],
   "source": [
    "type(veri[5]) == list"
   ]
  },
  {
   "cell_type": "code",
   "execution_count": 58,
   "id": "f1435228",
   "metadata": {},
   "outputs": [
    {
     "data": {
      "text/plain": [
       "False"
      ]
     },
     "execution_count": 58,
     "metadata": {},
     "output_type": "execute_result"
    }
   ],
   "source": [
    "type(veri[5]) == str"
   ]
  },
  {
   "cell_type": "code",
   "execution_count": 59,
   "id": "c3cc00f4",
   "metadata": {},
   "outputs": [
    {
     "data": {
      "text/plain": [
       "{'int': 2, 'str': 3, 'bool': 1, 'list': 1, 'tuple': 1, 'dict': 2, 'set': 1}"
      ]
     },
     "execution_count": 59,
     "metadata": {},
     "output_type": "execute_result"
    }
   ],
   "source": [
    "for i in range(len(veri)) :\n",
    "    \n",
    "    if type(veri[i]) == int : toplam[\"int\"] += 1\n",
    "    elif type(veri[i]) == str : toplam[\"str\"] += 1\n",
    "    elif type(veri[i]) == bool : toplam[\"bool\"] += 1\n",
    "    elif type(veri[i]) == list : toplam[\"list\"] += 1\n",
    "    elif type(veri[i]) == tuple : toplam[\"tuple\"] += 1\n",
    "    elif type(veri[i]) == dict : toplam[\"dict\"] += 1\n",
    "    elif type(veri[i]) == set : toplam[\"set\"] += 1\n",
    "\n",
    "toplam"
   ]
  },
  {
   "cell_type": "code",
   "execution_count": null,
   "id": "b7548c3e",
   "metadata": {},
   "outputs": [],
   "source": []
  }
 ],
 "metadata": {
  "kernelspec": {
   "display_name": "Python 3",
   "language": "python",
   "name": "python3"
  },
  "language_info": {
   "codemirror_mode": {
    "name": "ipython",
    "version": 3
   },
   "file_extension": ".py",
   "mimetype": "text/x-python",
   "name": "python",
   "nbconvert_exporter": "python",
   "pygments_lexer": "ipython3",
   "version": "3.8.8"
  }
 },
 "nbformat": 4,
 "nbformat_minor": 5
}
