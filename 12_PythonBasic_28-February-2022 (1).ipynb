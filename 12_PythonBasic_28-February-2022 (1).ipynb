{
 "cells": [
  {
   "cell_type": "markdown",
   "id": "406f2981",
   "metadata": {},
   "source": [
    "<img src=\"https://docs.google.com/uc?id=14xeXxFrVRjvOoUYWn_GuyE-v84wVzrqr\" class=\"img-fluid\" alt=\"CLRWY\" width=\"400\" height=\"200\">"
   ]
  },
  {
   "cell_type": "markdown",
   "id": "22263af8",
   "metadata": {},
   "source": [
    "<h1><p style=\"text-align: center; color:darkblue\">Python In-Class, <br>28 February 2022</p><h1>"
   ]
  },
  {
   "cell_type": "code",
   "execution_count": 1,
   "id": "a21b8918",
   "metadata": {},
   "outputs": [
    {
     "name": "stdout",
     "output_type": "stream",
     "text": [
      "hello\n"
     ]
    }
   ],
   "source": [
    "print(\"hello\")"
   ]
  },
  {
   "cell_type": "markdown",
   "id": "1a2deade",
   "metadata": {},
   "source": [
    "```python\n",
    "\n",
    "while condition1 :\n",
    "    body1\n",
    "    while condition2 :\n",
    "        body2\n",
    "        break\n",
    "    break\n",
    "    \n",
    "```"
   ]
  },
  {
   "cell_type": "code",
   "execution_count": 3,
   "id": "1dc87839",
   "metadata": {},
   "outputs": [
    {
     "data": {
      "text/plain": [
       "False"
      ]
     },
     "execution_count": 3,
     "metadata": {},
     "output_type": "execute_result"
    }
   ],
   "source": [
    "\"onaltı\".isdigit()"
   ]
  },
  {
   "cell_type": "code",
   "execution_count": 2,
   "id": "da7abf9d",
   "metadata": {},
   "outputs": [],
   "source": [
    "yaş = \"onaltı\""
   ]
  },
  {
   "cell_type": "code",
   "execution_count": 4,
   "id": "828ce665",
   "metadata": {},
   "outputs": [
    {
     "data": {
      "text/plain": [
       "False"
      ]
     },
     "execution_count": 4,
     "metadata": {},
     "output_type": "execute_result"
    }
   ],
   "source": [
    "yaş.isdigit()"
   ]
  },
  {
   "cell_type": "code",
   "execution_count": null,
   "id": "072cec4c",
   "metadata": {},
   "outputs": [],
   "source": [
    "\"0123456789\""
   ]
  },
  {
   "cell_type": "code",
   "execution_count": 5,
   "id": "ea257d87",
   "metadata": {},
   "outputs": [
    {
     "data": {
      "text/plain": [
       "False"
      ]
     },
     "execution_count": 5,
     "metadata": {},
     "output_type": "execute_result"
    }
   ],
   "source": [
    "\"16.0\".isdigit()"
   ]
  },
  {
   "cell_type": "code",
   "execution_count": 6,
   "id": "820b7da3",
   "metadata": {},
   "outputs": [
    {
     "data": {
      "text/plain": [
       "False"
      ]
     },
     "execution_count": 6,
     "metadata": {},
     "output_type": "execute_result"
    }
   ],
   "source": [
    "\"-22\".isdigit()"
   ]
  },
  {
   "cell_type": "code",
   "execution_count": 7,
   "id": "dcb93105",
   "metadata": {},
   "outputs": [
    {
     "data": {
      "text/plain": [
       "True"
      ]
     },
     "execution_count": 7,
     "metadata": {},
     "output_type": "execute_result"
    }
   ],
   "source": [
    "\"42\".isdigit()"
   ]
  },
  {
   "cell_type": "code",
   "execution_count": 8,
   "id": "1833b31d",
   "metadata": {},
   "outputs": [
    {
     "name": "stdout",
     "output_type": "stream",
     "text": [
      "Enter your age?-44\n",
      "You entered incorrectly!\n",
      "Enter your age please :onaltı\n",
      "You entered incorrectly!\n",
      "Enter your age please :22.0\n",
      "You entered incorrectly!\n",
      "Enter your age please :42\n",
      "Great! You entered valid input.\n"
     ]
    }
   ],
   "source": [
    "age = input(\"Enter your age?\")\n",
    "\n",
    "while not age.isdigit() :\n",
    "    \n",
    "    print(\"You entered incorrectly!\")\n",
    "    \n",
    "    age = input(\"Enter your age please :\")\n",
    "    \n",
    "print(\"Great! You entered valid input.\")"
   ]
  },
  {
   "cell_type": "code",
   "execution_count": 9,
   "id": "570ccd2d",
   "metadata": {},
   "outputs": [
    {
     "name": "stdout",
     "output_type": "stream",
     "text": [
      "Let's start play the guessing game!\n",
      "What a two-digit number am I thinking of?88\n",
      "Little lower...\n",
      "What a two-digit number am I thinking of?66\n",
      "Little lower...\n",
      "What a two-digit number am I thinking of?33\n",
      "Little lower...\n",
      "What a two-digit number am I thinking of?10\n",
      "Little higher...\n",
      "What a two-digit number am I thinking of?20\n",
      "Little higher...\n",
      "What a two-digit number am I thinking of?22\n",
      "Are you a MINDREADER!!\n"
     ]
    }
   ],
   "source": [
    "answer = 22\n",
    "\n",
    "print(\"Let's start play the guessing game!\")\n",
    "\n",
    "while True :\n",
    "    \n",
    "    guess = int(input(\"What a two-digit number am I thinking of?\"))\n",
    "    \n",
    "    if guess < answer :\n",
    "        print(\"Little higher...\")\n",
    "        \n",
    "    elif guess > answer :\n",
    "        print(\"Little lower...\")\n",
    "        \n",
    "    else :\n",
    "        print(\"Are you a MINDREADER!!\")\n",
    "        break"
   ]
  },
  {
   "cell_type": "code",
   "execution_count": 11,
   "id": "060c4227",
   "metadata": {},
   "outputs": [
    {
     "data": {
      "text/plain": [
       "['The', 'best', 'school', 'is', 'Clarusway']"
      ]
     },
     "execution_count": 11,
     "metadata": {},
     "output_type": "execute_result"
    }
   ],
   "source": [
    "\"The best school is Clarusway\".split()"
   ]
  },
  {
   "cell_type": "code",
   "execution_count": 12,
   "id": "55b50155",
   "metadata": {},
   "outputs": [
    {
     "name": "stdout",
     "output_type": "stream",
     "text": [
      "Give me a sentence. : The best course is Clarusway\n",
      "The length of the longest word :  9\n"
     ]
    }
   ],
   "source": [
    "sentence = input(\"Give me a sentence. : \")\n",
    "\n",
    "word_list = sentence.split()\n",
    "\n",
    "longest = 0\n",
    "i = 0\n",
    "\n",
    "while i < len(word_list) :\n",
    "    \n",
    "    if len(word_list[i]) > longest :\n",
    "        longest = len(word_list[i])\n",
    "        \n",
    "    i += 1\n",
    "    \n",
    "print(\"The length of the longest word : \", longest)"
   ]
  },
  {
   "cell_type": "code",
   "execution_count": 13,
   "id": "7cfa813d",
   "metadata": {},
   "outputs": [],
   "source": [
    "benim_listem = [\"ali\", \"deli\", \"veli\"]"
   ]
  },
  {
   "cell_type": "code",
   "execution_count": 14,
   "id": "5dd1f477",
   "metadata": {},
   "outputs": [
    {
     "name": "stdout",
     "output_type": "stream",
     "text": [
      "ali\n"
     ]
    }
   ],
   "source": [
    "print(benim_listem[0])"
   ]
  },
  {
   "cell_type": "code",
   "execution_count": 15,
   "id": "11252181",
   "metadata": {},
   "outputs": [
    {
     "name": "stdout",
     "output_type": "stream",
     "text": [
      "deli\n"
     ]
    }
   ],
   "source": [
    "print(benim_listem[1])"
   ]
  },
  {
   "cell_type": "code",
   "execution_count": 16,
   "id": "cde2a255",
   "metadata": {},
   "outputs": [
    {
     "name": "stdout",
     "output_type": "stream",
     "text": [
      "veli\n"
     ]
    }
   ],
   "source": [
    "print(benim_listem[2])"
   ]
  },
  {
   "cell_type": "code",
   "execution_count": 17,
   "id": "8b5a46f9",
   "metadata": {},
   "outputs": [
    {
     "name": "stdout",
     "output_type": "stream",
     "text": [
      "ali\n",
      "deli\n",
      "veli\n"
     ]
    }
   ],
   "source": [
    "for i in benim_listem :\n",
    "    print(i)"
   ]
  },
  {
   "cell_type": "code",
   "execution_count": 18,
   "id": "75e6085c",
   "metadata": {},
   "outputs": [
    {
     "data": {
      "text/plain": [
       "True"
      ]
     },
     "execution_count": 18,
     "metadata": {},
     "output_type": "execute_result"
    }
   ],
   "source": [
    "\"ali\" < \"veli\""
   ]
  },
  {
   "cell_type": "code",
   "execution_count": 19,
   "id": "e716cb7f",
   "metadata": {},
   "outputs": [
    {
     "data": {
      "text/plain": [
       "True"
      ]
     },
     "execution_count": 19,
     "metadata": {},
     "output_type": "execute_result"
    }
   ],
   "source": [
    "\"ali\" == \"ali\""
   ]
  },
  {
   "cell_type": "code",
   "execution_count": 20,
   "id": "e75f2f55",
   "metadata": {},
   "outputs": [
    {
     "data": {
      "text/plain": [
       "range(1, 6)"
      ]
     },
     "execution_count": 20,
     "metadata": {},
     "output_type": "execute_result"
    }
   ],
   "source": [
    "range(1, 6)"
   ]
  },
  {
   "cell_type": "code",
   "execution_count": 21,
   "id": "3b37c8b3",
   "metadata": {},
   "outputs": [
    {
     "data": {
      "text/plain": [
       "[1, 2, 3, 4, 5]"
      ]
     },
     "execution_count": 21,
     "metadata": {},
     "output_type": "execute_result"
    }
   ],
   "source": [
    "list(range(1,6))"
   ]
  },
  {
   "cell_type": "code",
   "execution_count": 22,
   "id": "ed8f0909",
   "metadata": {},
   "outputs": [
    {
     "data": {
      "text/plain": [
       "(1, 2, 3, 4, 5)"
      ]
     },
     "execution_count": 22,
     "metadata": {},
     "output_type": "execute_result"
    }
   ],
   "source": [
    "tuple(range(1,6))"
   ]
  },
  {
   "cell_type": "code",
   "execution_count": 23,
   "id": "448698f9",
   "metadata": {},
   "outputs": [
    {
     "name": "stdout",
     "output_type": "stream",
     "text": [
      "1 2 3 4 5\n"
     ]
    }
   ],
   "source": [
    "print(* range(1,6))"
   ]
  },
  {
   "cell_type": "code",
   "execution_count": 25,
   "id": "fd955f45",
   "metadata": {},
   "outputs": [
    {
     "name": "stdout",
     "output_type": "stream",
     "text": [
      "[1]\n",
      "[1, 2]\n",
      "[1, 2, 3]\n",
      "[1, 2, 3, 4]\n",
      "[1, 2, 3, 4, 5]\n"
     ]
    }
   ],
   "source": [
    "numbers = []\n",
    "\n",
    "for i in range(1,6) :\n",
    "    numbers.append(i)\n",
    "    print(numbers)"
   ]
  },
  {
   "cell_type": "code",
   "execution_count": 26,
   "id": "cfdf0860",
   "metadata": {},
   "outputs": [
    {
     "data": {
      "text/plain": [
       "[1, 2, 3, 4, 5]"
      ]
     },
     "execution_count": 26,
     "metadata": {},
     "output_type": "execute_result"
    }
   ],
   "source": [
    "numbers"
   ]
  },
  {
   "cell_type": "code",
   "execution_count": 27,
   "id": "5a10e81a",
   "metadata": {},
   "outputs": [
    {
     "name": "stdout",
     "output_type": "stream",
     "text": [
      "a\n",
      "l\n",
      "i\n"
     ]
    }
   ],
   "source": [
    "for i in \"ali\" :\n",
    "    print(i)"
   ]
  },
  {
   "cell_type": "code",
   "execution_count": 28,
   "id": "b5c2bc93",
   "metadata": {},
   "outputs": [
    {
     "ename": "TypeError",
     "evalue": "'int' object is not iterable",
     "output_type": "error",
     "traceback": [
      "\u001b[0;31m---------------------------------------------------------------------------\u001b[0m",
      "\u001b[0;31mTypeError\u001b[0m                                 Traceback (most recent call last)",
      "\u001b[0;32m<ipython-input-28-833528fe3cbd>\u001b[0m in \u001b[0;36m<module>\u001b[0;34m\u001b[0m\n\u001b[0;32m----> 1\u001b[0;31m \u001b[0;32mfor\u001b[0m \u001b[0mi\u001b[0m \u001b[0;32min\u001b[0m \u001b[0;36m5\u001b[0m \u001b[0;34m:\u001b[0m\u001b[0;34m\u001b[0m\u001b[0;34m\u001b[0m\u001b[0m\n\u001b[0m\u001b[1;32m      2\u001b[0m     \u001b[0mprint\u001b[0m\u001b[0;34m(\u001b[0m\u001b[0mi\u001b[0m\u001b[0;34m)\u001b[0m\u001b[0;34m\u001b[0m\u001b[0;34m\u001b[0m\u001b[0m\n",
      "\u001b[0;31mTypeError\u001b[0m: 'int' object is not iterable"
     ]
    }
   ],
   "source": [
    "for i in 5 :\n",
    "    print(i)"
   ]
  },
  {
   "cell_type": "code",
   "execution_count": 29,
   "id": "ae9f1901",
   "metadata": {},
   "outputs": [
    {
     "name": "stdout",
     "output_type": "stream",
     "text": [
      "Give me a word :clarusway\n",
      "c-l-a-r-u-s-w-a-y-"
     ]
    }
   ],
   "source": [
    "word = input(\"Give me a word :\")\n",
    "\n",
    "for i in word :\n",
    "    \n",
    "    print(i, end=\"-\")"
   ]
  },
  {
   "cell_type": "code",
   "execution_count": 38,
   "id": "46fd66fb",
   "metadata": {},
   "outputs": [
    {
     "name": "stdout",
     "output_type": "stream",
     "text": [
      "Give me a word :clarusway\n",
      "c-l-a-r-u-s-w-a-y"
     ]
    }
   ],
   "source": [
    "word = input(\"Give me a word :\")\n",
    "counter = 0\n",
    "for i in word :\n",
    "    counter += 1\n",
    "    if counter < len(word) :\n",
    "        i += \"-\"\n",
    "    print(i, end = \"\")"
   ]
  },
  {
   "cell_type": "code",
   "execution_count": 35,
   "id": "7fbebf2f",
   "metadata": {},
   "outputs": [],
   "source": [
    "i = \"c\""
   ]
  },
  {
   "cell_type": "code",
   "execution_count": 36,
   "id": "700953a0",
   "metadata": {},
   "outputs": [
    {
     "data": {
      "text/plain": [
       "'c-'"
      ]
     },
     "execution_count": 36,
     "metadata": {},
     "output_type": "execute_result"
    }
   ],
   "source": [
    "i = i + \"-\"\n",
    "i"
   ]
  },
  {
   "cell_type": "code",
   "execution_count": 33,
   "id": "05a6f143",
   "metadata": {},
   "outputs": [],
   "source": [
    "i = \"l\""
   ]
  },
  {
   "cell_type": "code",
   "execution_count": 34,
   "id": "02162a25",
   "metadata": {},
   "outputs": [
    {
     "data": {
      "text/plain": [
       "'l-'"
      ]
     },
     "execution_count": 34,
     "metadata": {},
     "output_type": "execute_result"
    }
   ],
   "source": [
    "i += \"-\"\n",
    "i"
   ]
  },
  {
   "cell_type": "code",
   "execution_count": null,
   "id": "0b838373",
   "metadata": {},
   "outputs": [],
   "source": []
  }
 ],
 "metadata": {
  "kernelspec": {
   "display_name": "Python 3",
   "language": "python",
   "name": "python3"
  },
  "language_info": {
   "codemirror_mode": {
    "name": "ipython",
    "version": 3
   },
   "file_extension": ".py",
   "mimetype": "text/x-python",
   "name": "python",
   "nbconvert_exporter": "python",
   "pygments_lexer": "ipython3",
   "version": "3.8.8"
  }
 },
 "nbformat": 4,
 "nbformat_minor": 5
}
