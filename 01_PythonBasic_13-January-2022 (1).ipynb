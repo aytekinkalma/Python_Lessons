{
 "cells": [
  {
   "cell_type": "markdown",
   "id": "406f2981",
   "metadata": {},
   "source": [
    "<img src=\"https://docs.google.com/uc?id=14xeXxFrVRjvOoUYWn_GuyE-v84wVzrqr\" class=\"img-fluid\" alt=\"CLRWY\" width=\"400\" height=\"200\">"
   ]
  },
  {
   "cell_type": "markdown",
   "id": "22263af8",
   "metadata": {},
   "source": [
    "<h1><p style=\"text-align: center; color:darkblue\">Python In-Class, <br>13 January 2022</p><h1>"
   ]
  },
  {
   "cell_type": "code",
   "execution_count": 1,
   "id": "222fce1b",
   "metadata": {},
   "outputs": [
    {
     "name": "stdout",
     "output_type": "stream",
     "text": [
      "hello world\n"
     ]
    }
   ],
   "source": [
    "print(\"hello world\")"
   ]
  },
  {
   "cell_type": "code",
   "execution_count": 2,
   "id": "87978591",
   "metadata": {},
   "outputs": [
    {
     "ename": "SyntaxError",
     "evalue": "EOL while scanning string literal (<ipython-input-2-278f78f45249>, line 1)",
     "output_type": "error",
     "traceback": [
      "\u001b[0;36m  File \u001b[0;32m\"<ipython-input-2-278f78f45249>\"\u001b[0;36m, line \u001b[0;32m1\u001b[0m\n\u001b[0;31m    print(\"hello world')\u001b[0m\n\u001b[0m                        ^\u001b[0m\n\u001b[0;31mSyntaxError\u001b[0m\u001b[0;31m:\u001b[0m EOL while scanning string literal\n"
     ]
    }
   ],
   "source": [
    "print(\"hello world')"
   ]
  },
  {
   "cell_type": "code",
   "execution_count": 3,
   "id": "c549c6aa",
   "metadata": {},
   "outputs": [
    {
     "name": "stdout",
     "output_type": "stream",
     "text": [
      "çift tırnakla başladım ve çiftle bitirdim\n"
     ]
    }
   ],
   "source": [
    "print(\"çift tırnakla başladım ve çiftle bitirdim\")"
   ]
  },
  {
   "cell_type": "code",
   "execution_count": 4,
   "id": "e02b2f04",
   "metadata": {},
   "outputs": [
    {
     "name": "stdout",
     "output_type": "stream",
     "text": [
      "benim içimde sayı da var 123\n"
     ]
    }
   ],
   "source": [
    "print(\"benim içimde sayı da var 123\")"
   ]
  },
  {
   "cell_type": "code",
   "execution_count": 5,
   "id": "b4439d6d",
   "metadata": {},
   "outputs": [
    {
     "name": "stdout",
     "output_type": "stream",
     "text": [
      "#^+$½%67-*0,\n"
     ]
    }
   ],
   "source": [
    "print(\"#^+$½%67-*0,\")"
   ]
  },
  {
   "cell_type": "code",
   "execution_count": 6,
   "id": "a7440444",
   "metadata": {},
   "outputs": [
    {
     "ename": "SyntaxError",
     "evalue": "EOL while scanning string literal (<ipython-input-6-14c5289284e6>, line 1)",
     "output_type": "error",
     "traceback": [
      "\u001b[0;36m  File \u001b[0;32m\"<ipython-input-6-14c5289284e6>\"\u001b[0;36m, line \u001b[0;32m1\u001b[0m\n\u001b[0;31m    print(\"benim adım joseph,\u001b[0m\n\u001b[0m                             ^\u001b[0m\n\u001b[0;31mSyntaxError\u001b[0m\u001b[0;31m:\u001b[0m EOL while scanning string literal\n"
     ]
    }
   ],
   "source": [
    "print(\"benim adım joseph,\n",
    "      ben sizi çok sevdim\n",
    "      sizde huzur var\")"
   ]
  },
  {
   "cell_type": "code",
   "execution_count": 7,
   "id": "973ac6ab",
   "metadata": {},
   "outputs": [
    {
     "name": "stdout",
     "output_type": "stream",
     "text": [
      "hello world\n"
     ]
    }
   ],
   "source": [
    "print(\"\"\"hello world\"\"\")"
   ]
  },
  {
   "cell_type": "code",
   "execution_count": 8,
   "id": "a77d0284",
   "metadata": {},
   "outputs": [
    {
     "name": "stdout",
     "output_type": "stream",
     "text": [
      "hello world\n"
     ]
    }
   ],
   "source": [
    "print('''hello world''')"
   ]
  },
  {
   "cell_type": "code",
   "execution_count": 9,
   "id": "52034b6b",
   "metadata": {},
   "outputs": [
    {
     "name": "stdout",
     "output_type": "stream",
     "text": [
      "benim adım joseph,\n",
      "      ben sizi çok sevdim\n",
      "      sizde huzur var\n"
     ]
    }
   ],
   "source": [
    "print(\"\"\"benim adım joseph,\n",
    "      ben sizi çok sevdim\n",
    "      sizde huzur var\"\"\")"
   ]
  },
  {
   "cell_type": "code",
   "execution_count": 10,
   "id": "bd491250",
   "metadata": {},
   "outputs": [
    {
     "name": "stdout",
     "output_type": "stream",
     "text": [
      "benim adım joseph,\n",
      "      ben sizi çok sevdim\n",
      "      sizde huzur var\n"
     ]
    }
   ],
   "source": [
    "print('''benim adım joseph,\n",
    "      ben sizi çok sevdim\n",
    "      sizde huzur var''')"
   ]
  },
  {
   "cell_type": "code",
   "execution_count": 11,
   "id": "ad014f0f",
   "metadata": {},
   "outputs": [
    {
     "ename": "SyntaxError",
     "evalue": "invalid syntax (<ipython-input-11-1703ee340f21>, line 1)",
     "output_type": "error",
     "traceback": [
      "\u001b[0;36m  File \u001b[0;32m\"<ipython-input-11-1703ee340f21>\"\u001b[0;36m, line \u001b[0;32m1\u001b[0m\n\u001b[0;31m    print(\"balam neredesin Erzuurum\"dayım\")\u001b[0m\n\u001b[0m                                    ^\u001b[0m\n\u001b[0;31mSyntaxError\u001b[0m\u001b[0;31m:\u001b[0m invalid syntax\n"
     ]
    }
   ],
   "source": [
    "print(\"balam neredesin Erzuurum\"dayım\")"
   ]
  },
  {
   "cell_type": "code",
   "execution_count": 12,
   "id": "2a81357b",
   "metadata": {},
   "outputs": [
    {
     "name": "stdout",
     "output_type": "stream",
     "text": [
      "balam neredesin Erzuurum\"dayım\n"
     ]
    }
   ],
   "source": [
    "print(\"\"\"balam neredesin Erzuurum\"dayım\"\"\")"
   ]
  },
  {
   "cell_type": "code",
   "execution_count": 13,
   "id": "8282a97d",
   "metadata": {},
   "outputs": [
    {
     "name": "stdout",
     "output_type": "stream",
     "text": [
      "41\n"
     ]
    }
   ],
   "source": [
    "print(41)"
   ]
  },
  {
   "cell_type": "code",
   "execution_count": 14,
   "id": "f6aa4409",
   "metadata": {},
   "outputs": [
    {
     "name": "stdout",
     "output_type": "stream",
     "text": [
      "41\n"
     ]
    }
   ],
   "source": [
    "print(\"41\")"
   ]
  },
  {
   "cell_type": "code",
   "execution_count": 15,
   "id": "0290eaaf",
   "metadata": {},
   "outputs": [
    {
     "name": "stdout",
     "output_type": "stream",
     "text": [
      "3.14\n"
     ]
    }
   ],
   "source": [
    "print(3.14)"
   ]
  },
  {
   "cell_type": "code",
   "execution_count": 16,
   "id": "0150fe62",
   "metadata": {},
   "outputs": [
    {
     "name": "stdout",
     "output_type": "stream",
     "text": [
      "3 4\n"
     ]
    }
   ],
   "source": [
    "print(3,4)"
   ]
  },
  {
   "cell_type": "code",
   "execution_count": 17,
   "id": "4321beee",
   "metadata": {},
   "outputs": [
    {
     "name": "stdout",
     "output_type": "stream",
     "text": [
      "3 4 11.4 ali deli veli\n"
     ]
    }
   ],
   "source": [
    "print(3, 4, 11.4, \"ali\", \"deli\", \"veli\")"
   ]
  },
  {
   "cell_type": "code",
   "execution_count": 18,
   "id": "464b76df",
   "metadata": {},
   "outputs": [
    {
     "name": "stdout",
     "output_type": "stream",
     "text": [
      "ali\n",
      "\n",
      "deli\n"
     ]
    }
   ],
   "source": [
    "print(\"ali\")\n",
    "print(\"\")\n",
    "print(\"deli\")"
   ]
  },
  {
   "cell_type": "code",
   "execution_count": 19,
   "id": "737cf930",
   "metadata": {},
   "outputs": [
    {
     "ename": "SyntaxError",
     "evalue": "EOF while scanning triple-quoted string literal (<ipython-input-19-3b5889c98f6c>, line 2)",
     "output_type": "error",
     "traceback": [
      "\u001b[0;36m  File \u001b[0;32m\"<ipython-input-19-3b5889c98f6c>\"\u001b[0;36m, line \u001b[0;32m2\u001b[0m\n\u001b[0;31m    print('''')\u001b[0m\n\u001b[0m               ^\u001b[0m\n\u001b[0;31mSyntaxError\u001b[0m\u001b[0;31m:\u001b[0m EOF while scanning triple-quoted string literal\n"
     ]
    }
   ],
   "source": [
    "print() \n",
    "print('''')"
   ]
  },
  {
   "cell_type": "code",
   "execution_count": 20,
   "id": "c7d96645",
   "metadata": {},
   "outputs": [
    {
     "name": "stdout",
     "output_type": "stream",
     "text": [
      "''\n"
     ]
    }
   ],
   "source": [
    "print(\"''\")"
   ]
  },
  {
   "cell_type": "code",
   "execution_count": 21,
   "id": "3521b990",
   "metadata": {},
   "outputs": [
    {
     "name": "stdout",
     "output_type": "stream",
     "text": [
      " \"\" \n"
     ]
    }
   ],
   "source": [
    "print(' \"\" ')"
   ]
  },
  {
   "cell_type": "code",
   "execution_count": 25,
   "id": "2d4c63d4",
   "metadata": {},
   "outputs": [
    {
     "name": "stdout",
     "output_type": "stream",
     "text": [
      "32\n"
     ]
    }
   ],
   "source": [
    "print('''3'''\"2\")"
   ]
  },
  {
   "cell_type": "code",
   "execution_count": 26,
   "id": "88b76030",
   "metadata": {},
   "outputs": [
    {
     "name": "stdout",
     "output_type": "stream",
     "text": [
      "uyarsan ve buradan devam ediyorum\n"
     ]
    }
   ],
   "source": [
    "print(\"uyarsan \\\n",
    "ve buradan devam ediyorum\")"
   ]
  },
  {
   "cell_type": "code",
   "execution_count": 27,
   "id": "8c75d78e",
   "metadata": {},
   "outputs": [
    {
     "ename": "SyntaxError",
     "evalue": "unexpected character after line continuation character (<ipython-input-27-a96fc41c99d0>, line 1)",
     "output_type": "error",
     "traceback": [
      "\u001b[0;36m  File \u001b[0;32m\"<ipython-input-27-a96fc41c99d0>\"\u001b[0;36m, line \u001b[0;32m1\u001b[0m\n\u001b[0;31m    pr\\int()\u001b[0m\n\u001b[0m            ^\u001b[0m\n\u001b[0;31mSyntaxError\u001b[0m\u001b[0;31m:\u001b[0m unexpected character after line continuation character\n"
     ]
    }
   ],
   "source": [
    "pr\\int()"
   ]
  },
  {
   "cell_type": "code",
   "execution_count": 28,
   "id": "2d024d11",
   "metadata": {},
   "outputs": [],
   "source": [
    "# bu bir açıklama satırıdır"
   ]
  },
  {
   "cell_type": "code",
   "execution_count": 29,
   "id": "f0f67b45",
   "metadata": {},
   "outputs": [
    {
     "name": "stdout",
     "output_type": "stream",
     "text": [
      "hello world\n"
     ]
    }
   ],
   "source": [
    "print(\"hello world\")  # bu bir açıklama yorum ifadesidir"
   ]
  },
  {
   "cell_type": "code",
   "execution_count": 30,
   "id": "db3398c4",
   "metadata": {},
   "outputs": [
    {
     "name": "stdout",
     "output_type": "stream",
     "text": [
      "hello world\n"
     ]
    }
   ],
   "source": [
    "print(\"hello world\")#bu bir açıklama yorum ifadesidir"
   ]
  },
  {
   "cell_type": "code",
   "execution_count": 31,
   "id": "a3985523",
   "metadata": {},
   "outputs": [],
   "source": [
    "# bu bir açıklama satırıdır\n",
    "# bu açıklamanın ikinci satırıdır\n",
    "# bu da son satırdır"
   ]
  },
  {
   "cell_type": "code",
   "execution_count": 32,
   "id": "cfce453f",
   "metadata": {},
   "outputs": [
    {
     "data": {
      "text/plain": [
       "8"
      ]
     },
     "execution_count": 32,
     "metadata": {},
     "output_type": "execute_result"
    }
   ],
   "source": [
    "3 + 5  # 3 ile 5'in toplamına ilişkin kod satırıdır"
   ]
  },
  {
   "cell_type": "code",
   "execution_count": null,
   "id": "d78b3b9f",
   "metadata": {},
   "outputs": [],
   "source": [
    "...\n",
    "...\n",
    "...\n",
    "x = 35  # bu müşteri sayısıdır\n",
    "y = 22  # burada X müşterinin kızının ev sayısıdır"
   ]
  },
  {
   "cell_type": "code",
   "execution_count": 34,
   "id": "33c54f69",
   "metadata": {},
   "outputs": [],
   "source": [
    "# print(\"sizinle tanışdığıma çok memnunum\")  # bu benim açıklamamdır"
   ]
  },
  {
   "cell_type": "code",
   "execution_count": 35,
   "id": "b1a470f9",
   "metadata": {},
   "outputs": [
    {
     "data": {
      "text/plain": [
       "'veli'"
      ]
     },
     "execution_count": 35,
     "metadata": {},
     "output_type": "execute_result"
    }
   ],
   "source": [
    "# \"ali\"\n",
    "# \"deli\"\n",
    "# \"veli\""
   ]
  },
  {
   "cell_type": "code",
   "execution_count": 36,
   "id": "fd0b4b24",
   "metadata": {},
   "outputs": [
    {
     "name": "stdout",
     "output_type": "stream",
     "text": [
      "ali 33 deli\n"
     ]
    }
   ],
   "source": [
    "a = \"ali\"\n",
    "b = 33\n",
    "c = \"deli\"\n",
    "print(a, b, c)"
   ]
  },
  {
   "cell_type": "code",
   "execution_count": 38,
   "id": "342582ec",
   "metadata": {},
   "outputs": [],
   "source": [
    "x = \"\""
   ]
  },
  {
   "cell_type": "code",
   "execution_count": 39,
   "id": "8b0f20b4",
   "metadata": {},
   "outputs": [],
   "source": [
    "y = 0"
   ]
  },
  {
   "cell_type": "code",
   "execution_count": null,
   "id": "192485b9",
   "metadata": {},
   "outputs": [],
   "source": []
  }
 ],
 "metadata": {
  "kernelspec": {
   "display_name": "Python 3",
   "language": "python",
   "name": "python3"
  },
  "language_info": {
   "codemirror_mode": {
    "name": "ipython",
    "version": 3
   },
   "file_extension": ".py",
   "mimetype": "text/x-python",
   "name": "python",
   "nbconvert_exporter": "python",
   "pygments_lexer": "ipython3",
   "version": "3.8.8"
  }
 },
 "nbformat": 4,
 "nbformat_minor": 5
}
