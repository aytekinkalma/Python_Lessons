{
 "cells": [
  {
   "cell_type": "markdown",
   "id": "406f2981",
   "metadata": {},
   "source": [
    "<img src=\"https://docs.google.com/uc?id=14xeXxFrVRjvOoUYWn_GuyE-v84wVzrqr\" class=\"img-fluid\" alt=\"CLRWY\" width=\"400\" height=\"200\">"
   ]
  },
  {
   "cell_type": "markdown",
   "id": "22263af8",
   "metadata": {},
   "source": [
    "<h1><p style=\"text-align: center; color:darkblue\">Python In-Class, <br>31 January 2022</p><h1>"
   ]
  },
  {
   "cell_type": "code",
   "execution_count": 1,
   "id": "1d153218",
   "metadata": {},
   "outputs": [
    {
     "data": {
      "text/plain": [
       "['c', 'l', 'a', 'r', 'u', 's']"
      ]
     },
     "execution_count": 1,
     "metadata": {},
     "output_type": "execute_result"
    }
   ],
   "source": [
    "list(\"clarus\")"
   ]
  },
  {
   "cell_type": "code",
   "execution_count": 2,
   "id": "589c1e63",
   "metadata": {},
   "outputs": [],
   "source": [
    "a = [1, 2, 3]"
   ]
  },
  {
   "cell_type": "code",
   "execution_count": 3,
   "id": "3f714cbf",
   "metadata": {},
   "outputs": [
    {
     "data": {
      "text/plain": [
       "[1, 2, 3]"
      ]
     },
     "execution_count": 3,
     "metadata": {},
     "output_type": "execute_result"
    }
   ],
   "source": [
    "list(a)"
   ]
  },
  {
   "cell_type": "code",
   "execution_count": 4,
   "id": "a8be35d6",
   "metadata": {},
   "outputs": [
    {
     "ename": "TypeError",
     "evalue": "'int' object is not iterable",
     "output_type": "error",
     "traceback": [
      "\u001b[0;31m---------------------------------------------------------------------------\u001b[0m",
      "\u001b[0;31mTypeError\u001b[0m                                 Traceback (most recent call last)",
      "\u001b[0;32m<ipython-input-4-1d46027d1a4e>\u001b[0m in \u001b[0;36m<module>\u001b[0;34m\u001b[0m\n\u001b[0;32m----> 1\u001b[0;31m \u001b[0mlist\u001b[0m\u001b[0;34m(\u001b[0m\u001b[0;36m1234\u001b[0m\u001b[0;34m)\u001b[0m\u001b[0;34m\u001b[0m\u001b[0;34m\u001b[0m\u001b[0m\n\u001b[0m",
      "\u001b[0;31mTypeError\u001b[0m: 'int' object is not iterable"
     ]
    }
   ],
   "source": [
    "list(1234)"
   ]
  },
  {
   "cell_type": "code",
   "execution_count": 5,
   "id": "c8270c11",
   "metadata": {},
   "outputs": [
    {
     "ename": "TypeError",
     "evalue": "object of type 'int' has no len()",
     "output_type": "error",
     "traceback": [
      "\u001b[0;31m---------------------------------------------------------------------------\u001b[0m",
      "\u001b[0;31mTypeError\u001b[0m                                 Traceback (most recent call last)",
      "\u001b[0;32m<ipython-input-5-8f8f7f0ef280>\u001b[0m in \u001b[0;36m<module>\u001b[0;34m\u001b[0m\n\u001b[0;32m----> 1\u001b[0;31m \u001b[0mlen\u001b[0m\u001b[0;34m(\u001b[0m\u001b[0;36m1230\u001b[0m\u001b[0;34m)\u001b[0m\u001b[0;34m\u001b[0m\u001b[0;34m\u001b[0m\u001b[0m\n\u001b[0m",
      "\u001b[0;31mTypeError\u001b[0m: object of type 'int' has no len()"
     ]
    }
   ],
   "source": [
    "len(1230)"
   ]
  },
  {
   "cell_type": "code",
   "execution_count": 6,
   "id": "11a5ad46",
   "metadata": {},
   "outputs": [],
   "source": [
    "mesela = [[1,2,4], False, \"ali\", 11, [\"veli\", [\"deli\"]]]"
   ]
  },
  {
   "cell_type": "code",
   "execution_count": 7,
   "id": "371d98d8",
   "metadata": {},
   "outputs": [
    {
     "data": {
      "text/plain": [
       "5"
      ]
     },
     "execution_count": 7,
     "metadata": {},
     "output_type": "execute_result"
    }
   ],
   "source": [
    "len(mesela)"
   ]
  },
  {
   "cell_type": "code",
   "execution_count": 8,
   "id": "5d4d0ae7",
   "metadata": {},
   "outputs": [
    {
     "data": {
      "text/plain": [
       "1"
      ]
     },
     "execution_count": 8,
     "metadata": {},
     "output_type": "execute_result"
    }
   ],
   "source": [
    "len([[[\" \", 1,3]]])"
   ]
  },
  {
   "cell_type": "code",
   "execution_count": 9,
   "id": "48ce1bbd",
   "metadata": {},
   "outputs": [
    {
     "data": {
      "text/plain": [
       "[]"
      ]
     },
     "execution_count": 9,
     "metadata": {},
     "output_type": "execute_result"
    }
   ],
   "source": [
    "boş = []\n",
    "boş"
   ]
  },
  {
   "cell_type": "code",
   "execution_count": 10,
   "id": "9f965707",
   "metadata": {},
   "outputs": [
    {
     "data": {
      "text/plain": [
       "[]"
      ]
     },
     "execution_count": 10,
     "metadata": {},
     "output_type": "execute_result"
    }
   ],
   "source": [
    "boş2 = list()\n",
    "boş2"
   ]
  },
  {
   "cell_type": "code",
   "execution_count": null,
   "id": "1dd3832c",
   "metadata": {},
   "outputs": [],
   "source": [
    "\"ali deli veli\"."
   ]
  },
  {
   "cell_type": "code",
   "execution_count": 11,
   "id": "b0ca665d",
   "metadata": {},
   "outputs": [],
   "source": [
    "listem = []"
   ]
  },
  {
   "cell_type": "code",
   "execution_count": null,
   "id": "285d91fb",
   "metadata": {},
   "outputs": [],
   "source": [
    "listem."
   ]
  },
  {
   "cell_type": "code",
   "execution_count": 12,
   "id": "bceeeead",
   "metadata": {},
   "outputs": [],
   "source": [
    "listem.append(11)"
   ]
  },
  {
   "cell_type": "code",
   "execution_count": 14,
   "id": "1d81596d",
   "metadata": {},
   "outputs": [
    {
     "data": {
      "text/plain": [
       "'al+ del+ vel+'"
      ]
     },
     "execution_count": 14,
     "metadata": {},
     "output_type": "execute_result"
    }
   ],
   "source": [
    "\"ali deli veli\".replace(\"i\", \"+\")"
   ]
  },
  {
   "cell_type": "code",
   "execution_count": 15,
   "id": "e19624f3",
   "metadata": {},
   "outputs": [
    {
     "data": {
      "text/plain": [
       "[11]"
      ]
     },
     "execution_count": 15,
     "metadata": {},
     "output_type": "execute_result"
    }
   ],
   "source": [
    "listem"
   ]
  },
  {
   "cell_type": "code",
   "execution_count": 16,
   "id": "d21ec36f",
   "metadata": {},
   "outputs": [],
   "source": [
    "listem.append(22)"
   ]
  },
  {
   "cell_type": "code",
   "execution_count": 17,
   "id": "4ba86395",
   "metadata": {},
   "outputs": [
    {
     "data": {
      "text/plain": [
       "[11, 22]"
      ]
     },
     "execution_count": 17,
     "metadata": {},
     "output_type": "execute_result"
    }
   ],
   "source": [
    "listem"
   ]
  },
  {
   "cell_type": "code",
   "execution_count": 18,
   "id": "00972224",
   "metadata": {},
   "outputs": [
    {
     "data": {
      "text/plain": [
       "[11, 22, 33]"
      ]
     },
     "execution_count": 18,
     "metadata": {},
     "output_type": "execute_result"
    }
   ],
   "source": [
    "listem.append(33)\n",
    "listem"
   ]
  },
  {
   "cell_type": "code",
   "execution_count": 19,
   "id": "23343edf",
   "metadata": {},
   "outputs": [],
   "source": [
    "gardaşlar = [\"ali\", \"deli\"]"
   ]
  },
  {
   "cell_type": "code",
   "execution_count": 20,
   "id": "35e0c6ee",
   "metadata": {},
   "outputs": [
    {
     "data": {
      "text/plain": [
       "['ali', 'deli', 'veli']"
      ]
     },
     "execution_count": 20,
     "metadata": {},
     "output_type": "execute_result"
    }
   ],
   "source": [
    "gardaşlar.append(\"veli\")\n",
    "\n",
    "gardaşlar"
   ]
  },
  {
   "cell_type": "code",
   "execution_count": 21,
   "id": "35e84caf",
   "metadata": {},
   "outputs": [],
   "source": [
    "gardaşlar.append(True)"
   ]
  },
  {
   "cell_type": "code",
   "execution_count": 22,
   "id": "c5cef18c",
   "metadata": {},
   "outputs": [
    {
     "data": {
      "text/plain": [
       "['ali', 'deli', 'veli', True]"
      ]
     },
     "execution_count": 22,
     "metadata": {},
     "output_type": "execute_result"
    }
   ],
   "source": [
    "gardaşlar"
   ]
  },
  {
   "cell_type": "code",
   "execution_count": 23,
   "id": "55d06abf",
   "metadata": {},
   "outputs": [],
   "source": [
    "gardaşlar.append(3.14)"
   ]
  },
  {
   "cell_type": "code",
   "execution_count": 24,
   "id": "9066f5fe",
   "metadata": {},
   "outputs": [
    {
     "data": {
      "text/plain": [
       "['ali', 'deli', 'veli', True, 3.14]"
      ]
     },
     "execution_count": 24,
     "metadata": {},
     "output_type": "execute_result"
    }
   ],
   "source": [
    "gardaşlar"
   ]
  },
  {
   "cell_type": "code",
   "execution_count": 25,
   "id": "2328ce50",
   "metadata": {},
   "outputs": [
    {
     "data": {
      "text/plain": [
       "3.14"
      ]
     },
     "execution_count": 25,
     "metadata": {},
     "output_type": "execute_result"
    }
   ],
   "source": [
    "gardaşlar.pop()"
   ]
  },
  {
   "cell_type": "code",
   "execution_count": 26,
   "id": "c52d33b9",
   "metadata": {},
   "outputs": [
    {
     "data": {
      "text/plain": [
       "['ali', 'deli', 'veli', True]"
      ]
     },
     "execution_count": 26,
     "metadata": {},
     "output_type": "execute_result"
    }
   ],
   "source": [
    "gardaşlar"
   ]
  },
  {
   "cell_type": "code",
   "execution_count": 27,
   "id": "244edff6",
   "metadata": {},
   "outputs": [
    {
     "data": {
      "text/plain": [
       "True"
      ]
     },
     "execution_count": 27,
     "metadata": {},
     "output_type": "execute_result"
    }
   ],
   "source": [
    "gardaşlar.pop()"
   ]
  },
  {
   "cell_type": "code",
   "execution_count": 28,
   "id": "315658a7",
   "metadata": {},
   "outputs": [
    {
     "data": {
      "text/plain": [
       "['ali', 'deli', 'veli']"
      ]
     },
     "execution_count": 28,
     "metadata": {},
     "output_type": "execute_result"
    }
   ],
   "source": [
    "gardaşlar"
   ]
  },
  {
   "cell_type": "code",
   "execution_count": 29,
   "id": "c6350806",
   "metadata": {},
   "outputs": [
    {
     "data": {
      "text/plain": [
       "'deli'"
      ]
     },
     "execution_count": 29,
     "metadata": {},
     "output_type": "execute_result"
    }
   ],
   "source": [
    "gardaşlar.pop(1)"
   ]
  },
  {
   "cell_type": "code",
   "execution_count": 30,
   "id": "ec628144",
   "metadata": {},
   "outputs": [
    {
     "data": {
      "text/plain": [
       "['ali', 'veli']"
      ]
     },
     "execution_count": 30,
     "metadata": {},
     "output_type": "execute_result"
    }
   ],
   "source": [
    "gardaşlar"
   ]
  },
  {
   "cell_type": "code",
   "execution_count": 31,
   "id": "5b09a1f0",
   "metadata": {},
   "outputs": [],
   "source": [
    "gardaşlar.insert(1, \"deli\")"
   ]
  },
  {
   "cell_type": "code",
   "execution_count": 32,
   "id": "f577b5b9",
   "metadata": {},
   "outputs": [
    {
     "data": {
      "text/plain": [
       "['ali', 'deli', 'veli']"
      ]
     },
     "execution_count": 32,
     "metadata": {},
     "output_type": "execute_result"
    }
   ],
   "source": [
    "gardaşlar"
   ]
  },
  {
   "cell_type": "code",
   "execution_count": 33,
   "id": "f26de941",
   "metadata": {},
   "outputs": [],
   "source": [
    "sayılar = [1,2,3,4]"
   ]
  },
  {
   "cell_type": "code",
   "execution_count": 34,
   "id": "1c5eb1b0",
   "metadata": {},
   "outputs": [
    {
     "data": {
      "text/plain": [
       "[1, 2, 3, 5, 4]"
      ]
     },
     "execution_count": 34,
     "metadata": {},
     "output_type": "execute_result"
    }
   ],
   "source": [
    "sayılar.insert(3, 5)\n",
    "sayılar"
   ]
  },
  {
   "cell_type": "code",
   "execution_count": 35,
   "id": "3f407b46",
   "metadata": {},
   "outputs": [],
   "source": [
    "sayılar = [1,2,3,4]"
   ]
  },
  {
   "cell_type": "code",
   "execution_count": 36,
   "id": "233d815e",
   "metadata": {},
   "outputs": [
    {
     "data": {
      "text/plain": [
       "[1, 2, 3, 4, 5]"
      ]
     },
     "execution_count": 36,
     "metadata": {},
     "output_type": "execute_result"
    }
   ],
   "source": [
    "sayılar.insert(4, 5)\n",
    "sayılar"
   ]
  },
  {
   "cell_type": "code",
   "execution_count": 37,
   "id": "c0cea284",
   "metadata": {},
   "outputs": [
    {
     "data": {
      "text/plain": [
       "[[1, 2, 4], False, 'ali', 11, ['veli', ['deli']]]"
      ]
     },
     "execution_count": 37,
     "metadata": {},
     "output_type": "execute_result"
    }
   ],
   "source": [
    "mesela"
   ]
  },
  {
   "cell_type": "code",
   "execution_count": 38,
   "id": "b711b76a",
   "metadata": {},
   "outputs": [],
   "source": [
    "mesela.remove([1,2,4])"
   ]
  },
  {
   "cell_type": "code",
   "execution_count": 39,
   "id": "e9fcca43",
   "metadata": {},
   "outputs": [
    {
     "data": {
      "text/plain": [
       "[False, 'ali', 11, ['veli', ['deli']]]"
      ]
     },
     "execution_count": 39,
     "metadata": {},
     "output_type": "execute_result"
    }
   ],
   "source": [
    "mesela"
   ]
  },
  {
   "cell_type": "code",
   "execution_count": 40,
   "id": "ab3f558c",
   "metadata": {},
   "outputs": [],
   "source": [
    "yeni = [3,5,1,7,4]"
   ]
  },
  {
   "cell_type": "code",
   "execution_count": 41,
   "id": "faf50e65",
   "metadata": {},
   "outputs": [],
   "source": [
    "yeni.sort()"
   ]
  },
  {
   "cell_type": "code",
   "execution_count": 42,
   "id": "f649ff7e",
   "metadata": {},
   "outputs": [
    {
     "data": {
      "text/plain": [
       "[1, 3, 4, 5, 7]"
      ]
     },
     "execution_count": 42,
     "metadata": {},
     "output_type": "execute_result"
    }
   ],
   "source": [
    "yeni"
   ]
  },
  {
   "cell_type": "code",
   "execution_count": 43,
   "id": "47c6fcdc",
   "metadata": {},
   "outputs": [],
   "source": [
    "eski = [\"behçet\", \"cavidan\", \"ali\", \"deli\", \"veli\"]"
   ]
  },
  {
   "cell_type": "code",
   "execution_count": 44,
   "id": "a3f9b284",
   "metadata": {},
   "outputs": [],
   "source": [
    "eski.sort()"
   ]
  },
  {
   "cell_type": "code",
   "execution_count": 45,
   "id": "294bd3f9",
   "metadata": {},
   "outputs": [
    {
     "data": {
      "text/plain": [
       "['ali', 'behçet', 'cavidan', 'deli', 'veli']"
      ]
     },
     "execution_count": 45,
     "metadata": {},
     "output_type": "execute_result"
    }
   ],
   "source": [
    "eski"
   ]
  },
  {
   "cell_type": "code",
   "execution_count": 46,
   "id": "29239dd6",
   "metadata": {},
   "outputs": [],
   "source": [
    "list_1 = ['one', 'four', 'nine']"
   ]
  },
  {
   "cell_type": "code",
   "execution_count": 47,
   "id": "196ec873",
   "metadata": {},
   "outputs": [],
   "source": [
    "list_1.sort()"
   ]
  },
  {
   "cell_type": "code",
   "execution_count": 48,
   "id": "2d77d406",
   "metadata": {},
   "outputs": [
    {
     "data": {
      "text/plain": [
       "['four', 'nine', 'one']"
      ]
     },
     "execution_count": 48,
     "metadata": {},
     "output_type": "execute_result"
    }
   ],
   "source": [
    "list_1"
   ]
  },
  {
   "cell_type": "code",
   "execution_count": 49,
   "id": "fbfffb89",
   "metadata": {},
   "outputs": [],
   "source": [
    "list_1.sort(reverse=True)"
   ]
  },
  {
   "cell_type": "code",
   "execution_count": 50,
   "id": "10ff7d3e",
   "metadata": {},
   "outputs": [
    {
     "data": {
      "text/plain": [
       "['one', 'nine', 'four']"
      ]
     },
     "execution_count": 50,
     "metadata": {},
     "output_type": "execute_result"
    }
   ],
   "source": [
    "list_1"
   ]
  },
  {
   "cell_type": "code",
   "execution_count": 51,
   "id": "8b3652f5",
   "metadata": {},
   "outputs": [],
   "source": [
    "list_2 = ['@', '*-', 'False']"
   ]
  },
  {
   "cell_type": "code",
   "execution_count": 52,
   "id": "52b3987c",
   "metadata": {},
   "outputs": [],
   "source": [
    "list_2.sort()"
   ]
  },
  {
   "cell_type": "code",
   "execution_count": 53,
   "id": "b9a6f04c",
   "metadata": {},
   "outputs": [
    {
     "data": {
      "text/plain": [
       "['*-', '@', 'False']"
      ]
     },
     "execution_count": 53,
     "metadata": {},
     "output_type": "execute_result"
    }
   ],
   "source": [
    "list_2"
   ]
  },
  {
   "cell_type": "code",
   "execution_count": 54,
   "id": "ad34b434",
   "metadata": {},
   "outputs": [
    {
     "data": {
      "text/plain": [
       "42"
      ]
     },
     "execution_count": 54,
     "metadata": {},
     "output_type": "execute_result"
    }
   ],
   "source": [
    "ord(\"*\")"
   ]
  },
  {
   "cell_type": "code",
   "execution_count": 55,
   "id": "95ff4073",
   "metadata": {},
   "outputs": [
    {
     "data": {
      "text/plain": [
       "64"
      ]
     },
     "execution_count": 55,
     "metadata": {},
     "output_type": "execute_result"
    }
   ],
   "source": [
    "ord(\"@\")"
   ]
  },
  {
   "cell_type": "code",
   "execution_count": 56,
   "id": "4e6caa96",
   "metadata": {},
   "outputs": [
    {
     "data": {
      "text/plain": [
       "70"
      ]
     },
     "execution_count": 56,
     "metadata": {},
     "output_type": "execute_result"
    }
   ],
   "source": [
    "ord(\"F\")"
   ]
  },
  {
   "cell_type": "code",
   "execution_count": 57,
   "id": "d5121bb3",
   "metadata": {},
   "outputs": [],
   "source": [
    "list_3 = [True, False]"
   ]
  },
  {
   "cell_type": "code",
   "execution_count": 58,
   "id": "bbc4706a",
   "metadata": {},
   "outputs": [],
   "source": [
    "list_3.sort()"
   ]
  },
  {
   "cell_type": "code",
   "execution_count": 59,
   "id": "f673ba47",
   "metadata": {},
   "outputs": [
    {
     "data": {
      "text/plain": [
       "[False, True]"
      ]
     },
     "execution_count": 59,
     "metadata": {},
     "output_type": "execute_result"
    }
   ],
   "source": [
    "list_3"
   ]
  },
  {
   "cell_type": "code",
   "execution_count": 60,
   "id": "13bc2a09",
   "metadata": {},
   "outputs": [
    {
     "data": {
      "text/plain": [
       "49"
      ]
     },
     "execution_count": 60,
     "metadata": {},
     "output_type": "execute_result"
    }
   ],
   "source": [
    "ord(\"1\")"
   ]
  },
  {
   "cell_type": "code",
   "execution_count": 61,
   "id": "7b7b3901",
   "metadata": {},
   "outputs": [],
   "source": [
    "list_4 = [[3], [44], [-12]]"
   ]
  },
  {
   "cell_type": "code",
   "execution_count": 62,
   "id": "660087b5",
   "metadata": {},
   "outputs": [],
   "source": [
    "list_4.sort()"
   ]
  },
  {
   "cell_type": "code",
   "execution_count": 63,
   "id": "5353f3fd",
   "metadata": {},
   "outputs": [
    {
     "data": {
      "text/plain": [
       "[[-12], [3], [44]]"
      ]
     },
     "execution_count": 63,
     "metadata": {},
     "output_type": "execute_result"
    }
   ],
   "source": [
    "list_4"
   ]
  },
  {
   "cell_type": "code",
   "execution_count": 64,
   "id": "8c00f65d",
   "metadata": {},
   "outputs": [],
   "source": [
    "list_5 = [[1, 3], [44, -40], [-12, 1]]"
   ]
  },
  {
   "cell_type": "code",
   "execution_count": 65,
   "id": "4e9693fc",
   "metadata": {},
   "outputs": [],
   "source": [
    "list_5.sort()"
   ]
  },
  {
   "cell_type": "code",
   "execution_count": 66,
   "id": "31b3b89b",
   "metadata": {},
   "outputs": [
    {
     "data": {
      "text/plain": [
       "[[-12, 1], [1, 3], [44, -40]]"
      ]
     },
     "execution_count": 66,
     "metadata": {},
     "output_type": "execute_result"
    }
   ],
   "source": [
    "list_5"
   ]
  },
  {
   "cell_type": "code",
   "execution_count": 67,
   "id": "667a2d96",
   "metadata": {},
   "outputs": [
    {
     "data": {
      "text/plain": [
       "70"
      ]
     },
     "execution_count": 67,
     "metadata": {},
     "output_type": "execute_result"
    }
   ],
   "source": [
    "70"
   ]
  },
  {
   "cell_type": "code",
   "execution_count": 68,
   "id": "260412b2",
   "metadata": {},
   "outputs": [
    {
     "data": {
      "text/plain": [
       "'F'"
      ]
     },
     "execution_count": 68,
     "metadata": {},
     "output_type": "execute_result"
    }
   ],
   "source": [
    "chr(70)"
   ]
  },
  {
   "cell_type": "code",
   "execution_count": 69,
   "id": "9eb1d96e",
   "metadata": {},
   "outputs": [
    {
     "data": {
      "text/plain": [
       "'ƻ'"
      ]
     },
     "execution_count": 69,
     "metadata": {},
     "output_type": "execute_result"
    }
   ],
   "source": [
    "chr(443)"
   ]
  },
  {
   "cell_type": "code",
   "execution_count": null,
   "id": "398f67ed",
   "metadata": {},
   "outputs": [],
   "source": []
  }
 ],
 "metadata": {
  "kernelspec": {
   "display_name": "Python 3",
   "language": "python",
   "name": "python3"
  },
  "language_info": {
   "codemirror_mode": {
    "name": "ipython",
    "version": 3
   },
   "file_extension": ".py",
   "mimetype": "text/x-python",
   "name": "python",
   "nbconvert_exporter": "python",
   "pygments_lexer": "ipython3",
   "version": "3.8.8"
  }
 },
 "nbformat": 4,
 "nbformat_minor": 5
}
