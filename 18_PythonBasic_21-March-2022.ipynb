{
 "cells": [
  {
   "cell_type": "markdown",
   "id": "406f2981",
   "metadata": {},
   "source": [
    "<img src=\"https://docs.google.com/uc?id=14xeXxFrVRjvOoUYWn_GuyE-v84wVzrqr\" class=\"img-fluid\" alt=\"CLRWY\" width=\"400\" height=\"200\">"
   ]
  },
  {
   "cell_type": "markdown",
   "id": "22263af8",
   "metadata": {},
   "source": [
    "<h1><p style=\"text-align: center; color:darkblue\">Python In-Class, <br>21 March 2022</p><h1>"
   ]
  },
  {
   "cell_type": "code",
   "execution_count": 1,
   "id": "8b8081f7",
   "metadata": {},
   "outputs": [],
   "source": [
    "vowel_list = ['a', 'e', 'i', 'o', 'u']\n",
    "first_ten = ['a', 'b', 'c', 'd', 'e', 'f', 'g', 'h', 'i', 'j']"
   ]
  },
  {
   "cell_type": "code",
   "execution_count": 2,
   "id": "79fb14e2",
   "metadata": {},
   "outputs": [],
   "source": [
    "#fonk = lambda x : True if x in vowel_list else False\n",
    "\n",
    "vowels = filter(lambda x : True if x in vowel_list else False, first_ten)"
   ]
  },
  {
   "cell_type": "code",
   "execution_count": 3,
   "id": "caa85c5e",
   "metadata": {},
   "outputs": [
    {
     "data": {
      "text/plain": [
       "['a', 'e', 'i']"
      ]
     },
     "execution_count": 3,
     "metadata": {},
     "output_type": "execute_result"
    }
   ],
   "source": [
    "list(vowels)"
   ]
  },
  {
   "cell_type": "code",
   "execution_count": 4,
   "id": "32076cd7",
   "metadata": {},
   "outputs": [],
   "source": [
    "vowels = filter(lambda x : x in vowel_list, first_ten)"
   ]
  },
  {
   "cell_type": "code",
   "execution_count": 5,
   "id": "6b27304a",
   "metadata": {},
   "outputs": [
    {
     "data": {
      "text/plain": [
       "['a', 'e', 'i']"
      ]
     },
     "execution_count": 5,
     "metadata": {},
     "output_type": "execute_result"
    }
   ],
   "source": [
    "list(vowels)"
   ]
  },
  {
   "cell_type": "code",
   "execution_count": 7,
   "id": "731ac93d",
   "metadata": {},
   "outputs": [],
   "source": [
    "def modular(n) :\n",
    "    return lambda x : x ** n"
   ]
  },
  {
   "cell_type": "code",
   "execution_count": 8,
   "id": "af55adaf",
   "metadata": {},
   "outputs": [],
   "source": [
    "kupunual = modular(3)"
   ]
  },
  {
   "cell_type": "code",
   "execution_count": 9,
   "id": "635856f8",
   "metadata": {},
   "outputs": [
    {
     "data": {
      "text/plain": [
       "<function __main__.modular.<locals>.<lambda>(x)>"
      ]
     },
     "execution_count": 9,
     "metadata": {},
     "output_type": "execute_result"
    }
   ],
   "source": [
    "kupunual"
   ]
  },
  {
   "cell_type": "code",
   "execution_count": 10,
   "id": "12a2aed7",
   "metadata": {},
   "outputs": [
    {
     "data": {
      "text/plain": [
       "<function __main__.<lambda>(x)>"
      ]
     },
     "execution_count": 10,
     "metadata": {},
     "output_type": "execute_result"
    }
   ],
   "source": [
    "lambda x : x ** 3"
   ]
  },
  {
   "cell_type": "code",
   "execution_count": 11,
   "id": "4dc864e6",
   "metadata": {},
   "outputs": [
    {
     "data": {
      "text/plain": [
       "64"
      ]
     },
     "execution_count": 11,
     "metadata": {},
     "output_type": "execute_result"
    }
   ],
   "source": [
    "(lambda x : x ** 3)(4)"
   ]
  },
  {
   "cell_type": "code",
   "execution_count": 12,
   "id": "d9b811a3",
   "metadata": {},
   "outputs": [
    {
     "data": {
      "text/plain": [
       "64"
      ]
     },
     "execution_count": 12,
     "metadata": {},
     "output_type": "execute_result"
    }
   ],
   "source": [
    "kupunual(4)"
   ]
  },
  {
   "cell_type": "code",
   "execution_count": 14,
   "id": "61093a9a",
   "metadata": {},
   "outputs": [],
   "source": [
    "def functioner(emoji = None) :\n",
    "    return lambda message : print(message, emoji)"
   ]
  },
  {
   "cell_type": "code",
   "execution_count": 13,
   "id": "549d1e12",
   "metadata": {},
   "outputs": [
    {
     "name": "stdout",
     "output_type": "stream",
     "text": [
      "ali :)\n"
     ]
    }
   ],
   "source": [
    "print(\"ali\", \":)\")"
   ]
  },
  {
   "cell_type": "code",
   "execution_count": 15,
   "id": "e95e8b97",
   "metadata": {},
   "outputs": [],
   "source": [
    "gulen_yuz = functioner(\":)\")"
   ]
  },
  {
   "cell_type": "code",
   "execution_count": 17,
   "id": "98884719",
   "metadata": {},
   "outputs": [
    {
     "name": "stdout",
     "output_type": "stream",
     "text": [
      "ali :)\n"
     ]
    }
   ],
   "source": [
    "gulen_yuz(\"ali\")"
   ]
  },
  {
   "cell_type": "code",
   "execution_count": 18,
   "id": "6c870619",
   "metadata": {},
   "outputs": [
    {
     "name": "stdout",
     "output_type": "stream",
     "text": [
      "[1, 2, 3] :)\n"
     ]
    }
   ],
   "source": [
    "gulen_yuz([1,2,3])"
   ]
  },
  {
   "cell_type": "code",
   "execution_count": 19,
   "id": "3a57cdaf",
   "metadata": {},
   "outputs": [],
   "source": [
    "uzgun_yuz = functioner(\":(\")"
   ]
  },
  {
   "cell_type": "code",
   "execution_count": 20,
   "id": "a7003391",
   "metadata": {},
   "outputs": [
    {
     "data": {
      "text/plain": [
       "<function __main__.functioner.<locals>.<lambda>(message)>"
      ]
     },
     "execution_count": 20,
     "metadata": {},
     "output_type": "execute_result"
    }
   ],
   "source": [
    "uzgun_yuz"
   ]
  },
  {
   "cell_type": "code",
   "execution_count": 21,
   "id": "184fc0d5",
   "metadata": {},
   "outputs": [
    {
     "name": "stdout",
     "output_type": "stream",
     "text": [
      "66 :(\n"
     ]
    }
   ],
   "source": [
    "uzgun_yuz(66)"
   ]
  },
  {
   "cell_type": "code",
   "execution_count": 22,
   "id": "07c26592",
   "metadata": {},
   "outputs": [
    {
     "name": "stdout",
     "output_type": "stream",
     "text": [
      "66 :(\n"
     ]
    }
   ],
   "source": [
    "(lambda x : print(x, \":(\"))(66)"
   ]
  },
  {
   "cell_type": "markdown",
   "id": "dd4e38ec",
   "metadata": {},
   "source": [
    "```python\n",
    "ali_print() --> print()\n",
    "ali_max() --> max()\n",
    "ali_bool() --> bool()\n",
    "ali_sorted() --> sorted()\n",
    "```"
   ]
  },
  {
   "cell_type": "code",
   "execution_count": 23,
   "id": "ab8693bd",
   "metadata": {},
   "outputs": [
    {
     "name": "stdout",
     "output_type": "stream",
     "text": [
      "ali deli veli\n"
     ]
    }
   ],
   "source": [
    "(lambda x : print(x))(\"ali deli veli\")"
   ]
  },
  {
   "cell_type": "code",
   "execution_count": 25,
   "id": "f1d51b07",
   "metadata": {},
   "outputs": [
    {
     "data": {
      "text/plain": [
       "3"
      ]
     },
     "execution_count": 25,
     "metadata": {},
     "output_type": "execute_result"
    }
   ],
   "source": [
    "(lambda x : max(x))((1,2,3))"
   ]
  },
  {
   "cell_type": "code",
   "execution_count": 26,
   "id": "fc260006",
   "metadata": {},
   "outputs": [
    {
     "data": {
      "text/plain": [
       "[1, 3, 5]"
      ]
     },
     "execution_count": 26,
     "metadata": {},
     "output_type": "execute_result"
    }
   ],
   "source": [
    "(lambda x : sorted(x))((3,5,1))"
   ]
  },
  {
   "cell_type": "code",
   "execution_count": 27,
   "id": "db8a775a",
   "metadata": {},
   "outputs": [],
   "source": [
    "def function_generator(function_name) :\n",
    "    return lambda x : function_name(x)"
   ]
  },
  {
   "cell_type": "code",
   "execution_count": 28,
   "id": "5aac5e7b",
   "metadata": {},
   "outputs": [],
   "source": [
    "benim_print = function_generator(print)"
   ]
  },
  {
   "cell_type": "code",
   "execution_count": 30,
   "id": "5f7c1c69",
   "metadata": {},
   "outputs": [
    {
     "name": "stdout",
     "output_type": "stream",
     "text": [
      "99\n"
     ]
    }
   ],
   "source": [
    "benim_print(99)"
   ]
  },
  {
   "cell_type": "code",
   "execution_count": 31,
   "id": "98f41de7",
   "metadata": {},
   "outputs": [],
   "source": [
    "joseph_max = function_generator(max)"
   ]
  },
  {
   "cell_type": "code",
   "execution_count": 32,
   "id": "38c3f107",
   "metadata": {},
   "outputs": [],
   "source": [
    "joseph_sorted = function_generator(sorted)"
   ]
  },
  {
   "cell_type": "code",
   "execution_count": 33,
   "id": "bacd930d",
   "metadata": {},
   "outputs": [],
   "source": [
    "joseph_bool = function_generator(bool)"
   ]
  },
  {
   "cell_type": "code",
   "execution_count": 34,
   "id": "dfc0dfc7",
   "metadata": {},
   "outputs": [
    {
     "data": {
      "text/plain": [
       "True"
      ]
     },
     "execution_count": 34,
     "metadata": {},
     "output_type": "execute_result"
    }
   ],
   "source": [
    "joseph_bool(1)"
   ]
  },
  {
   "cell_type": "code",
   "execution_count": 35,
   "id": "df0a03a0",
   "metadata": {},
   "outputs": [],
   "source": [
    "def x() :\n",
    "    return 1, 2, 3, 4"
   ]
  },
  {
   "cell_type": "code",
   "execution_count": 36,
   "id": "858380cb",
   "metadata": {},
   "outputs": [
    {
     "data": {
      "text/plain": [
       "tuple"
      ]
     },
     "execution_count": 36,
     "metadata": {},
     "output_type": "execute_result"
    }
   ],
   "source": [
    "type(x())"
   ]
  },
  {
   "cell_type": "code",
   "execution_count": null,
   "id": "8e8161ec",
   "metadata": {},
   "outputs": [],
   "source": [
    "a, b, c, d = x()"
   ]
  },
  {
   "cell_type": "code",
   "execution_count": 38,
   "id": "90c9c332",
   "metadata": {},
   "outputs": [],
   "source": [
    "num = [1, 4, 4]"
   ]
  },
  {
   "cell_type": "code",
   "execution_count": 39,
   "id": "ff35b130",
   "metadata": {},
   "outputs": [
    {
     "data": {
      "text/plain": [
       "1"
      ]
     },
     "execution_count": 39,
     "metadata": {},
     "output_type": "execute_result"
    }
   ],
   "source": [
    "num.count(1)"
   ]
  },
  {
   "cell_type": "code",
   "execution_count": 40,
   "id": "4a373441",
   "metadata": {},
   "outputs": [
    {
     "data": {
      "text/plain": [
       "2"
      ]
     },
     "execution_count": 40,
     "metadata": {},
     "output_type": "execute_result"
    }
   ],
   "source": [
    "num.count(4)"
   ]
  },
  {
   "cell_type": "code",
   "execution_count": 41,
   "id": "ff1f95b2",
   "metadata": {},
   "outputs": [
    {
     "data": {
      "text/plain": [
       "4"
      ]
     },
     "execution_count": 41,
     "metadata": {},
     "output_type": "execute_result"
    }
   ],
   "source": [
    "max(num, key = num.count)"
   ]
  },
  {
   "cell_type": "code",
   "execution_count": 42,
   "id": "9a845a63",
   "metadata": {},
   "outputs": [
    {
     "data": {
      "text/plain": [
       "2"
      ]
     },
     "execution_count": 42,
     "metadata": {},
     "output_type": "execute_result"
    }
   ],
   "source": [
    "tekrar_sayısı = num.count(max(num, key = num.count))\n",
    "tekrar_sayısı"
   ]
  },
  {
   "cell_type": "code",
   "execution_count": 43,
   "id": "dd917be7",
   "metadata": {},
   "outputs": [
    {
     "data": {
      "text/plain": [
       "1"
      ]
     },
     "execution_count": 43,
     "metadata": {},
     "output_type": "execute_result"
    }
   ],
   "source": [
    "num = [1,2,3]\n",
    "tekrar_sayısı = num.count(max(num, key = num.count))\n",
    "tekrar_sayısı"
   ]
  },
  {
   "cell_type": "markdown",
   "id": "af92b7c8",
   "metadata": {},
   "source": [
    "```python\n",
    "equal(1,4,4) --> 2\n",
    "equal(4,4,4) --> 3\n",
    "equal(1,2,3) --> 0\n",
    "```"
   ]
  },
  {
   "cell_type": "code",
   "execution_count": 44,
   "id": "4d23531b",
   "metadata": {},
   "outputs": [],
   "source": [
    "def equal(a, b, c) :\n",
    "    num = [a, b, c]\n",
    "    sonuc = num.count(max(num, key = num.count))\n",
    "    \n",
    "    if sonuc > 1 :\n",
    "        return sonuc\n",
    "    else :\n",
    "        return 0"
   ]
  },
  {
   "cell_type": "code",
   "execution_count": 45,
   "id": "83d3f70a",
   "metadata": {},
   "outputs": [
    {
     "data": {
      "text/plain": [
       "0"
      ]
     },
     "execution_count": 45,
     "metadata": {},
     "output_type": "execute_result"
    }
   ],
   "source": [
    "equal(1,2,3)"
   ]
  },
  {
   "cell_type": "code",
   "execution_count": 46,
   "id": "46ead040",
   "metadata": {},
   "outputs": [
    {
     "data": {
      "text/plain": [
       "2"
      ]
     },
     "execution_count": 46,
     "metadata": {},
     "output_type": "execute_result"
    }
   ],
   "source": [
    "equal(1,4,4)"
   ]
  },
  {
   "cell_type": "code",
   "execution_count": 47,
   "id": "5310aeb6",
   "metadata": {},
   "outputs": [
    {
     "data": {
      "text/plain": [
       "3"
      ]
     },
     "execution_count": 47,
     "metadata": {},
     "output_type": "execute_result"
    }
   ],
   "source": [
    "equal(4,4,4)"
   ]
  },
  {
   "cell_type": "code",
   "execution_count": 48,
   "id": "add35785",
   "metadata": {},
   "outputs": [],
   "source": [
    "def equall(* arg) :\n",
    "    num = list(arg)\n",
    "    sonuc = num.count(max(num, key = num.count))\n",
    "    \n",
    "    if sonuc > 1 :\n",
    "        return sonuc\n",
    "    else :\n",
    "        return 0"
   ]
  },
  {
   "cell_type": "code",
   "execution_count": 49,
   "id": "b950eadd",
   "metadata": {},
   "outputs": [
    {
     "data": {
      "text/plain": [
       "3"
      ]
     },
     "execution_count": 49,
     "metadata": {},
     "output_type": "execute_result"
    }
   ],
   "source": [
    "equall(1,1,1,2,2,3)"
   ]
  },
  {
   "cell_type": "code",
   "execution_count": null,
   "id": "7c026df2",
   "metadata": {},
   "outputs": [],
   "source": [
    "[x, y, z]"
   ]
  },
  {
   "cell_type": "code",
   "execution_count": null,
   "id": "f2efcdac",
   "metadata": {},
   "outputs": [],
   "source": [
    "lambda x, y, z : sonuc"
   ]
  },
  {
   "cell_type": "code",
   "execution_count": 53,
   "id": "122329f8",
   "metadata": {},
   "outputs": [],
   "source": [
    "equalambda = lambda x, y, z : [x,y,z].count(max([x,y,z], key = [x,y,z].count))\\\n",
    "if [x,y,z].count(max([x,y,z], key = [x,y,z].count)) > 1 else 0"
   ]
  },
  {
   "cell_type": "code",
   "execution_count": 54,
   "id": "10cef70d",
   "metadata": {},
   "outputs": [
    {
     "data": {
      "text/plain": [
       "0"
      ]
     },
     "execution_count": 54,
     "metadata": {},
     "output_type": "execute_result"
    }
   ],
   "source": [
    "equalambda(1,2,3)"
   ]
  },
  {
   "cell_type": "code",
   "execution_count": 55,
   "id": "816ce1c8",
   "metadata": {},
   "outputs": [],
   "source": [
    "equalambdaa = lambda *x : list(x).count(max(list(x), key = list(x).count))\\\n",
    "if list(x).count(max(list(x), key = list(x).count)) > 1 else 0"
   ]
  },
  {
   "cell_type": "code",
   "execution_count": 56,
   "id": "4f0d5a01",
   "metadata": {},
   "outputs": [
    {
     "data": {
      "text/plain": [
       "3"
      ]
     },
     "execution_count": 56,
     "metadata": {},
     "output_type": "execute_result"
    }
   ],
   "source": [
    "equalambdaa(1,1,1,2,2,3)"
   ]
  },
  {
   "cell_type": "code",
   "execution_count": null,
   "id": "a933d5ce",
   "metadata": {},
   "outputs": [],
   "source": []
  }
 ],
 "metadata": {
  "kernelspec": {
   "display_name": "Python 3",
   "language": "python",
   "name": "python3"
  },
  "language_info": {
   "codemirror_mode": {
    "name": "ipython",
    "version": 3
   },
   "file_extension": ".py",
   "mimetype": "text/x-python",
   "name": "python",
   "nbconvert_exporter": "python",
   "pygments_lexer": "ipython3",
   "version": "3.8.8"
  }
 },
 "nbformat": 4,
 "nbformat_minor": 5
}
